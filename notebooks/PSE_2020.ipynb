{
  "cells": [
    {
      "cell_type": "markdown",
      "metadata": {},
      "source": [
        "## Pesquisa Sócio Econômica 2020 - Passos Mágicos"
      ]
    },
    {
      "cell_type": "code",
      "execution_count": 26,
      "metadata": {
        "id": "K_oCiF87xTLK"
      },
      "outputs": [],
      "source": [
        "import pandas as pd\n",
        "import numpy as np\n",
        "import matplotlib.pyplot as plt\n",
        "import plotly.express as px\n",
        "from plotly import graph_objs as go\n",
        "from pywaffle import Waffle"
      ]
    },
    {
      "cell_type": "markdown",
      "metadata": {
        "id": "1v6n8I-ex6uq"
      },
      "source": [
        "### **Explorando os dados**"
      ]
    },
    {
      "cell_type": "markdown",
      "metadata": {},
      "source": [
        "Analisando os dados da Pesquisa Sócio Econômica da Passos Mágicos na ano de 2020. A pesquisa compilada foram das pessoas responsáveis pelo domicílio."
      ]
    },
    {
      "cell_type": "code",
      "execution_count": 2,
      "metadata": {
        "id": "C3HyHhd9xX0u"
      },
      "outputs": [],
      "source": [
        "df = pd.read_excel(\"../dados/PSE2020_domicílios.xlsx\", sheet_name = \"PSE2020_domicílios\")"
      ]
    },
    {
      "cell_type": "code",
      "execution_count": 3,
      "metadata": {},
      "outputs": [
        {
          "data": {
            "text/html": [
              "<div>\n",
              "<style scoped>\n",
              "    .dataframe tbody tr th:only-of-type {\n",
              "        vertical-align: middle;\n",
              "    }\n",
              "\n",
              "    .dataframe tbody tr th {\n",
              "        vertical-align: top;\n",
              "    }\n",
              "\n",
              "    .dataframe thead th {\n",
              "        text-align: right;\n",
              "    }\n",
              "</style>\n",
              "<table border=\"1\" class=\"dataframe\">\n",
              "  <thead>\n",
              "    <tr style=\"text-align: right;\">\n",
              "      <th></th>\n",
              "      <th>V010</th>\n",
              "      <th>V100_first</th>\n",
              "      <th>V104_max</th>\n",
              "      <th>V101_first</th>\n",
              "      <th>V102_first</th>\n",
              "      <th>V106_first</th>\n",
              "      <th>D1601_sum</th>\n",
              "      <th>D1602_sum</th>\n",
              "      <th>D1603_sum</th>\n",
              "      <th>D1604D</th>\n",
              "      <th>...</th>\n",
              "      <th>V511_first</th>\n",
              "      <th>V512_first</th>\n",
              "      <th>V513_first</th>\n",
              "      <th>V514_first</th>\n",
              "      <th>V515_first</th>\n",
              "      <th>V516_first</th>\n",
              "      <th>V517_first</th>\n",
              "      <th>V518_first</th>\n",
              "      <th>V519_first</th>\n",
              "      <th>filter_$</th>\n",
              "    </tr>\n",
              "  </thead>\n",
              "  <tbody>\n",
              "    <tr>\n",
              "      <th>0</th>\n",
              "      <td>2020A1000</td>\n",
              "      <td>2020</td>\n",
              "      <td>4</td>\n",
              "      <td>Jéssica</td>\n",
              "      <td>Centro</td>\n",
              "      <td>Pessoa responsável pelo domicílio</td>\n",
              "      <td>1</td>\n",
              "      <td>0</td>\n",
              "      <td>2</td>\n",
              "      <td>Com Cônjuge</td>\n",
              "      <td>...</td>\n",
              "      <td>Alugado</td>\n",
              "      <td>3</td>\n",
              "      <td>Não</td>\n",
              "      <td>Sim</td>\n",
              "      <td>Sim, somente de tela fina (LED, LCD ou plasma)</td>\n",
              "      <td>Não</td>\n",
              "      <td>Sim</td>\n",
              "      <td>Sim</td>\n",
              "      <td>Sim</td>\n",
              "      <td>Not Selected</td>\n",
              "    </tr>\n",
              "    <tr>\n",
              "      <th>1</th>\n",
              "      <td>2020A1001</td>\n",
              "      <td>2020</td>\n",
              "      <td>4</td>\n",
              "      <td>Jéssica</td>\n",
              "      <td>Centro</td>\n",
              "      <td>Pessoa responsável pelo domicílio</td>\n",
              "      <td>1</td>\n",
              "      <td>0</td>\n",
              "      <td>1</td>\n",
              "      <td>Com Cônjuge</td>\n",
              "      <td>...</td>\n",
              "      <td>Próprio de algum morador - já pago</td>\n",
              "      <td>4</td>\n",
              "      <td>Não</td>\n",
              "      <td>Sim</td>\n",
              "      <td>Sim, somente de tela fina (LED, LCD ou plasma)</td>\n",
              "      <td>Sim</td>\n",
              "      <td>Sim</td>\n",
              "      <td>Sim</td>\n",
              "      <td>Não</td>\n",
              "      <td>Not Selected</td>\n",
              "    </tr>\n",
              "    <tr>\n",
              "      <th>2</th>\n",
              "      <td>2020A1002</td>\n",
              "      <td>2020</td>\n",
              "      <td>3</td>\n",
              "      <td>Jéssica</td>\n",
              "      <td>Centro</td>\n",
              "      <td>Pessoa responsável pelo domicílio</td>\n",
              "      <td>0</td>\n",
              "      <td>0</td>\n",
              "      <td>2</td>\n",
              "      <td>Sem Cônjuge</td>\n",
              "      <td>...</td>\n",
              "      <td>Próprio de algum morador - já pago</td>\n",
              "      <td>2</td>\n",
              "      <td>Sim</td>\n",
              "      <td>Sim</td>\n",
              "      <td>Sim, somente de tela fina (LED, LCD ou plasma)</td>\n",
              "      <td>Sim</td>\n",
              "      <td>Sim</td>\n",
              "      <td>Sim</td>\n",
              "      <td>Sim</td>\n",
              "      <td>Not Selected</td>\n",
              "    </tr>\n",
              "  </tbody>\n",
              "</table>\n",
              "<p>3 rows × 81 columns</p>\n",
              "</div>"
            ],
            "text/plain": [
              "        V010  V100_first  V104_max V101_first V102_first  \\\n",
              "0  2020A1000        2020         4    Jéssica     Centro   \n",
              "1  2020A1001        2020         4    Jéssica     Centro   \n",
              "2  2020A1002        2020         3    Jéssica     Centro   \n",
              "\n",
              "                          V106_first  D1601_sum  D1602_sum  D1603_sum  \\\n",
              "0  Pessoa responsável pelo domicílio          1          0          2   \n",
              "1  Pessoa responsável pelo domicílio          1          0          1   \n",
              "2  Pessoa responsável pelo domicílio          0          0          2   \n",
              "\n",
              "        D1604D  ...                          V511_first V512_first V513_first  \\\n",
              "0  Com Cônjuge  ...                             Alugado          3        Não   \n",
              "1  Com Cônjuge  ...  Próprio de algum morador - já pago          4        Não   \n",
              "2  Sem Cônjuge  ...  Próprio de algum morador - já pago          2        Sim   \n",
              "\n",
              "   V514_first                                      V515_first  V516_first  \\\n",
              "0         Sim  Sim, somente de tela fina (LED, LCD ou plasma)         Não   \n",
              "1         Sim  Sim, somente de tela fina (LED, LCD ou plasma)         Sim   \n",
              "2         Sim  Sim, somente de tela fina (LED, LCD ou plasma)         Sim   \n",
              "\n",
              "  V517_first V518_first  V519_first      filter_$  \n",
              "0        Sim        Sim         Sim  Not Selected  \n",
              "1        Sim        Sim         Não  Not Selected  \n",
              "2        Sim        Sim         Sim  Not Selected  \n",
              "\n",
              "[3 rows x 81 columns]"
            ]
          },
          "execution_count": 3,
          "metadata": {},
          "output_type": "execute_result"
        }
      ],
      "source": [
        "df.head(3)"
      ]
    },
    {
      "cell_type": "code",
      "execution_count": 4,
      "metadata": {},
      "outputs": [
        {
          "data": {
            "text/html": [
              "<div>\n",
              "<style scoped>\n",
              "    .dataframe tbody tr th:only-of-type {\n",
              "        vertical-align: middle;\n",
              "    }\n",
              "\n",
              "    .dataframe tbody tr th {\n",
              "        vertical-align: top;\n",
              "    }\n",
              "\n",
              "    .dataframe thead th {\n",
              "        text-align: right;\n",
              "    }\n",
              "</style>\n",
              "<table border=\"1\" class=\"dataframe\">\n",
              "  <thead>\n",
              "    <tr style=\"text-align: right;\">\n",
              "      <th></th>\n",
              "      <th>V010</th>\n",
              "      <th>V104_max</th>\n",
              "      <th>V102_first</th>\n",
              "      <th>D1601_sum</th>\n",
              "      <th>D1602_sum</th>\n",
              "      <th>D1603_sum</th>\n",
              "      <th>D1604D</th>\n",
              "      <th>D1605D</th>\n",
              "      <th>D1606D</th>\n",
              "      <th>V107_first</th>\n",
              "      <th>...</th>\n",
              "      <th>V510_first</th>\n",
              "      <th>V511_first</th>\n",
              "      <th>V512_first</th>\n",
              "      <th>V513_first</th>\n",
              "      <th>V514_first</th>\n",
              "      <th>V515_first</th>\n",
              "      <th>V516_first</th>\n",
              "      <th>V517_first</th>\n",
              "      <th>V518_first</th>\n",
              "      <th>V519_first</th>\n",
              "    </tr>\n",
              "  </thead>\n",
              "  <tbody>\n",
              "    <tr>\n",
              "      <th>0</th>\n",
              "      <td>2020A1000</td>\n",
              "      <td>4</td>\n",
              "      <td>Centro</td>\n",
              "      <td>1</td>\n",
              "      <td>0</td>\n",
              "      <td>2</td>\n",
              "      <td>Com Cônjuge</td>\n",
              "      <td>Com filhos</td>\n",
              "      <td>União ou casamento sexo diferente</td>\n",
              "      <td>Homem</td>\n",
              "      <td>...</td>\n",
              "      <td>Gás de botijão</td>\n",
              "      <td>Alugado</td>\n",
              "      <td>3</td>\n",
              "      <td>Não</td>\n",
              "      <td>Sim</td>\n",
              "      <td>Sim, somente de tela fina (LED, LCD ou plasma)</td>\n",
              "      <td>Não</td>\n",
              "      <td>Sim</td>\n",
              "      <td>Sim</td>\n",
              "      <td>Sim</td>\n",
              "    </tr>\n",
              "    <tr>\n",
              "      <th>1</th>\n",
              "      <td>2020A1001</td>\n",
              "      <td>4</td>\n",
              "      <td>Centro</td>\n",
              "      <td>1</td>\n",
              "      <td>0</td>\n",
              "      <td>1</td>\n",
              "      <td>Com Cônjuge</td>\n",
              "      <td>Com filhos</td>\n",
              "      <td>União ou casamento sexo diferente</td>\n",
              "      <td>Homem</td>\n",
              "      <td>...</td>\n",
              "      <td>Gás de botijão</td>\n",
              "      <td>Próprio de algum morador - já pago</td>\n",
              "      <td>4</td>\n",
              "      <td>Não</td>\n",
              "      <td>Sim</td>\n",
              "      <td>Sim, somente de tela fina (LED, LCD ou plasma)</td>\n",
              "      <td>Sim</td>\n",
              "      <td>Sim</td>\n",
              "      <td>Sim</td>\n",
              "      <td>Não</td>\n",
              "    </tr>\n",
              "    <tr>\n",
              "      <th>2</th>\n",
              "      <td>2020A1002</td>\n",
              "      <td>3</td>\n",
              "      <td>Centro</td>\n",
              "      <td>0</td>\n",
              "      <td>0</td>\n",
              "      <td>2</td>\n",
              "      <td>Sem Cônjuge</td>\n",
              "      <td>Com filhos</td>\n",
              "      <td>Monoparental</td>\n",
              "      <td>Mulher</td>\n",
              "      <td>...</td>\n",
              "      <td>Gás de botijão</td>\n",
              "      <td>Próprio de algum morador - já pago</td>\n",
              "      <td>2</td>\n",
              "      <td>Sim</td>\n",
              "      <td>Sim</td>\n",
              "      <td>Sim, somente de tela fina (LED, LCD ou plasma)</td>\n",
              "      <td>Sim</td>\n",
              "      <td>Sim</td>\n",
              "      <td>Sim</td>\n",
              "      <td>Sim</td>\n",
              "    </tr>\n",
              "  </tbody>\n",
              "</table>\n",
              "<p>3 rows × 77 columns</p>\n",
              "</div>"
            ],
            "text/plain": [
              "        V010  V104_max V102_first  D1601_sum  D1602_sum  D1603_sum  \\\n",
              "0  2020A1000         4     Centro          1          0          2   \n",
              "1  2020A1001         4     Centro          1          0          1   \n",
              "2  2020A1002         3     Centro          0          0          2   \n",
              "\n",
              "        D1604D      D1605D                             D1606D V107_first  ...  \\\n",
              "0  Com Cônjuge  Com filhos  União ou casamento sexo diferente      Homem  ...   \n",
              "1  Com Cônjuge  Com filhos  União ou casamento sexo diferente      Homem  ...   \n",
              "2  Sem Cônjuge  Com filhos                       Monoparental     Mulher  ...   \n",
              "\n",
              "       V510_first                          V511_first  V512_first V513_first  \\\n",
              "0  Gás de botijão                             Alugado           3        Não   \n",
              "1  Gás de botijão  Próprio de algum morador - já pago           4        Não   \n",
              "2  Gás de botijão  Próprio de algum morador - já pago           2        Sim   \n",
              "\n",
              "  V514_first                                      V515_first  V516_first  \\\n",
              "0        Sim  Sim, somente de tela fina (LED, LCD ou plasma)         Não   \n",
              "1        Sim  Sim, somente de tela fina (LED, LCD ou plasma)         Sim   \n",
              "2        Sim  Sim, somente de tela fina (LED, LCD ou plasma)         Sim   \n",
              "\n",
              "   V517_first  V518_first  V519_first  \n",
              "0         Sim         Sim         Sim  \n",
              "1         Sim         Sim         Não  \n",
              "2         Sim         Sim         Sim  \n",
              "\n",
              "[3 rows x 77 columns]"
            ]
          },
          "execution_count": 4,
          "metadata": {},
          "output_type": "execute_result"
        }
      ],
      "source": [
        "# Retirando as colunas do ano (todos são 2020) e entrevistador(a)\n",
        "cols_a_retirar = [\"V100_first\", \"V101_first\", \"V106_first\", \"filter_$\"]\n",
        "dados = df.drop(columns=cols_a_retirar)\n",
        "dados.head(3)"
      ]
    },
    {
      "cell_type": "markdown",
      "metadata": {},
      "source": [
        "#### Dados gerais"
      ]
    },
    {
      "cell_type": "markdown",
      "metadata": {},
      "source": [
        "**Dicionário dos dados**\n",
        "\n",
        "- **V010:** código do domicílio (ID)\n",
        "- **V102_first:** Código do núcleo do Passos Mágicos\n",
        "- **V104_max:** Total de moradores da habitação\n",
        "- **D1601_sum:** Cônjuge de sexo diferente\n",
        "- **D1602_sum:** Cônjuge do mesmo sexo\n",
        "- **D1603_sum:** Total de filhos e/ou enteados\n",
        "- **D1604D:** Cônjuge no domicílio\n",
        "- **D1605D:** Filhos e/ou enteados no domicílio\n",
        "- **D1606D:** Arranjo familiar\n",
        "- **V107_first:** Sexo biológico do responsável\n",
        "- **D1701_sum:** Total de homens no domicílio\n",
        "- **D1702_sum:** Total de mulheres no domicílio\n",
        "- **D108_first:** Idade do responsável\n",
        "- **V109_first:** cor/raça do responsável\n",
        "- **V201_first:** relação do responsável com a Passos Mágicos"
      ]
    },
    {
      "cell_type": "code",
      "execution_count": 5,
      "metadata": {},
      "outputs": [
        {
          "data": {
            "text/html": [
              "<div>\n",
              "<style scoped>\n",
              "    .dataframe tbody tr th:only-of-type {\n",
              "        vertical-align: middle;\n",
              "    }\n",
              "\n",
              "    .dataframe tbody tr th {\n",
              "        vertical-align: top;\n",
              "    }\n",
              "\n",
              "    .dataframe thead th {\n",
              "        text-align: right;\n",
              "    }\n",
              "</style>\n",
              "<table border=\"1\" class=\"dataframe\">\n",
              "  <thead>\n",
              "    <tr style=\"text-align: right;\">\n",
              "      <th></th>\n",
              "      <th>V010</th>\n",
              "      <th>V102_first</th>\n",
              "      <th>V104_max</th>\n",
              "      <th>D1601_sum</th>\n",
              "      <th>D1602_sum</th>\n",
              "      <th>D1603_sum</th>\n",
              "      <th>D1604D</th>\n",
              "      <th>D1605D</th>\n",
              "      <th>D1606D</th>\n",
              "      <th>V107_first</th>\n",
              "      <th>D1701_sum</th>\n",
              "      <th>D1702_sum</th>\n",
              "      <th>D108_first</th>\n",
              "      <th>V109_first</th>\n",
              "      <th>V201_first</th>\n",
              "    </tr>\n",
              "  </thead>\n",
              "  <tbody>\n",
              "    <tr>\n",
              "      <th>0</th>\n",
              "      <td>2020A1000</td>\n",
              "      <td>Centro</td>\n",
              "      <td>4</td>\n",
              "      <td>1</td>\n",
              "      <td>0</td>\n",
              "      <td>2</td>\n",
              "      <td>Com Cônjuge</td>\n",
              "      <td>Com filhos</td>\n",
              "      <td>União ou casamento sexo diferente</td>\n",
              "      <td>Homem</td>\n",
              "      <td>2</td>\n",
              "      <td>2</td>\n",
              "      <td>41</td>\n",
              "      <td>Branca</td>\n",
              "      <td>Pai ou mãe de aluno(a) ativo (atualmente cursa...</td>\n",
              "    </tr>\n",
              "    <tr>\n",
              "      <th>1</th>\n",
              "      <td>2020A1001</td>\n",
              "      <td>Centro</td>\n",
              "      <td>4</td>\n",
              "      <td>1</td>\n",
              "      <td>0</td>\n",
              "      <td>1</td>\n",
              "      <td>Com Cônjuge</td>\n",
              "      <td>Com filhos</td>\n",
              "      <td>União ou casamento sexo diferente</td>\n",
              "      <td>Homem</td>\n",
              "      <td>2</td>\n",
              "      <td>2</td>\n",
              "      <td>57</td>\n",
              "      <td>Branca</td>\n",
              "      <td>Pai ou mãe de aluno(a) ativo (atualmente cursa...</td>\n",
              "    </tr>\n",
              "    <tr>\n",
              "      <th>2</th>\n",
              "      <td>2020A1002</td>\n",
              "      <td>Centro</td>\n",
              "      <td>3</td>\n",
              "      <td>0</td>\n",
              "      <td>0</td>\n",
              "      <td>2</td>\n",
              "      <td>Sem Cônjuge</td>\n",
              "      <td>Com filhos</td>\n",
              "      <td>Monoparental</td>\n",
              "      <td>Mulher</td>\n",
              "      <td>1</td>\n",
              "      <td>2</td>\n",
              "      <td>47</td>\n",
              "      <td>Branca</td>\n",
              "      <td>Pai ou mãe de aluno(a) ativo (atualmente cursa...</td>\n",
              "    </tr>\n",
              "  </tbody>\n",
              "</table>\n",
              "</div>"
            ],
            "text/plain": [
              "        V010 V102_first  V104_max  D1601_sum  D1602_sum  D1603_sum  \\\n",
              "0  2020A1000     Centro         4          1          0          2   \n",
              "1  2020A1001     Centro         4          1          0          1   \n",
              "2  2020A1002     Centro         3          0          0          2   \n",
              "\n",
              "        D1604D      D1605D                             D1606D V107_first  \\\n",
              "0  Com Cônjuge  Com filhos  União ou casamento sexo diferente      Homem   \n",
              "1  Com Cônjuge  Com filhos  União ou casamento sexo diferente      Homem   \n",
              "2  Sem Cônjuge  Com filhos                       Monoparental     Mulher   \n",
              "\n",
              "   D1701_sum  D1702_sum  D108_first V109_first  \\\n",
              "0          2          2          41     Branca   \n",
              "1          2          2          57     Branca   \n",
              "2          1          2          47     Branca   \n",
              "\n",
              "                                          V201_first  \n",
              "0  Pai ou mãe de aluno(a) ativo (atualmente cursa...  \n",
              "1  Pai ou mãe de aluno(a) ativo (atualmente cursa...  \n",
              "2  Pai ou mãe de aluno(a) ativo (atualmente cursa...  "
            ]
          },
          "execution_count": 5,
          "metadata": {},
          "output_type": "execute_result"
        }
      ],
      "source": [
        "cols_gerais = [\"V010\", \"V102_first\", \"V104_max\", \"D1601_sum\", \"D1602_sum\", \"D1603_sum\", \"D1604D\", \"D1605D\", \n",
        "               \"D1606D\", \"V107_first\", \"D1701_sum\", \"D1702_sum\", \"D108_first\", \"V109_first\", \"V201_first\"]\n",
        "\n",
        "df_pm_gerais = dados[cols_gerais]\n",
        "df_pm_gerais.head(3)"
      ]
    },
    {
      "cell_type": "markdown",
      "metadata": {},
      "source": [
        "Possível notar que foram mantidos apenas os valores que possuem 2 ou mais valores, tanto nas variáveis categóricas quanto numéricas"
      ]
    },
    {
      "cell_type": "code",
      "execution_count": 6,
      "metadata": {},
      "outputs": [
        {
          "data": {
            "text/html": [
              "<div>\n",
              "<style scoped>\n",
              "    .dataframe tbody tr th:only-of-type {\n",
              "        vertical-align: middle;\n",
              "    }\n",
              "\n",
              "    .dataframe tbody tr th {\n",
              "        vertical-align: top;\n",
              "    }\n",
              "\n",
              "    .dataframe thead th {\n",
              "        text-align: right;\n",
              "    }\n",
              "</style>\n",
              "<table border=\"1\" class=\"dataframe\">\n",
              "  <thead>\n",
              "    <tr style=\"text-align: right;\">\n",
              "      <th></th>\n",
              "      <th>V010</th>\n",
              "      <th>V102_first</th>\n",
              "      <th>D1604D</th>\n",
              "      <th>D1605D</th>\n",
              "      <th>D1606D</th>\n",
              "      <th>V107_first</th>\n",
              "      <th>V109_first</th>\n",
              "      <th>V201_first</th>\n",
              "    </tr>\n",
              "  </thead>\n",
              "  <tbody>\n",
              "    <tr>\n",
              "      <th>count</th>\n",
              "      <td>654</td>\n",
              "      <td>654</td>\n",
              "      <td>654</td>\n",
              "      <td>654</td>\n",
              "      <td>654</td>\n",
              "      <td>654</td>\n",
              "      <td>654</td>\n",
              "      <td>654</td>\n",
              "    </tr>\n",
              "    <tr>\n",
              "      <th>unique</th>\n",
              "      <td>654</td>\n",
              "      <td>4</td>\n",
              "      <td>2</td>\n",
              "      <td>2</td>\n",
              "      <td>4</td>\n",
              "      <td>2</td>\n",
              "      <td>5</td>\n",
              "      <td>5</td>\n",
              "    </tr>\n",
              "    <tr>\n",
              "      <th>top</th>\n",
              "      <td>2020A1000</td>\n",
              "      <td>Centro</td>\n",
              "      <td>Com Cônjuge</td>\n",
              "      <td>Com filhos</td>\n",
              "      <td>União ou casamento sexo diferente</td>\n",
              "      <td>Mulher</td>\n",
              "      <td>Parda</td>\n",
              "      <td>Pai ou mãe de aluno(a) ativo (atualmente cursa...</td>\n",
              "    </tr>\n",
              "    <tr>\n",
              "      <th>freq</th>\n",
              "      <td>1</td>\n",
              "      <td>288</td>\n",
              "      <td>498</td>\n",
              "      <td>644</td>\n",
              "      <td>493</td>\n",
              "      <td>354</td>\n",
              "      <td>307</td>\n",
              "      <td>616</td>\n",
              "    </tr>\n",
              "  </tbody>\n",
              "</table>\n",
              "</div>"
            ],
            "text/plain": [
              "             V010 V102_first       D1604D      D1605D  \\\n",
              "count         654        654          654         654   \n",
              "unique        654          4            2           2   \n",
              "top     2020A1000     Centro  Com Cônjuge  Com filhos   \n",
              "freq            1        288          498         644   \n",
              "\n",
              "                                   D1606D V107_first V109_first  \\\n",
              "count                                 654        654        654   \n",
              "unique                                  4          2          5   \n",
              "top     União ou casamento sexo diferente     Mulher      Parda   \n",
              "freq                                  493        354        307   \n",
              "\n",
              "                                               V201_first  \n",
              "count                                                 654  \n",
              "unique                                                  5  \n",
              "top     Pai ou mãe de aluno(a) ativo (atualmente cursa...  \n",
              "freq                                                  616  "
            ]
          },
          "execution_count": 6,
          "metadata": {},
          "output_type": "execute_result"
        }
      ],
      "source": [
        "df_pm_gerais.describe(exclude=np.number)"
      ]
    },
    {
      "cell_type": "markdown",
      "metadata": {},
      "source": [
        "##### Demográfico - População total por sexo"
      ]
    },
    {
      "cell_type": "code",
      "execution_count": 7,
      "metadata": {},
      "outputs": [],
      "source": [
        "mulheres = dados.D1702_sum.sum()"
      ]
    },
    {
      "cell_type": "code",
      "execution_count": 8,
      "metadata": {},
      "outputs": [],
      "source": [
        "homens = dados.D1701_sum.sum()"
      ]
    },
    {
      "cell_type": "code",
      "execution_count": 9,
      "metadata": {},
      "outputs": [],
      "source": [
        "total = mulheres + homens\n",
        "pct_mulheres = (100 *mulheres/total).round(0)\n",
        "pct_homens = (100 * homens/total).round(0)"
      ]
    },
    {
      "cell_type": "markdown",
      "metadata": {},
      "source": [
        "##### Demográfico - População por cor/raça"
      ]
    },
    {
      "cell_type": "code",
      "execution_count": 10,
      "metadata": {},
      "outputs": [
        {
          "data": {
            "application/vnd.plotly.v1+json": {
              "config": {
                "plotlyServerURL": "https://plot.ly"
              },
              "data": [
                {
                  "alignmentgroup": "True",
                  "cliponaxis": false,
                  "hovertemplate": "cor_raca=%{y}<br>qtd=%{x}<extra></extra>",
                  "legendgroup": "Parda",
                  "marker": {
                    "color": "#fec52b",
                    "pattern": {
                      "shape": ""
                    }
                  },
                  "name": "Parda",
                  "offsetgroup": "Parda",
                  "orientation": "h",
                  "showlegend": true,
                  "textfont": {
                    "size": 15
                  },
                  "textposition": "outside",
                  "texttemplate": "<b>%{x}</b>",
                  "type": "bar",
                  "x": [
                    1246
                  ],
                  "xaxis": "x",
                  "y": [
                    "Parda"
                  ],
                  "yaxis": "y"
                },
                {
                  "alignmentgroup": "True",
                  "cliponaxis": false,
                  "hovertemplate": "cor_raca=%{y}<br>qtd=%{x}<extra></extra>",
                  "legendgroup": "Preta",
                  "marker": {
                    "color": "#00b050",
                    "pattern": {
                      "shape": ""
                    }
                  },
                  "name": "Preta",
                  "offsetgroup": "Preta",
                  "orientation": "h",
                  "showlegend": true,
                  "textfont": {
                    "size": 15
                  },
                  "textposition": "outside",
                  "texttemplate": "<b>%{x}</b>",
                  "type": "bar",
                  "x": [
                    218
                  ],
                  "xaxis": "x",
                  "y": [
                    "Preta"
                  ],
                  "yaxis": "y"
                },
                {
                  "alignmentgroup": "True",
                  "cliponaxis": false,
                  "hovertemplate": "cor_raca=%{y}<br>qtd=%{x}<extra></extra>",
                  "legendgroup": "Branca",
                  "marker": {
                    "color": "#f58334",
                    "pattern": {
                      "shape": ""
                    }
                  },
                  "name": "Branca",
                  "offsetgroup": "Branca",
                  "orientation": "h",
                  "showlegend": true,
                  "textfont": {
                    "size": 15
                  },
                  "textposition": "outside",
                  "texttemplate": "<b>%{x}</b>",
                  "type": "bar",
                  "x": [
                    1178
                  ],
                  "xaxis": "x",
                  "y": [
                    "Branca"
                  ],
                  "yaxis": "y"
                },
                {
                  "alignmentgroup": "True",
                  "cliponaxis": false,
                  "hovertemplate": "cor_raca=%{y}<br>qtd=%{x}<extra></extra>",
                  "legendgroup": "Amarela",
                  "marker": {
                    "color": "#ed3237",
                    "pattern": {
                      "shape": ""
                    }
                  },
                  "name": "Amarela",
                  "offsetgroup": "Amarela",
                  "orientation": "h",
                  "showlegend": true,
                  "textfont": {
                    "size": 15
                  },
                  "textposition": "outside",
                  "texttemplate": "<b>%{x}</b>",
                  "type": "bar",
                  "x": [
                    21
                  ],
                  "xaxis": "x",
                  "y": [
                    "Amarela"
                  ],
                  "yaxis": "y"
                },
                {
                  "alignmentgroup": "True",
                  "cliponaxis": false,
                  "hovertemplate": "cor_raca=%{y}<br>qtd=%{x}<extra></extra>",
                  "legendgroup": "Indígena",
                  "marker": {
                    "color": "#0367b0",
                    "pattern": {
                      "shape": ""
                    }
                  },
                  "name": "Indígena",
                  "offsetgroup": "Indígena",
                  "orientation": "h",
                  "showlegend": true,
                  "textfont": {
                    "size": 15
                  },
                  "textposition": "outside",
                  "texttemplate": "<b>%{x}</b>",
                  "type": "bar",
                  "x": [
                    10
                  ],
                  "xaxis": "x",
                  "y": [
                    "Indígena"
                  ],
                  "yaxis": "y"
                }
              ],
              "layout": {
                "barmode": "relative",
                "font": {
                  "color": "black",
                  "family": "Open Sans"
                },
                "height": 300,
                "legend": {
                  "title": {
                    "text": "cor_raca"
                  },
                  "tracegroupgap": 0
                },
                "margin": {
                  "t": 60
                },
                "plot_bgcolor": "#f8f9fa",
                "showlegend": false,
                "template": {
                  "data": {
                    "bar": [
                      {
                        "error_x": {
                          "color": "#2a3f5f"
                        },
                        "error_y": {
                          "color": "#2a3f5f"
                        },
                        "marker": {
                          "line": {
                            "color": "#E5ECF6",
                            "width": 0.5
                          },
                          "pattern": {
                            "fillmode": "overlay",
                            "size": 10,
                            "solidity": 0.2
                          }
                        },
                        "type": "bar"
                      }
                    ],
                    "barpolar": [
                      {
                        "marker": {
                          "line": {
                            "color": "#E5ECF6",
                            "width": 0.5
                          },
                          "pattern": {
                            "fillmode": "overlay",
                            "size": 10,
                            "solidity": 0.2
                          }
                        },
                        "type": "barpolar"
                      }
                    ],
                    "carpet": [
                      {
                        "aaxis": {
                          "endlinecolor": "#2a3f5f",
                          "gridcolor": "white",
                          "linecolor": "white",
                          "minorgridcolor": "white",
                          "startlinecolor": "#2a3f5f"
                        },
                        "baxis": {
                          "endlinecolor": "#2a3f5f",
                          "gridcolor": "white",
                          "linecolor": "white",
                          "minorgridcolor": "white",
                          "startlinecolor": "#2a3f5f"
                        },
                        "type": "carpet"
                      }
                    ],
                    "choropleth": [
                      {
                        "colorbar": {
                          "outlinewidth": 0,
                          "ticks": ""
                        },
                        "type": "choropleth"
                      }
                    ],
                    "contour": [
                      {
                        "colorbar": {
                          "outlinewidth": 0,
                          "ticks": ""
                        },
                        "colorscale": [
                          [
                            0,
                            "#0d0887"
                          ],
                          [
                            0.1111111111111111,
                            "#46039f"
                          ],
                          [
                            0.2222222222222222,
                            "#7201a8"
                          ],
                          [
                            0.3333333333333333,
                            "#9c179e"
                          ],
                          [
                            0.4444444444444444,
                            "#bd3786"
                          ],
                          [
                            0.5555555555555556,
                            "#d8576b"
                          ],
                          [
                            0.6666666666666666,
                            "#ed7953"
                          ],
                          [
                            0.7777777777777778,
                            "#fb9f3a"
                          ],
                          [
                            0.8888888888888888,
                            "#fdca26"
                          ],
                          [
                            1,
                            "#f0f921"
                          ]
                        ],
                        "type": "contour"
                      }
                    ],
                    "contourcarpet": [
                      {
                        "colorbar": {
                          "outlinewidth": 0,
                          "ticks": ""
                        },
                        "type": "contourcarpet"
                      }
                    ],
                    "heatmap": [
                      {
                        "colorbar": {
                          "outlinewidth": 0,
                          "ticks": ""
                        },
                        "colorscale": [
                          [
                            0,
                            "#0d0887"
                          ],
                          [
                            0.1111111111111111,
                            "#46039f"
                          ],
                          [
                            0.2222222222222222,
                            "#7201a8"
                          ],
                          [
                            0.3333333333333333,
                            "#9c179e"
                          ],
                          [
                            0.4444444444444444,
                            "#bd3786"
                          ],
                          [
                            0.5555555555555556,
                            "#d8576b"
                          ],
                          [
                            0.6666666666666666,
                            "#ed7953"
                          ],
                          [
                            0.7777777777777778,
                            "#fb9f3a"
                          ],
                          [
                            0.8888888888888888,
                            "#fdca26"
                          ],
                          [
                            1,
                            "#f0f921"
                          ]
                        ],
                        "type": "heatmap"
                      }
                    ],
                    "heatmapgl": [
                      {
                        "colorbar": {
                          "outlinewidth": 0,
                          "ticks": ""
                        },
                        "colorscale": [
                          [
                            0,
                            "#0d0887"
                          ],
                          [
                            0.1111111111111111,
                            "#46039f"
                          ],
                          [
                            0.2222222222222222,
                            "#7201a8"
                          ],
                          [
                            0.3333333333333333,
                            "#9c179e"
                          ],
                          [
                            0.4444444444444444,
                            "#bd3786"
                          ],
                          [
                            0.5555555555555556,
                            "#d8576b"
                          ],
                          [
                            0.6666666666666666,
                            "#ed7953"
                          ],
                          [
                            0.7777777777777778,
                            "#fb9f3a"
                          ],
                          [
                            0.8888888888888888,
                            "#fdca26"
                          ],
                          [
                            1,
                            "#f0f921"
                          ]
                        ],
                        "type": "heatmapgl"
                      }
                    ],
                    "histogram": [
                      {
                        "marker": {
                          "pattern": {
                            "fillmode": "overlay",
                            "size": 10,
                            "solidity": 0.2
                          }
                        },
                        "type": "histogram"
                      }
                    ],
                    "histogram2d": [
                      {
                        "colorbar": {
                          "outlinewidth": 0,
                          "ticks": ""
                        },
                        "colorscale": [
                          [
                            0,
                            "#0d0887"
                          ],
                          [
                            0.1111111111111111,
                            "#46039f"
                          ],
                          [
                            0.2222222222222222,
                            "#7201a8"
                          ],
                          [
                            0.3333333333333333,
                            "#9c179e"
                          ],
                          [
                            0.4444444444444444,
                            "#bd3786"
                          ],
                          [
                            0.5555555555555556,
                            "#d8576b"
                          ],
                          [
                            0.6666666666666666,
                            "#ed7953"
                          ],
                          [
                            0.7777777777777778,
                            "#fb9f3a"
                          ],
                          [
                            0.8888888888888888,
                            "#fdca26"
                          ],
                          [
                            1,
                            "#f0f921"
                          ]
                        ],
                        "type": "histogram2d"
                      }
                    ],
                    "histogram2dcontour": [
                      {
                        "colorbar": {
                          "outlinewidth": 0,
                          "ticks": ""
                        },
                        "colorscale": [
                          [
                            0,
                            "#0d0887"
                          ],
                          [
                            0.1111111111111111,
                            "#46039f"
                          ],
                          [
                            0.2222222222222222,
                            "#7201a8"
                          ],
                          [
                            0.3333333333333333,
                            "#9c179e"
                          ],
                          [
                            0.4444444444444444,
                            "#bd3786"
                          ],
                          [
                            0.5555555555555556,
                            "#d8576b"
                          ],
                          [
                            0.6666666666666666,
                            "#ed7953"
                          ],
                          [
                            0.7777777777777778,
                            "#fb9f3a"
                          ],
                          [
                            0.8888888888888888,
                            "#fdca26"
                          ],
                          [
                            1,
                            "#f0f921"
                          ]
                        ],
                        "type": "histogram2dcontour"
                      }
                    ],
                    "mesh3d": [
                      {
                        "colorbar": {
                          "outlinewidth": 0,
                          "ticks": ""
                        },
                        "type": "mesh3d"
                      }
                    ],
                    "parcoords": [
                      {
                        "line": {
                          "colorbar": {
                            "outlinewidth": 0,
                            "ticks": ""
                          }
                        },
                        "type": "parcoords"
                      }
                    ],
                    "pie": [
                      {
                        "automargin": true,
                        "type": "pie"
                      }
                    ],
                    "scatter": [
                      {
                        "fillpattern": {
                          "fillmode": "overlay",
                          "size": 10,
                          "solidity": 0.2
                        },
                        "type": "scatter"
                      }
                    ],
                    "scatter3d": [
                      {
                        "line": {
                          "colorbar": {
                            "outlinewidth": 0,
                            "ticks": ""
                          }
                        },
                        "marker": {
                          "colorbar": {
                            "outlinewidth": 0,
                            "ticks": ""
                          }
                        },
                        "type": "scatter3d"
                      }
                    ],
                    "scattercarpet": [
                      {
                        "marker": {
                          "colorbar": {
                            "outlinewidth": 0,
                            "ticks": ""
                          }
                        },
                        "type": "scattercarpet"
                      }
                    ],
                    "scattergeo": [
                      {
                        "marker": {
                          "colorbar": {
                            "outlinewidth": 0,
                            "ticks": ""
                          }
                        },
                        "type": "scattergeo"
                      }
                    ],
                    "scattergl": [
                      {
                        "marker": {
                          "colorbar": {
                            "outlinewidth": 0,
                            "ticks": ""
                          }
                        },
                        "type": "scattergl"
                      }
                    ],
                    "scattermapbox": [
                      {
                        "marker": {
                          "colorbar": {
                            "outlinewidth": 0,
                            "ticks": ""
                          }
                        },
                        "type": "scattermapbox"
                      }
                    ],
                    "scatterpolar": [
                      {
                        "marker": {
                          "colorbar": {
                            "outlinewidth": 0,
                            "ticks": ""
                          }
                        },
                        "type": "scatterpolar"
                      }
                    ],
                    "scatterpolargl": [
                      {
                        "marker": {
                          "colorbar": {
                            "outlinewidth": 0,
                            "ticks": ""
                          }
                        },
                        "type": "scatterpolargl"
                      }
                    ],
                    "scatterternary": [
                      {
                        "marker": {
                          "colorbar": {
                            "outlinewidth": 0,
                            "ticks": ""
                          }
                        },
                        "type": "scatterternary"
                      }
                    ],
                    "surface": [
                      {
                        "colorbar": {
                          "outlinewidth": 0,
                          "ticks": ""
                        },
                        "colorscale": [
                          [
                            0,
                            "#0d0887"
                          ],
                          [
                            0.1111111111111111,
                            "#46039f"
                          ],
                          [
                            0.2222222222222222,
                            "#7201a8"
                          ],
                          [
                            0.3333333333333333,
                            "#9c179e"
                          ],
                          [
                            0.4444444444444444,
                            "#bd3786"
                          ],
                          [
                            0.5555555555555556,
                            "#d8576b"
                          ],
                          [
                            0.6666666666666666,
                            "#ed7953"
                          ],
                          [
                            0.7777777777777778,
                            "#fb9f3a"
                          ],
                          [
                            0.8888888888888888,
                            "#fdca26"
                          ],
                          [
                            1,
                            "#f0f921"
                          ]
                        ],
                        "type": "surface"
                      }
                    ],
                    "table": [
                      {
                        "cells": {
                          "fill": {
                            "color": "#EBF0F8"
                          },
                          "line": {
                            "color": "white"
                          }
                        },
                        "header": {
                          "fill": {
                            "color": "#C8D4E3"
                          },
                          "line": {
                            "color": "white"
                          }
                        },
                        "type": "table"
                      }
                    ]
                  },
                  "layout": {
                    "annotationdefaults": {
                      "arrowcolor": "#2a3f5f",
                      "arrowhead": 0,
                      "arrowwidth": 1
                    },
                    "autotypenumbers": "strict",
                    "coloraxis": {
                      "colorbar": {
                        "outlinewidth": 0,
                        "ticks": ""
                      }
                    },
                    "colorscale": {
                      "diverging": [
                        [
                          0,
                          "#8e0152"
                        ],
                        [
                          0.1,
                          "#c51b7d"
                        ],
                        [
                          0.2,
                          "#de77ae"
                        ],
                        [
                          0.3,
                          "#f1b6da"
                        ],
                        [
                          0.4,
                          "#fde0ef"
                        ],
                        [
                          0.5,
                          "#f7f7f7"
                        ],
                        [
                          0.6,
                          "#e6f5d0"
                        ],
                        [
                          0.7,
                          "#b8e186"
                        ],
                        [
                          0.8,
                          "#7fbc41"
                        ],
                        [
                          0.9,
                          "#4d9221"
                        ],
                        [
                          1,
                          "#276419"
                        ]
                      ],
                      "sequential": [
                        [
                          0,
                          "#0d0887"
                        ],
                        [
                          0.1111111111111111,
                          "#46039f"
                        ],
                        [
                          0.2222222222222222,
                          "#7201a8"
                        ],
                        [
                          0.3333333333333333,
                          "#9c179e"
                        ],
                        [
                          0.4444444444444444,
                          "#bd3786"
                        ],
                        [
                          0.5555555555555556,
                          "#d8576b"
                        ],
                        [
                          0.6666666666666666,
                          "#ed7953"
                        ],
                        [
                          0.7777777777777778,
                          "#fb9f3a"
                        ],
                        [
                          0.8888888888888888,
                          "#fdca26"
                        ],
                        [
                          1,
                          "#f0f921"
                        ]
                      ],
                      "sequentialminus": [
                        [
                          0,
                          "#0d0887"
                        ],
                        [
                          0.1111111111111111,
                          "#46039f"
                        ],
                        [
                          0.2222222222222222,
                          "#7201a8"
                        ],
                        [
                          0.3333333333333333,
                          "#9c179e"
                        ],
                        [
                          0.4444444444444444,
                          "#bd3786"
                        ],
                        [
                          0.5555555555555556,
                          "#d8576b"
                        ],
                        [
                          0.6666666666666666,
                          "#ed7953"
                        ],
                        [
                          0.7777777777777778,
                          "#fb9f3a"
                        ],
                        [
                          0.8888888888888888,
                          "#fdca26"
                        ],
                        [
                          1,
                          "#f0f921"
                        ]
                      ]
                    },
                    "colorway": [
                      "#636efa",
                      "#EF553B",
                      "#00cc96",
                      "#ab63fa",
                      "#FFA15A",
                      "#19d3f3",
                      "#FF6692",
                      "#B6E880",
                      "#FF97FF",
                      "#FECB52"
                    ],
                    "font": {
                      "color": "#2a3f5f"
                    },
                    "geo": {
                      "bgcolor": "white",
                      "lakecolor": "white",
                      "landcolor": "#E5ECF6",
                      "showlakes": true,
                      "showland": true,
                      "subunitcolor": "white"
                    },
                    "hoverlabel": {
                      "align": "left"
                    },
                    "hovermode": "closest",
                    "mapbox": {
                      "style": "light"
                    },
                    "paper_bgcolor": "white",
                    "plot_bgcolor": "#E5ECF6",
                    "polar": {
                      "angularaxis": {
                        "gridcolor": "white",
                        "linecolor": "white",
                        "ticks": ""
                      },
                      "bgcolor": "#E5ECF6",
                      "radialaxis": {
                        "gridcolor": "white",
                        "linecolor": "white",
                        "ticks": ""
                      }
                    },
                    "scene": {
                      "xaxis": {
                        "backgroundcolor": "#E5ECF6",
                        "gridcolor": "white",
                        "gridwidth": 2,
                        "linecolor": "white",
                        "showbackground": true,
                        "ticks": "",
                        "zerolinecolor": "white"
                      },
                      "yaxis": {
                        "backgroundcolor": "#E5ECF6",
                        "gridcolor": "white",
                        "gridwidth": 2,
                        "linecolor": "white",
                        "showbackground": true,
                        "ticks": "",
                        "zerolinecolor": "white"
                      },
                      "zaxis": {
                        "backgroundcolor": "#E5ECF6",
                        "gridcolor": "white",
                        "gridwidth": 2,
                        "linecolor": "white",
                        "showbackground": true,
                        "ticks": "",
                        "zerolinecolor": "white"
                      }
                    },
                    "shapedefaults": {
                      "line": {
                        "color": "#2a3f5f"
                      }
                    },
                    "ternary": {
                      "aaxis": {
                        "gridcolor": "white",
                        "linecolor": "white",
                        "ticks": ""
                      },
                      "baxis": {
                        "gridcolor": "white",
                        "linecolor": "white",
                        "ticks": ""
                      },
                      "bgcolor": "#E5ECF6",
                      "caxis": {
                        "gridcolor": "white",
                        "linecolor": "white",
                        "ticks": ""
                      }
                    },
                    "title": {
                      "x": 0.05
                    },
                    "xaxis": {
                      "automargin": true,
                      "gridcolor": "white",
                      "linecolor": "white",
                      "ticks": "",
                      "title": {
                        "standoff": 15
                      },
                      "zerolinecolor": "white",
                      "zerolinewidth": 2
                    },
                    "yaxis": {
                      "automargin": true,
                      "gridcolor": "white",
                      "linecolor": "white",
                      "ticks": "",
                      "title": {
                        "standoff": 15
                      },
                      "zerolinecolor": "white",
                      "zerolinewidth": 2
                    }
                  }
                },
                "title": {
                  "font": {
                    "color": "black",
                    "size": 24
                  },
                  "text": "População por Cor ou Raça<br><sup size=1 style=\"color:#555655\">Segundo o PSE 2020</sup>"
                },
                "width": 700,
                "xaxis": {
                  "anchor": "y",
                  "domain": [
                    0,
                    1
                  ],
                  "range": [
                    0,
                    1350
                  ],
                  "tickfont": {
                    "size": 14
                  },
                  "title": {
                    "text": ""
                  }
                },
                "yaxis": {
                  "anchor": "x",
                  "categoryarray": [
                    "Indígena",
                    "Amarela",
                    "Branca",
                    "Preta",
                    "Parda"
                  ],
                  "categoryorder": "array",
                  "domain": [
                    0,
                    1
                  ],
                  "tickfont": {
                    "size": 14
                  },
                  "title": {
                    "text": ""
                  }
                }
              }
            }
          },
          "metadata": {},
          "output_type": "display_data"
        }
      ],
      "source": [
        "pop_cor_raca = dados.copy()\n",
        "pop_cor_raca[\"pop\"] =  dados[\"D1701_sum\"] + dados[\"D1702_sum\"]\n",
        "pop_cor_raca = pop_cor_raca.groupby(\"V109_first\")[[\"pop\"]].sum().reset_index()\n",
        "pop_cor_raca.columns = [\"cor_raca\", \"qtd\"]\n",
        "pop_cor_raca\n",
        "\n",
        "fig = px.bar(pop_cor_raca, x=\"qtd\", y=\"cor_raca\", color = \"cor_raca\", text_auto=True,\n",
        "             color_discrete_sequence=[\"#fec52b\",\"#00b050\",\"#f58334\", \"#ed3237\", \"#0367b0\"],\n",
        "             category_orders={'cor_raca':[\"Parda\", \"Preta\", \"Branca\", \"Amarela\",\"Indígena\"]})\n",
        "\n",
        "# Ajustando o layout do gráfico\n",
        "fig.update_layout(width=700, height=300, font_family = 'Open Sans', font_color= \"black\", \n",
        "                  title_font_color= \"black\", title_font_size=24, title_text='População por Cor ou Raça' + \n",
        "                  '<br><sup size=1 style=\"color:#555655\">Segundo o PSE 2020</sup>', xaxis_title='', yaxis_title='',\n",
        "                  xaxis_tickfont_size=14, yaxis_tickfont_size=14, xaxis_range = [0,1350], \n",
        "                  plot_bgcolor= \"#f8f9fa\", showlegend=False)\n",
        "\n",
        "\n",
        "fig.update_traces(textfont_size=15, textposition=\"outside\", texttemplate='<b>%{x}</b>', cliponaxis=False)\n",
        "\n",
        "fig.show()"
      ]
    },
    {
      "cell_type": "markdown",
      "metadata": {},
      "source": [
        "##### Demográfico - População total por sexo do chefe do domicílio"
      ]
    },
    {
      "cell_type": "code",
      "execution_count": 11,
      "metadata": {},
      "outputs": [],
      "source": [
        "domicilio_sexo_resp = dados.V107_first.value_counts()\n",
        "domicilio_sexo_resp.index = [\"Mulheres\", \"Homens\"]"
      ]
    },
    {
      "cell_type": "code",
      "execution_count": 118,
      "metadata": {},
      "outputs": [
        {
          "data": {
            "image/png": "[encoded data removed]",
            "text/plain": [
              "<Waffle size 640x480 with 1 Axes>"
            ]
          },
          "metadata": {},
          "output_type": "display_data"
        }
      ],
      "source": [
        "domicilio_sexo_resp = dados.V107_first.value_counts()\n",
        "domicilio_sexo_resp.index = [\"Mulheres\", \"Homens\"]\n",
        "total = domicilio_sexo_resp.sum()\n",
        "pct_mulheres = (100 * domicilio_sexo_resp.loc[\"Mulheres\"]/total).round(0)\n",
        "pct_homens = (100 * domicilio_sexo_resp.loc[\"Homens\"]/total).round(0)\n",
        "\n",
        "data = {'Mulheres': pct_mulheres, 'Homens': pct_homens}\n",
        "fig = plt.figure(FigureClass=Waffle, rows=5, values=data, colors=[\"#f58334\", \"#0367b0\"],\n",
        "                title={'label': 'População total por sexo', 'loc': 'left', 'size':10},\n",
        "                labels=[f\"{k} ({v:.0f}%)\" for k, v in data.items()],\n",
        "                legend={'loc': 'lower left', 'bbox_to_anchor': (0, -0.4), 'ncol': len(data), 'framealpha': 0},\n",
        "                starting_location='NW', block_arranging_style='snake')"
      ]
    },
    {
      "cell_type": "markdown",
      "metadata": {},
      "source": [
        "##### Demográfico - Responsável pelo domicílio por cor/raça"
      ]
    },
    {
      "cell_type": "code",
      "execution_count": 13,
      "metadata": {},
      "outputs": [
        {
          "data": {
            "application/vnd.plotly.v1+json": {
              "config": {
                "plotlyServerURL": "https://plot.ly"
              },
              "data": [
                {
                  "alignmentgroup": "True",
                  "cliponaxis": false,
                  "hovertemplate": "cor_raca=%{y}<br>qtd=%{x}<extra></extra>",
                  "legendgroup": "Parda",
                  "marker": {
                    "color": "#fec52b",
                    "pattern": {
                      "shape": ""
                    }
                  },
                  "name": "Parda",
                  "offsetgroup": "Parda",
                  "orientation": "h",
                  "showlegend": true,
                  "textfont": {
                    "size": 15
                  },
                  "textposition": "outside",
                  "texttemplate": "<b>%{x}</b>",
                  "type": "bar",
                  "x": [
                    307
                  ],
                  "xaxis": "x",
                  "y": [
                    "Parda"
                  ],
                  "yaxis": "y"
                },
                {
                  "alignmentgroup": "True",
                  "cliponaxis": false,
                  "hovertemplate": "cor_raca=%{y}<br>qtd=%{x}<extra></extra>",
                  "legendgroup": "Preta",
                  "marker": {
                    "color": "#00b050",
                    "pattern": {
                      "shape": ""
                    }
                  },
                  "name": "Preta",
                  "offsetgroup": "Preta",
                  "orientation": "h",
                  "showlegend": true,
                  "textfont": {
                    "size": 15
                  },
                  "textposition": "outside",
                  "texttemplate": "<b>%{x}</b>",
                  "type": "bar",
                  "x": [
                    52
                  ],
                  "xaxis": "x",
                  "y": [
                    "Preta"
                  ],
                  "yaxis": "y"
                },
                {
                  "alignmentgroup": "True",
                  "cliponaxis": false,
                  "hovertemplate": "cor_raca=%{y}<br>qtd=%{x}<extra></extra>",
                  "legendgroup": "Branca",
                  "marker": {
                    "color": "#f58334",
                    "pattern": {
                      "shape": ""
                    }
                  },
                  "name": "Branca",
                  "offsetgroup": "Branca",
                  "orientation": "h",
                  "showlegend": true,
                  "textfont": {
                    "size": 15
                  },
                  "textposition": "outside",
                  "texttemplate": "<b>%{x}</b>",
                  "type": "bar",
                  "x": [
                    288
                  ],
                  "xaxis": "x",
                  "y": [
                    "Branca"
                  ],
                  "yaxis": "y"
                },
                {
                  "alignmentgroup": "True",
                  "cliponaxis": false,
                  "hovertemplate": "cor_raca=%{y}<br>qtd=%{x}<extra></extra>",
                  "legendgroup": "Amarela",
                  "marker": {
                    "color": "#ed3237",
                    "pattern": {
                      "shape": ""
                    }
                  },
                  "name": "Amarela",
                  "offsetgroup": "Amarela",
                  "orientation": "h",
                  "showlegend": true,
                  "textfont": {
                    "size": 15
                  },
                  "textposition": "outside",
                  "texttemplate": "<b>%{x}</b>",
                  "type": "bar",
                  "x": [
                    5
                  ],
                  "xaxis": "x",
                  "y": [
                    "Amarela"
                  ],
                  "yaxis": "y"
                },
                {
                  "alignmentgroup": "True",
                  "cliponaxis": false,
                  "hovertemplate": "cor_raca=%{y}<br>qtd=%{x}<extra></extra>",
                  "legendgroup": "Indígena",
                  "marker": {
                    "color": "#0367b0",
                    "pattern": {
                      "shape": ""
                    }
                  },
                  "name": "Indígena",
                  "offsetgroup": "Indígena",
                  "orientation": "h",
                  "showlegend": true,
                  "textfont": {
                    "size": 15
                  },
                  "textposition": "outside",
                  "texttemplate": "<b>%{x}</b>",
                  "type": "bar",
                  "x": [
                    2
                  ],
                  "xaxis": "x",
                  "y": [
                    "Indígena"
                  ],
                  "yaxis": "y"
                }
              ],
              "layout": {
                "barmode": "relative",
                "font": {
                  "color": "black",
                  "family": "Open Sans",
                  "size": 15
                },
                "height": 300,
                "legend": {
                  "title": {
                    "text": "cor_raca"
                  },
                  "tracegroupgap": 0
                },
                "margin": {
                  "t": 60
                },
                "plot_bgcolor": "#f8f9fa",
                "showlegend": false,
                "template": {
                  "data": {
                    "bar": [
                      {
                        "error_x": {
                          "color": "#2a3f5f"
                        },
                        "error_y": {
                          "color": "#2a3f5f"
                        },
                        "marker": {
                          "line": {
                            "color": "#E5ECF6",
                            "width": 0.5
                          },
                          "pattern": {
                            "fillmode": "overlay",
                            "size": 10,
                            "solidity": 0.2
                          }
                        },
                        "type": "bar"
                      }
                    ],
                    "barpolar": [
                      {
                        "marker": {
                          "line": {
                            "color": "#E5ECF6",
                            "width": 0.5
                          },
                          "pattern": {
                            "fillmode": "overlay",
                            "size": 10,
                            "solidity": 0.2
                          }
                        },
                        "type": "barpolar"
                      }
                    ],
                    "carpet": [
                      {
                        "aaxis": {
                          "endlinecolor": "#2a3f5f",
                          "gridcolor": "white",
                          "linecolor": "white",
                          "minorgridcolor": "white",
                          "startlinecolor": "#2a3f5f"
                        },
                        "baxis": {
                          "endlinecolor": "#2a3f5f",
                          "gridcolor": "white",
                          "linecolor": "white",
                          "minorgridcolor": "white",
                          "startlinecolor": "#2a3f5f"
                        },
                        "type": "carpet"
                      }
                    ],
                    "choropleth": [
                      {
                        "colorbar": {
                          "outlinewidth": 0,
                          "ticks": ""
                        },
                        "type": "choropleth"
                      }
                    ],
                    "contour": [
                      {
                        "colorbar": {
                          "outlinewidth": 0,
                          "ticks": ""
                        },
                        "colorscale": [
                          [
                            0,
                            "#0d0887"
                          ],
                          [
                            0.1111111111111111,
                            "#46039f"
                          ],
                          [
                            0.2222222222222222,
                            "#7201a8"
                          ],
                          [
                            0.3333333333333333,
                            "#9c179e"
                          ],
                          [
                            0.4444444444444444,
                            "#bd3786"
                          ],
                          [
                            0.5555555555555556,
                            "#d8576b"
                          ],
                          [
                            0.6666666666666666,
                            "#ed7953"
                          ],
                          [
                            0.7777777777777778,
                            "#fb9f3a"
                          ],
                          [
                            0.8888888888888888,
                            "#fdca26"
                          ],
                          [
                            1,
                            "#f0f921"
                          ]
                        ],
                        "type": "contour"
                      }
                    ],
                    "contourcarpet": [
                      {
                        "colorbar": {
                          "outlinewidth": 0,
                          "ticks": ""
                        },
                        "type": "contourcarpet"
                      }
                    ],
                    "heatmap": [
                      {
                        "colorbar": {
                          "outlinewidth": 0,
                          "ticks": ""
                        },
                        "colorscale": [
                          [
                            0,
                            "#0d0887"
                          ],
                          [
                            0.1111111111111111,
                            "#46039f"
                          ],
                          [
                            0.2222222222222222,
                            "#7201a8"
                          ],
                          [
                            0.3333333333333333,
                            "#9c179e"
                          ],
                          [
                            0.4444444444444444,
                            "#bd3786"
                          ],
                          [
                            0.5555555555555556,
                            "#d8576b"
                          ],
                          [
                            0.6666666666666666,
                            "#ed7953"
                          ],
                          [
                            0.7777777777777778,
                            "#fb9f3a"
                          ],
                          [
                            0.8888888888888888,
                            "#fdca26"
                          ],
                          [
                            1,
                            "#f0f921"
                          ]
                        ],
                        "type": "heatmap"
                      }
                    ],
                    "heatmapgl": [
                      {
                        "colorbar": {
                          "outlinewidth": 0,
                          "ticks": ""
                        },
                        "colorscale": [
                          [
                            0,
                            "#0d0887"
                          ],
                          [
                            0.1111111111111111,
                            "#46039f"
                          ],
                          [
                            0.2222222222222222,
                            "#7201a8"
                          ],
                          [
                            0.3333333333333333,
                            "#9c179e"
                          ],
                          [
                            0.4444444444444444,
                            "#bd3786"
                          ],
                          [
                            0.5555555555555556,
                            "#d8576b"
                          ],
                          [
                            0.6666666666666666,
                            "#ed7953"
                          ],
                          [
                            0.7777777777777778,
                            "#fb9f3a"
                          ],
                          [
                            0.8888888888888888,
                            "#fdca26"
                          ],
                          [
                            1,
                            "#f0f921"
                          ]
                        ],
                        "type": "heatmapgl"
                      }
                    ],
                    "histogram": [
                      {
                        "marker": {
                          "pattern": {
                            "fillmode": "overlay",
                            "size": 10,
                            "solidity": 0.2
                          }
                        },
                        "type": "histogram"
                      }
                    ],
                    "histogram2d": [
                      {
                        "colorbar": {
                          "outlinewidth": 0,
                          "ticks": ""
                        },
                        "colorscale": [
                          [
                            0,
                            "#0d0887"
                          ],
                          [
                            0.1111111111111111,
                            "#46039f"
                          ],
                          [
                            0.2222222222222222,
                            "#7201a8"
                          ],
                          [
                            0.3333333333333333,
                            "#9c179e"
                          ],
                          [
                            0.4444444444444444,
                            "#bd3786"
                          ],
                          [
                            0.5555555555555556,
                            "#d8576b"
                          ],
                          [
                            0.6666666666666666,
                            "#ed7953"
                          ],
                          [
                            0.7777777777777778,
                            "#fb9f3a"
                          ],
                          [
                            0.8888888888888888,
                            "#fdca26"
                          ],
                          [
                            1,
                            "#f0f921"
                          ]
                        ],
                        "type": "histogram2d"
                      }
                    ],
                    "histogram2dcontour": [
                      {
                        "colorbar": {
                          "outlinewidth": 0,
                          "ticks": ""
                        },
                        "colorscale": [
                          [
                            0,
                            "#0d0887"
                          ],
                          [
                            0.1111111111111111,
                            "#46039f"
                          ],
                          [
                            0.2222222222222222,
                            "#7201a8"
                          ],
                          [
                            0.3333333333333333,
                            "#9c179e"
                          ],
                          [
                            0.4444444444444444,
                            "#bd3786"
                          ],
                          [
                            0.5555555555555556,
                            "#d8576b"
                          ],
                          [
                            0.6666666666666666,
                            "#ed7953"
                          ],
                          [
                            0.7777777777777778,
                            "#fb9f3a"
                          ],
                          [
                            0.8888888888888888,
                            "#fdca26"
                          ],
                          [
                            1,
                            "#f0f921"
                          ]
                        ],
                        "type": "histogram2dcontour"
                      }
                    ],
                    "mesh3d": [
                      {
                        "colorbar": {
                          "outlinewidth": 0,
                          "ticks": ""
                        },
                        "type": "mesh3d"
                      }
                    ],
                    "parcoords": [
                      {
                        "line": {
                          "colorbar": {
                            "outlinewidth": 0,
                            "ticks": ""
                          }
                        },
                        "type": "parcoords"
                      }
                    ],
                    "pie": [
                      {
                        "automargin": true,
                        "type": "pie"
                      }
                    ],
                    "scatter": [
                      {
                        "fillpattern": {
                          "fillmode": "overlay",
                          "size": 10,
                          "solidity": 0.2
                        },
                        "type": "scatter"
                      }
                    ],
                    "scatter3d": [
                      {
                        "line": {
                          "colorbar": {
                            "outlinewidth": 0,
                            "ticks": ""
                          }
                        },
                        "marker": {
                          "colorbar": {
                            "outlinewidth": 0,
                            "ticks": ""
                          }
                        },
                        "type": "scatter3d"
                      }
                    ],
                    "scattercarpet": [
                      {
                        "marker": {
                          "colorbar": {
                            "outlinewidth": 0,
                            "ticks": ""
                          }
                        },
                        "type": "scattercarpet"
                      }
                    ],
                    "scattergeo": [
                      {
                        "marker": {
                          "colorbar": {
                            "outlinewidth": 0,
                            "ticks": ""
                          }
                        },
                        "type": "scattergeo"
                      }
                    ],
                    "scattergl": [
                      {
                        "marker": {
                          "colorbar": {
                            "outlinewidth": 0,
                            "ticks": ""
                          }
                        },
                        "type": "scattergl"
                      }
                    ],
                    "scattermapbox": [
                      {
                        "marker": {
                          "colorbar": {
                            "outlinewidth": 0,
                            "ticks": ""
                          }
                        },
                        "type": "scattermapbox"
                      }
                    ],
                    "scatterpolar": [
                      {
                        "marker": {
                          "colorbar": {
                            "outlinewidth": 0,
                            "ticks": ""
                          }
                        },
                        "type": "scatterpolar"
                      }
                    ],
                    "scatterpolargl": [
                      {
                        "marker": {
                          "colorbar": {
                            "outlinewidth": 0,
                            "ticks": ""
                          }
                        },
                        "type": "scatterpolargl"
                      }
                    ],
                    "scatterternary": [
                      {
                        "marker": {
                          "colorbar": {
                            "outlinewidth": 0,
                            "ticks": ""
                          }
                        },
                        "type": "scatterternary"
                      }
                    ],
                    "surface": [
                      {
                        "colorbar": {
                          "outlinewidth": 0,
                          "ticks": ""
                        },
                        "colorscale": [
                          [
                            0,
                            "#0d0887"
                          ],
                          [
                            0.1111111111111111,
                            "#46039f"
                          ],
                          [
                            0.2222222222222222,
                            "#7201a8"
                          ],
                          [
                            0.3333333333333333,
                            "#9c179e"
                          ],
                          [
                            0.4444444444444444,
                            "#bd3786"
                          ],
                          [
                            0.5555555555555556,
                            "#d8576b"
                          ],
                          [
                            0.6666666666666666,
                            "#ed7953"
                          ],
                          [
                            0.7777777777777778,
                            "#fb9f3a"
                          ],
                          [
                            0.8888888888888888,
                            "#fdca26"
                          ],
                          [
                            1,
                            "#f0f921"
                          ]
                        ],
                        "type": "surface"
                      }
                    ],
                    "table": [
                      {
                        "cells": {
                          "fill": {
                            "color": "#EBF0F8"
                          },
                          "line": {
                            "color": "white"
                          }
                        },
                        "header": {
                          "fill": {
                            "color": "#C8D4E3"
                          },
                          "line": {
                            "color": "white"
                          }
                        },
                        "type": "table"
                      }
                    ]
                  },
                  "layout": {
                    "annotationdefaults": {
                      "arrowcolor": "#2a3f5f",
                      "arrowhead": 0,
                      "arrowwidth": 1
                    },
                    "autotypenumbers": "strict",
                    "coloraxis": {
                      "colorbar": {
                        "outlinewidth": 0,
                        "ticks": ""
                      }
                    },
                    "colorscale": {
                      "diverging": [
                        [
                          0,
                          "#8e0152"
                        ],
                        [
                          0.1,
                          "#c51b7d"
                        ],
                        [
                          0.2,
                          "#de77ae"
                        ],
                        [
                          0.3,
                          "#f1b6da"
                        ],
                        [
                          0.4,
                          "#fde0ef"
                        ],
                        [
                          0.5,
                          "#f7f7f7"
                        ],
                        [
                          0.6,
                          "#e6f5d0"
                        ],
                        [
                          0.7,
                          "#b8e186"
                        ],
                        [
                          0.8,
                          "#7fbc41"
                        ],
                        [
                          0.9,
                          "#4d9221"
                        ],
                        [
                          1,
                          "#276419"
                        ]
                      ],
                      "sequential": [
                        [
                          0,
                          "#0d0887"
                        ],
                        [
                          0.1111111111111111,
                          "#46039f"
                        ],
                        [
                          0.2222222222222222,
                          "#7201a8"
                        ],
                        [
                          0.3333333333333333,
                          "#9c179e"
                        ],
                        [
                          0.4444444444444444,
                          "#bd3786"
                        ],
                        [
                          0.5555555555555556,
                          "#d8576b"
                        ],
                        [
                          0.6666666666666666,
                          "#ed7953"
                        ],
                        [
                          0.7777777777777778,
                          "#fb9f3a"
                        ],
                        [
                          0.8888888888888888,
                          "#fdca26"
                        ],
                        [
                          1,
                          "#f0f921"
                        ]
                      ],
                      "sequentialminus": [
                        [
                          0,
                          "#0d0887"
                        ],
                        [
                          0.1111111111111111,
                          "#46039f"
                        ],
                        [
                          0.2222222222222222,
                          "#7201a8"
                        ],
                        [
                          0.3333333333333333,
                          "#9c179e"
                        ],
                        [
                          0.4444444444444444,
                          "#bd3786"
                        ],
                        [
                          0.5555555555555556,
                          "#d8576b"
                        ],
                        [
                          0.6666666666666666,
                          "#ed7953"
                        ],
                        [
                          0.7777777777777778,
                          "#fb9f3a"
                        ],
                        [
                          0.8888888888888888,
                          "#fdca26"
                        ],
                        [
                          1,
                          "#f0f921"
                        ]
                      ]
                    },
                    "colorway": [
                      "#636efa",
                      "#EF553B",
                      "#00cc96",
                      "#ab63fa",
                      "#FFA15A",
                      "#19d3f3",
                      "#FF6692",
                      "#B6E880",
                      "#FF97FF",
                      "#FECB52"
                    ],
                    "font": {
                      "color": "#2a3f5f"
                    },
                    "geo": {
                      "bgcolor": "white",
                      "lakecolor": "white",
                      "landcolor": "#E5ECF6",
                      "showlakes": true,
                      "showland": true,
                      "subunitcolor": "white"
                    },
                    "hoverlabel": {
                      "align": "left"
                    },
                    "hovermode": "closest",
                    "mapbox": {
                      "style": "light"
                    },
                    "paper_bgcolor": "white",
                    "plot_bgcolor": "#E5ECF6",
                    "polar": {
                      "angularaxis": {
                        "gridcolor": "white",
                        "linecolor": "white",
                        "ticks": ""
                      },
                      "bgcolor": "#E5ECF6",
                      "radialaxis": {
                        "gridcolor": "white",
                        "linecolor": "white",
                        "ticks": ""
                      }
                    },
                    "scene": {
                      "xaxis": {
                        "backgroundcolor": "#E5ECF6",
                        "gridcolor": "white",
                        "gridwidth": 2,
                        "linecolor": "white",
                        "showbackground": true,
                        "ticks": "",
                        "zerolinecolor": "white"
                      },
                      "yaxis": {
                        "backgroundcolor": "#E5ECF6",
                        "gridcolor": "white",
                        "gridwidth": 2,
                        "linecolor": "white",
                        "showbackground": true,
                        "ticks": "",
                        "zerolinecolor": "white"
                      },
                      "zaxis": {
                        "backgroundcolor": "#E5ECF6",
                        "gridcolor": "white",
                        "gridwidth": 2,
                        "linecolor": "white",
                        "showbackground": true,
                        "ticks": "",
                        "zerolinecolor": "white"
                      }
                    },
                    "shapedefaults": {
                      "line": {
                        "color": "#2a3f5f"
                      }
                    },
                    "ternary": {
                      "aaxis": {
                        "gridcolor": "white",
                        "linecolor": "white",
                        "ticks": ""
                      },
                      "baxis": {
                        "gridcolor": "white",
                        "linecolor": "white",
                        "ticks": ""
                      },
                      "bgcolor": "#E5ECF6",
                      "caxis": {
                        "gridcolor": "white",
                        "linecolor": "white",
                        "ticks": ""
                      }
                    },
                    "title": {
                      "x": 0.05
                    },
                    "xaxis": {
                      "automargin": true,
                      "gridcolor": "white",
                      "linecolor": "white",
                      "ticks": "",
                      "title": {
                        "standoff": 15
                      },
                      "zerolinecolor": "white",
                      "zerolinewidth": 2
                    },
                    "yaxis": {
                      "automargin": true,
                      "gridcolor": "white",
                      "linecolor": "white",
                      "ticks": "",
                      "title": {
                        "standoff": 15
                      },
                      "zerolinecolor": "white",
                      "zerolinewidth": 2
                    }
                  }
                },
                "title": {
                  "font": {
                    "color": "black",
                    "size": 24
                  },
                  "text": "População por Cor ou Raça<br><sup size=1 style=\"color:#555655\">Segundo o PSE 2020</sup>"
                },
                "width": 700,
                "xaxis": {
                  "anchor": "y",
                  "domain": [
                    0,
                    1
                  ],
                  "range": [
                    0,
                    350
                  ],
                  "tickfont": {
                    "size": 14
                  },
                  "title": {
                    "text": ""
                  }
                },
                "yaxis": {
                  "anchor": "x",
                  "categoryarray": [
                    "Indígena",
                    "Amarela",
                    "Branca",
                    "Preta",
                    "Parda"
                  ],
                  "categoryorder": "array",
                  "domain": [
                    0,
                    1
                  ],
                  "tickfont": {
                    "size": 14
                  },
                  "title": {
                    "text": ""
                  }
                }
              }
            }
          },
          "metadata": {},
          "output_type": "display_data"
        }
      ],
      "source": [
        "pop_cor_raca = dados.V109_first.value_counts().to_frame().reset_index()\n",
        "pop_cor_raca.columns = [\"cor_raca\", \"qtd\"]\n",
        "\n",
        "fig = px.bar(pop_cor_raca, x=\"qtd\", y=\"cor_raca\", color = \"cor_raca\", text_auto=True,\n",
        "             color_discrete_sequence=[\"#fec52b\",\"#00b050\",\"#f58334\", \"#ed3237\", \"#0367b0\"],\n",
        "             category_orders={'cor_raca':[\"Parda\", \"Preta\", \"Branca\", \"Amarela\",\"Indígena\"]})\n",
        "\n",
        "# Ajustando o layout do gráfico\n",
        "fig.update_layout(width=700, height=300, font_family = 'Open Sans', font_size=15, font_color= \"black\", \n",
        "                  title_font_color= \"black\", title_font_size=24, title_text='População por Cor ou Raça' + \n",
        "                  '<br><sup size=1 style=\"color:#555655\">Segundo o PSE 2020</sup>', xaxis_title='', yaxis_title='',\n",
        "                  xaxis_tickfont_size=14, yaxis_tickfont_size=14, xaxis_range = [0,350], \n",
        "                  plot_bgcolor= \"#f8f9fa\", showlegend=False)\n",
        "\n",
        "fig.update_traces(textfont_size=15, textposition=\"outside\", texttemplate='<b>%{x}</b>', cliponaxis=False)\n",
        "\n",
        "fig.show()"
      ]
    },
    {
      "cell_type": "markdown",
      "metadata": {},
      "source": [
        "##### Demográfico - Domicílios por nº de moradores"
      ]
    },
    {
      "cell_type": "code",
      "execution_count": 14,
      "metadata": {},
      "outputs": [
        {
          "name": "stdout",
          "output_type": "stream",
          "text": [
            "4.087155963302752 4.0 4\n"
          ]
        }
      ],
      "source": [
        "print(dados.V104_max.mean(), dados.V104_max.median(), dados.V104_max.mode()[0])"
      ]
    },
    {
      "cell_type": "code",
      "execution_count": 15,
      "metadata": {},
      "outputs": [
        {
          "data": {
            "text/html": [
              "<div>\n",
              "<style scoped>\n",
              "    .dataframe tbody tr th:only-of-type {\n",
              "        vertical-align: middle;\n",
              "    }\n",
              "\n",
              "    .dataframe tbody tr th {\n",
              "        vertical-align: top;\n",
              "    }\n",
              "\n",
              "    .dataframe thead th {\n",
              "        text-align: right;\n",
              "    }\n",
              "</style>\n",
              "<table border=\"1\" class=\"dataframe\">\n",
              "  <thead>\n",
              "    <tr style=\"text-align: right;\">\n",
              "      <th></th>\n",
              "      <th>Nº de Moradores</th>\n",
              "      <th>Nº de Domicílios</th>\n",
              "    </tr>\n",
              "  </thead>\n",
              "  <tbody>\n",
              "    <tr>\n",
              "      <th>0</th>\n",
              "      <td>4</td>\n",
              "      <td>248</td>\n",
              "    </tr>\n",
              "    <tr>\n",
              "      <th>1</th>\n",
              "      <td>3</td>\n",
              "      <td>158</td>\n",
              "    </tr>\n",
              "    <tr>\n",
              "      <th>2</th>\n",
              "      <td>5</td>\n",
              "      <td>132</td>\n",
              "    </tr>\n",
              "    <tr>\n",
              "      <th>3</th>\n",
              "      <td>6</td>\n",
              "      <td>50</td>\n",
              "    </tr>\n",
              "    <tr>\n",
              "      <th>4</th>\n",
              "      <td>2</td>\n",
              "      <td>45</td>\n",
              "    </tr>\n",
              "    <tr>\n",
              "      <th>5</th>\n",
              "      <td>7</td>\n",
              "      <td>13</td>\n",
              "    </tr>\n",
              "    <tr>\n",
              "      <th>6</th>\n",
              "      <td>8</td>\n",
              "      <td>7</td>\n",
              "    </tr>\n",
              "    <tr>\n",
              "      <th>7</th>\n",
              "      <td>10</td>\n",
              "      <td>1</td>\n",
              "    </tr>\n",
              "    <tr>\n",
              "      <th>8</th>\n",
              "      <td>1</td>\n",
              "      <td>0</td>\n",
              "    </tr>\n",
              "    <tr>\n",
              "      <th>9</th>\n",
              "      <td>9</td>\n",
              "      <td>0</td>\n",
              "    </tr>\n",
              "  </tbody>\n",
              "</table>\n",
              "</div>"
            ],
            "text/plain": [
              "  Nº de Moradores  Nº de Domicílios\n",
              "0               4               248\n",
              "1               3               158\n",
              "2               5               132\n",
              "3               6                50\n",
              "4               2                45\n",
              "5               7                13\n",
              "6               8                 7\n",
              "7              10                 1\n",
              "8               1                 0\n",
              "9               9                 0"
            ]
          },
          "execution_count": 15,
          "metadata": {},
          "output_type": "execute_result"
        }
      ],
      "source": [
        "domicilio_n_moradores = dados.V104_max.value_counts().to_frame()\n",
        "domicilio_n_moradores.loc[\"1\"], domicilio_n_moradores.loc[\"9\"] = 0, 0\n",
        "domicilio_n_moradores = domicilio_n_moradores.reset_index()\n",
        "domicilio_n_moradores.columns = [\"Nº de Moradores\", \"Nº de Domicílios\"]\n",
        "domicilio_n_moradores"
      ]
    },
    {
      "cell_type": "code",
      "execution_count": 16,
      "metadata": {},
      "outputs": [
        {
          "data": {
            "application/vnd.plotly.v1+json": {
              "config": {
                "plotlyServerURL": "https://plot.ly"
              },
              "data": [
                {
                  "alignmentgroup": "True",
                  "bingroup": "x",
                  "cliponaxis": false,
                  "histfunc": "sum",
                  "hovertemplate": "Nº de Moradores=%{x}<br>sum of Nº de Domicílios=%{y}<extra></extra>",
                  "legendgroup": "",
                  "marker": {
                    "color": "#68a4d0",
                    "pattern": {
                      "shape": ""
                    }
                  },
                  "name": "",
                  "nbinsx": 10,
                  "offsetgroup": "",
                  "orientation": "v",
                  "showlegend": false,
                  "textfont": {
                    "size": 15
                  },
                  "textposition": "outside",
                  "texttemplate": "<b>%{y}</b>",
                  "type": "histogram",
                  "x": [
                    4,
                    3,
                    5,
                    6,
                    2,
                    7,
                    8,
                    10,
                    "1",
                    "9"
                  ],
                  "xaxis": "x",
                  "y": [
                    248,
                    158,
                    132,
                    50,
                    45,
                    13,
                    7,
                    1,
                    0,
                    0
                  ],
                  "yaxis": "y"
                }
              ],
              "layout": {
                "bargap": 0.1,
                "barmode": "relative",
                "font": {
                  "color": "black",
                  "family": "Open Sans"
                },
                "height": 500,
                "legend": {
                  "tracegroupgap": 0
                },
                "margin": {
                  "t": 60
                },
                "plot_bgcolor": "#f8f9fa",
                "showlegend": false,
                "template": {
                  "data": {
                    "bar": [
                      {
                        "error_x": {
                          "color": "#2a3f5f"
                        },
                        "error_y": {
                          "color": "#2a3f5f"
                        },
                        "marker": {
                          "line": {
                            "color": "#E5ECF6",
                            "width": 0.5
                          },
                          "pattern": {
                            "fillmode": "overlay",
                            "size": 10,
                            "solidity": 0.2
                          }
                        },
                        "type": "bar"
                      }
                    ],
                    "barpolar": [
                      {
                        "marker": {
                          "line": {
                            "color": "#E5ECF6",
                            "width": 0.5
                          },
                          "pattern": {
                            "fillmode": "overlay",
                            "size": 10,
                            "solidity": 0.2
                          }
                        },
                        "type": "barpolar"
                      }
                    ],
                    "carpet": [
                      {
                        "aaxis": {
                          "endlinecolor": "#2a3f5f",
                          "gridcolor": "white",
                          "linecolor": "white",
                          "minorgridcolor": "white",
                          "startlinecolor": "#2a3f5f"
                        },
                        "baxis": {
                          "endlinecolor": "#2a3f5f",
                          "gridcolor": "white",
                          "linecolor": "white",
                          "minorgridcolor": "white",
                          "startlinecolor": "#2a3f5f"
                        },
                        "type": "carpet"
                      }
                    ],
                    "choropleth": [
                      {
                        "colorbar": {
                          "outlinewidth": 0,
                          "ticks": ""
                        },
                        "type": "choropleth"
                      }
                    ],
                    "contour": [
                      {
                        "colorbar": {
                          "outlinewidth": 0,
                          "ticks": ""
                        },
                        "colorscale": [
                          [
                            0,
                            "#0d0887"
                          ],
                          [
                            0.1111111111111111,
                            "#46039f"
                          ],
                          [
                            0.2222222222222222,
                            "#7201a8"
                          ],
                          [
                            0.3333333333333333,
                            "#9c179e"
                          ],
                          [
                            0.4444444444444444,
                            "#bd3786"
                          ],
                          [
                            0.5555555555555556,
                            "#d8576b"
                          ],
                          [
                            0.6666666666666666,
                            "#ed7953"
                          ],
                          [
                            0.7777777777777778,
                            "#fb9f3a"
                          ],
                          [
                            0.8888888888888888,
                            "#fdca26"
                          ],
                          [
                            1,
                            "#f0f921"
                          ]
                        ],
                        "type": "contour"
                      }
                    ],
                    "contourcarpet": [
                      {
                        "colorbar": {
                          "outlinewidth": 0,
                          "ticks": ""
                        },
                        "type": "contourcarpet"
                      }
                    ],
                    "heatmap": [
                      {
                        "colorbar": {
                          "outlinewidth": 0,
                          "ticks": ""
                        },
                        "colorscale": [
                          [
                            0,
                            "#0d0887"
                          ],
                          [
                            0.1111111111111111,
                            "#46039f"
                          ],
                          [
                            0.2222222222222222,
                            "#7201a8"
                          ],
                          [
                            0.3333333333333333,
                            "#9c179e"
                          ],
                          [
                            0.4444444444444444,
                            "#bd3786"
                          ],
                          [
                            0.5555555555555556,
                            "#d8576b"
                          ],
                          [
                            0.6666666666666666,
                            "#ed7953"
                          ],
                          [
                            0.7777777777777778,
                            "#fb9f3a"
                          ],
                          [
                            0.8888888888888888,
                            "#fdca26"
                          ],
                          [
                            1,
                            "#f0f921"
                          ]
                        ],
                        "type": "heatmap"
                      }
                    ],
                    "heatmapgl": [
                      {
                        "colorbar": {
                          "outlinewidth": 0,
                          "ticks": ""
                        },
                        "colorscale": [
                          [
                            0,
                            "#0d0887"
                          ],
                          [
                            0.1111111111111111,
                            "#46039f"
                          ],
                          [
                            0.2222222222222222,
                            "#7201a8"
                          ],
                          [
                            0.3333333333333333,
                            "#9c179e"
                          ],
                          [
                            0.4444444444444444,
                            "#bd3786"
                          ],
                          [
                            0.5555555555555556,
                            "#d8576b"
                          ],
                          [
                            0.6666666666666666,
                            "#ed7953"
                          ],
                          [
                            0.7777777777777778,
                            "#fb9f3a"
                          ],
                          [
                            0.8888888888888888,
                            "#fdca26"
                          ],
                          [
                            1,
                            "#f0f921"
                          ]
                        ],
                        "type": "heatmapgl"
                      }
                    ],
                    "histogram": [
                      {
                        "marker": {
                          "pattern": {
                            "fillmode": "overlay",
                            "size": 10,
                            "solidity": 0.2
                          }
                        },
                        "type": "histogram"
                      }
                    ],
                    "histogram2d": [
                      {
                        "colorbar": {
                          "outlinewidth": 0,
                          "ticks": ""
                        },
                        "colorscale": [
                          [
                            0,
                            "#0d0887"
                          ],
                          [
                            0.1111111111111111,
                            "#46039f"
                          ],
                          [
                            0.2222222222222222,
                            "#7201a8"
                          ],
                          [
                            0.3333333333333333,
                            "#9c179e"
                          ],
                          [
                            0.4444444444444444,
                            "#bd3786"
                          ],
                          [
                            0.5555555555555556,
                            "#d8576b"
                          ],
                          [
                            0.6666666666666666,
                            "#ed7953"
                          ],
                          [
                            0.7777777777777778,
                            "#fb9f3a"
                          ],
                          [
                            0.8888888888888888,
                            "#fdca26"
                          ],
                          [
                            1,
                            "#f0f921"
                          ]
                        ],
                        "type": "histogram2d"
                      }
                    ],
                    "histogram2dcontour": [
                      {
                        "colorbar": {
                          "outlinewidth": 0,
                          "ticks": ""
                        },
                        "colorscale": [
                          [
                            0,
                            "#0d0887"
                          ],
                          [
                            0.1111111111111111,
                            "#46039f"
                          ],
                          [
                            0.2222222222222222,
                            "#7201a8"
                          ],
                          [
                            0.3333333333333333,
                            "#9c179e"
                          ],
                          [
                            0.4444444444444444,
                            "#bd3786"
                          ],
                          [
                            0.5555555555555556,
                            "#d8576b"
                          ],
                          [
                            0.6666666666666666,
                            "#ed7953"
                          ],
                          [
                            0.7777777777777778,
                            "#fb9f3a"
                          ],
                          [
                            0.8888888888888888,
                            "#fdca26"
                          ],
                          [
                            1,
                            "#f0f921"
                          ]
                        ],
                        "type": "histogram2dcontour"
                      }
                    ],
                    "mesh3d": [
                      {
                        "colorbar": {
                          "outlinewidth": 0,
                          "ticks": ""
                        },
                        "type": "mesh3d"
                      }
                    ],
                    "parcoords": [
                      {
                        "line": {
                          "colorbar": {
                            "outlinewidth": 0,
                            "ticks": ""
                          }
                        },
                        "type": "parcoords"
                      }
                    ],
                    "pie": [
                      {
                        "automargin": true,
                        "type": "pie"
                      }
                    ],
                    "scatter": [
                      {
                        "fillpattern": {
                          "fillmode": "overlay",
                          "size": 10,
                          "solidity": 0.2
                        },
                        "type": "scatter"
                      }
                    ],
                    "scatter3d": [
                      {
                        "line": {
                          "colorbar": {
                            "outlinewidth": 0,
                            "ticks": ""
                          }
                        },
                        "marker": {
                          "colorbar": {
                            "outlinewidth": 0,
                            "ticks": ""
                          }
                        },
                        "type": "scatter3d"
                      }
                    ],
                    "scattercarpet": [
                      {
                        "marker": {
                          "colorbar": {
                            "outlinewidth": 0,
                            "ticks": ""
                          }
                        },
                        "type": "scattercarpet"
                      }
                    ],
                    "scattergeo": [
                      {
                        "marker": {
                          "colorbar": {
                            "outlinewidth": 0,
                            "ticks": ""
                          }
                        },
                        "type": "scattergeo"
                      }
                    ],
                    "scattergl": [
                      {
                        "marker": {
                          "colorbar": {
                            "outlinewidth": 0,
                            "ticks": ""
                          }
                        },
                        "type": "scattergl"
                      }
                    ],
                    "scattermapbox": [
                      {
                        "marker": {
                          "colorbar": {
                            "outlinewidth": 0,
                            "ticks": ""
                          }
                        },
                        "type": "scattermapbox"
                      }
                    ],
                    "scatterpolar": [
                      {
                        "marker": {
                          "colorbar": {
                            "outlinewidth": 0,
                            "ticks": ""
                          }
                        },
                        "type": "scatterpolar"
                      }
                    ],
                    "scatterpolargl": [
                      {
                        "marker": {
                          "colorbar": {
                            "outlinewidth": 0,
                            "ticks": ""
                          }
                        },
                        "type": "scatterpolargl"
                      }
                    ],
                    "scatterternary": [
                      {
                        "marker": {
                          "colorbar": {
                            "outlinewidth": 0,
                            "ticks": ""
                          }
                        },
                        "type": "scatterternary"
                      }
                    ],
                    "surface": [
                      {
                        "colorbar": {
                          "outlinewidth": 0,
                          "ticks": ""
                        },
                        "colorscale": [
                          [
                            0,
                            "#0d0887"
                          ],
                          [
                            0.1111111111111111,
                            "#46039f"
                          ],
                          [
                            0.2222222222222222,
                            "#7201a8"
                          ],
                          [
                            0.3333333333333333,
                            "#9c179e"
                          ],
                          [
                            0.4444444444444444,
                            "#bd3786"
                          ],
                          [
                            0.5555555555555556,
                            "#d8576b"
                          ],
                          [
                            0.6666666666666666,
                            "#ed7953"
                          ],
                          [
                            0.7777777777777778,
                            "#fb9f3a"
                          ],
                          [
                            0.8888888888888888,
                            "#fdca26"
                          ],
                          [
                            1,
                            "#f0f921"
                          ]
                        ],
                        "type": "surface"
                      }
                    ],
                    "table": [
                      {
                        "cells": {
                          "fill": {
                            "color": "#EBF0F8"
                          },
                          "line": {
                            "color": "white"
                          }
                        },
                        "header": {
                          "fill": {
                            "color": "#C8D4E3"
                          },
                          "line": {
                            "color": "white"
                          }
                        },
                        "type": "table"
                      }
                    ]
                  },
                  "layout": {
                    "annotationdefaults": {
                      "arrowcolor": "#2a3f5f",
                      "arrowhead": 0,
                      "arrowwidth": 1
                    },
                    "autotypenumbers": "strict",
                    "coloraxis": {
                      "colorbar": {
                        "outlinewidth": 0,
                        "ticks": ""
                      }
                    },
                    "colorscale": {
                      "diverging": [
                        [
                          0,
                          "#8e0152"
                        ],
                        [
                          0.1,
                          "#c51b7d"
                        ],
                        [
                          0.2,
                          "#de77ae"
                        ],
                        [
                          0.3,
                          "#f1b6da"
                        ],
                        [
                          0.4,
                          "#fde0ef"
                        ],
                        [
                          0.5,
                          "#f7f7f7"
                        ],
                        [
                          0.6,
                          "#e6f5d0"
                        ],
                        [
                          0.7,
                          "#b8e186"
                        ],
                        [
                          0.8,
                          "#7fbc41"
                        ],
                        [
                          0.9,
                          "#4d9221"
                        ],
                        [
                          1,
                          "#276419"
                        ]
                      ],
                      "sequential": [
                        [
                          0,
                          "#0d0887"
                        ],
                        [
                          0.1111111111111111,
                          "#46039f"
                        ],
                        [
                          0.2222222222222222,
                          "#7201a8"
                        ],
                        [
                          0.3333333333333333,
                          "#9c179e"
                        ],
                        [
                          0.4444444444444444,
                          "#bd3786"
                        ],
                        [
                          0.5555555555555556,
                          "#d8576b"
                        ],
                        [
                          0.6666666666666666,
                          "#ed7953"
                        ],
                        [
                          0.7777777777777778,
                          "#fb9f3a"
                        ],
                        [
                          0.8888888888888888,
                          "#fdca26"
                        ],
                        [
                          1,
                          "#f0f921"
                        ]
                      ],
                      "sequentialminus": [
                        [
                          0,
                          "#0d0887"
                        ],
                        [
                          0.1111111111111111,
                          "#46039f"
                        ],
                        [
                          0.2222222222222222,
                          "#7201a8"
                        ],
                        [
                          0.3333333333333333,
                          "#9c179e"
                        ],
                        [
                          0.4444444444444444,
                          "#bd3786"
                        ],
                        [
                          0.5555555555555556,
                          "#d8576b"
                        ],
                        [
                          0.6666666666666666,
                          "#ed7953"
                        ],
                        [
                          0.7777777777777778,
                          "#fb9f3a"
                        ],
                        [
                          0.8888888888888888,
                          "#fdca26"
                        ],
                        [
                          1,
                          "#f0f921"
                        ]
                      ]
                    },
                    "colorway": [
                      "#636efa",
                      "#EF553B",
                      "#00cc96",
                      "#ab63fa",
                      "#FFA15A",
                      "#19d3f3",
                      "#FF6692",
                      "#B6E880",
                      "#FF97FF",
                      "#FECB52"
                    ],
                    "font": {
                      "color": "#2a3f5f"
                    },
                    "geo": {
                      "bgcolor": "white",
                      "lakecolor": "white",
                      "landcolor": "#E5ECF6",
                      "showlakes": true,
                      "showland": true,
                      "subunitcolor": "white"
                    },
                    "hoverlabel": {
                      "align": "left"
                    },
                    "hovermode": "closest",
                    "mapbox": {
                      "style": "light"
                    },
                    "paper_bgcolor": "white",
                    "plot_bgcolor": "#E5ECF6",
                    "polar": {
                      "angularaxis": {
                        "gridcolor": "white",
                        "linecolor": "white",
                        "ticks": ""
                      },
                      "bgcolor": "#E5ECF6",
                      "radialaxis": {
                        "gridcolor": "white",
                        "linecolor": "white",
                        "ticks": ""
                      }
                    },
                    "scene": {
                      "xaxis": {
                        "backgroundcolor": "#E5ECF6",
                        "gridcolor": "white",
                        "gridwidth": 2,
                        "linecolor": "white",
                        "showbackground": true,
                        "ticks": "",
                        "zerolinecolor": "white"
                      },
                      "yaxis": {
                        "backgroundcolor": "#E5ECF6",
                        "gridcolor": "white",
                        "gridwidth": 2,
                        "linecolor": "white",
                        "showbackground": true,
                        "ticks": "",
                        "zerolinecolor": "white"
                      },
                      "zaxis": {
                        "backgroundcolor": "#E5ECF6",
                        "gridcolor": "white",
                        "gridwidth": 2,
                        "linecolor": "white",
                        "showbackground": true,
                        "ticks": "",
                        "zerolinecolor": "white"
                      }
                    },
                    "shapedefaults": {
                      "line": {
                        "color": "#2a3f5f"
                      }
                    },
                    "ternary": {
                      "aaxis": {
                        "gridcolor": "white",
                        "linecolor": "white",
                        "ticks": ""
                      },
                      "baxis": {
                        "gridcolor": "white",
                        "linecolor": "white",
                        "ticks": ""
                      },
                      "bgcolor": "#E5ECF6",
                      "caxis": {
                        "gridcolor": "white",
                        "linecolor": "white",
                        "ticks": ""
                      }
                    },
                    "title": {
                      "x": 0.05
                    },
                    "xaxis": {
                      "automargin": true,
                      "gridcolor": "white",
                      "linecolor": "white",
                      "ticks": "",
                      "title": {
                        "standoff": 15
                      },
                      "zerolinecolor": "white",
                      "zerolinewidth": 2
                    },
                    "yaxis": {
                      "automargin": true,
                      "gridcolor": "white",
                      "linecolor": "white",
                      "ticks": "",
                      "title": {
                        "standoff": 15
                      },
                      "zerolinecolor": "white",
                      "zerolinewidth": 2
                    }
                  }
                },
                "title": {
                  "font": {
                    "color": "black",
                    "size": 24
                  },
                  "text": "Distribuição dos domicílios por nº de moradores<br><sup size=1 style=\"color:#555655\">Segundo o PSE 2020</sup>"
                },
                "width": 700,
                "xaxis": {
                  "anchor": "y",
                  "domain": [
                    0,
                    1
                  ],
                  "tickfont": {
                    "size": 14
                  },
                  "tickmode": "array",
                  "tickvals": [
                    1,
                    2,
                    3,
                    4,
                    5,
                    6,
                    7,
                    8,
                    9,
                    10
                  ],
                  "title": {
                    "text": "Nº de Moradores"
                  }
                },
                "yaxis": {
                  "anchor": "x",
                  "domain": [
                    0,
                    1
                  ],
                  "range": [
                    0,
                    270
                  ],
                  "tickfont": {
                    "size": 14
                  },
                  "title": {
                    "text": "Nº de Domicílios"
                  }
                }
              }
            }
          },
          "metadata": {},
          "output_type": "display_data"
        }
      ],
      "source": [
        "domicilio_n_moradores = dados.V104_max.value_counts().to_frame()\n",
        "domicilio_n_moradores.loc[\"1\"], domicilio_n_moradores.loc[\"9\"] = 0, 0\n",
        "domicilio_n_moradores = domicilio_n_moradores.reset_index()\n",
        "domicilio_n_moradores.columns = [\"Nº de Moradores\", \"Nº de Domicílios\"]\n",
        "\n",
        "fig = px.histogram(domicilio_n_moradores, x=\"Nº de Moradores\", y=\"Nº de Domicílios\", \n",
        "                   text_auto=True, color_discrete_sequence=[\"#68a4d0\"], nbins= 10)\n",
        "\n",
        "# Ajustando o layout do gráfico\n",
        "fig.update_layout(width=700, height=500, font_family = 'Open Sans', font_color= \"black\", \n",
        "                  title_font_color= \"black\", title_font_size=24, title_text='Distribuição dos domicílios por nº de moradores' + \n",
        "                  '<br><sup size=1 style=\"color:#555655\">Segundo o PSE 2020</sup>', \n",
        "                  xaxis_title='Nº de Moradores', yaxis_title='Nº de Domicílios',\n",
        "                  xaxis_tickfont_size=14, yaxis_tickfont_size=14, yaxis_range = [0,270], \n",
        "                  plot_bgcolor= \"#f8f9fa\", showlegend=False, bargap=0.1)\n",
        "\n",
        "fig.update_xaxes(tickmode='array', tickvals=np.arange(1,11))\n",
        "fig.update_traces(textfont_size=15, textposition=\"outside\", texttemplate='<b>%{y}</b>', cliponaxis=False)\n",
        "\n",
        "fig.show()"
      ]
    },
    {
      "cell_type": "markdown",
      "metadata": {},
      "source": [
        "##### Demográfico - Domicílios pelo arranjo familiar"
      ]
    },
    {
      "cell_type": "code",
      "execution_count": 17,
      "metadata": {},
      "outputs": [
        {
          "data": {
            "application/vnd.plotly.v1+json": {
              "config": {
                "plotlyServerURL": "https://plot.ly"
              },
              "data": [
                {
                  "alignmentgroup": "True",
                  "cliponaxis": false,
                  "hovertemplate": "arranjo=%{y}<br>qtd=%{x}<extra></extra>",
                  "legendgroup": "União ou casamento sexo diferente",
                  "marker": {
                    "color": "#fec52b",
                    "pattern": {
                      "shape": ""
                    }
                  },
                  "name": "União ou casamento sexo diferente",
                  "offsetgroup": "União ou casamento sexo diferente",
                  "orientation": "h",
                  "showlegend": true,
                  "textfont": {
                    "size": 15
                  },
                  "textposition": "outside",
                  "texttemplate": "<b>%{x}</b>",
                  "type": "bar",
                  "x": [
                    493
                  ],
                  "xaxis": "x",
                  "y": [
                    "União ou casamento sexo diferente"
                  ],
                  "yaxis": "y"
                },
                {
                  "alignmentgroup": "True",
                  "cliponaxis": false,
                  "hovertemplate": "arranjo=%{y}<br>qtd=%{x}<extra></extra>",
                  "legendgroup": "Monoparental",
                  "marker": {
                    "color": "#00b050",
                    "pattern": {
                      "shape": ""
                    }
                  },
                  "name": "Monoparental",
                  "offsetgroup": "Monoparental",
                  "orientation": "h",
                  "showlegend": true,
                  "textfont": {
                    "size": 15
                  },
                  "textposition": "outside",
                  "texttemplate": "<b>%{x}</b>",
                  "type": "bar",
                  "x": [
                    151
                  ],
                  "xaxis": "x",
                  "y": [
                    "Monoparental"
                  ],
                  "yaxis": "y"
                },
                {
                  "alignmentgroup": "True",
                  "cliponaxis": false,
                  "hovertemplate": "arranjo=%{y}<br>qtd=%{x}<extra></extra>",
                  "legendgroup": "Consanguíneo",
                  "marker": {
                    "color": "#ed3237",
                    "pattern": {
                      "shape": ""
                    }
                  },
                  "name": "Consanguíneo",
                  "offsetgroup": "Consanguíneo",
                  "orientation": "h",
                  "showlegend": true,
                  "textfont": {
                    "size": 15
                  },
                  "textposition": "outside",
                  "texttemplate": "<b>%{x}</b>",
                  "type": "bar",
                  "x": [
                    5
                  ],
                  "xaxis": "x",
                  "y": [
                    "Consanguíneo"
                  ],
                  "yaxis": "y"
                },
                {
                  "alignmentgroup": "True",
                  "cliponaxis": false,
                  "hovertemplate": "arranjo=%{y}<br>qtd=%{x}<extra></extra>",
                  "legendgroup": "União ou casamento mesmo sexo",
                  "marker": {
                    "color": "#0367b0",
                    "pattern": {
                      "shape": ""
                    }
                  },
                  "name": "União ou casamento mesmo sexo",
                  "offsetgroup": "União ou casamento mesmo sexo",
                  "orientation": "h",
                  "showlegend": true,
                  "textfont": {
                    "size": 15
                  },
                  "textposition": "outside",
                  "texttemplate": "<b>%{x}</b>",
                  "type": "bar",
                  "x": [
                    5
                  ],
                  "xaxis": "x",
                  "y": [
                    "União ou casamento mesmo sexo"
                  ],
                  "yaxis": "y"
                }
              ],
              "layout": {
                "barmode": "relative",
                "font": {
                  "color": "black",
                  "family": "Open Sans",
                  "size": 15
                },
                "height": 500,
                "legend": {
                  "title": {
                    "text": "arranjo"
                  },
                  "tracegroupgap": 0
                },
                "margin": {
                  "t": 60
                },
                "plot_bgcolor": "#f8f9fa",
                "showlegend": false,
                "template": {
                  "data": {
                    "bar": [
                      {
                        "error_x": {
                          "color": "#2a3f5f"
                        },
                        "error_y": {
                          "color": "#2a3f5f"
                        },
                        "marker": {
                          "line": {
                            "color": "#E5ECF6",
                            "width": 0.5
                          },
                          "pattern": {
                            "fillmode": "overlay",
                            "size": 10,
                            "solidity": 0.2
                          }
                        },
                        "type": "bar"
                      }
                    ],
                    "barpolar": [
                      {
                        "marker": {
                          "line": {
                            "color": "#E5ECF6",
                            "width": 0.5
                          },
                          "pattern": {
                            "fillmode": "overlay",
                            "size": 10,
                            "solidity": 0.2
                          }
                        },
                        "type": "barpolar"
                      }
                    ],
                    "carpet": [
                      {
                        "aaxis": {
                          "endlinecolor": "#2a3f5f",
                          "gridcolor": "white",
                          "linecolor": "white",
                          "minorgridcolor": "white",
                          "startlinecolor": "#2a3f5f"
                        },
                        "baxis": {
                          "endlinecolor": "#2a3f5f",
                          "gridcolor": "white",
                          "linecolor": "white",
                          "minorgridcolor": "white",
                          "startlinecolor": "#2a3f5f"
                        },
                        "type": "carpet"
                      }
                    ],
                    "choropleth": [
                      {
                        "colorbar": {
                          "outlinewidth": 0,
                          "ticks": ""
                        },
                        "type": "choropleth"
                      }
                    ],
                    "contour": [
                      {
                        "colorbar": {
                          "outlinewidth": 0,
                          "ticks": ""
                        },
                        "colorscale": [
                          [
                            0,
                            "#0d0887"
                          ],
                          [
                            0.1111111111111111,
                            "#46039f"
                          ],
                          [
                            0.2222222222222222,
                            "#7201a8"
                          ],
                          [
                            0.3333333333333333,
                            "#9c179e"
                          ],
                          [
                            0.4444444444444444,
                            "#bd3786"
                          ],
                          [
                            0.5555555555555556,
                            "#d8576b"
                          ],
                          [
                            0.6666666666666666,
                            "#ed7953"
                          ],
                          [
                            0.7777777777777778,
                            "#fb9f3a"
                          ],
                          [
                            0.8888888888888888,
                            "#fdca26"
                          ],
                          [
                            1,
                            "#f0f921"
                          ]
                        ],
                        "type": "contour"
                      }
                    ],
                    "contourcarpet": [
                      {
                        "colorbar": {
                          "outlinewidth": 0,
                          "ticks": ""
                        },
                        "type": "contourcarpet"
                      }
                    ],
                    "heatmap": [
                      {
                        "colorbar": {
                          "outlinewidth": 0,
                          "ticks": ""
                        },
                        "colorscale": [
                          [
                            0,
                            "#0d0887"
                          ],
                          [
                            0.1111111111111111,
                            "#46039f"
                          ],
                          [
                            0.2222222222222222,
                            "#7201a8"
                          ],
                          [
                            0.3333333333333333,
                            "#9c179e"
                          ],
                          [
                            0.4444444444444444,
                            "#bd3786"
                          ],
                          [
                            0.5555555555555556,
                            "#d8576b"
                          ],
                          [
                            0.6666666666666666,
                            "#ed7953"
                          ],
                          [
                            0.7777777777777778,
                            "#fb9f3a"
                          ],
                          [
                            0.8888888888888888,
                            "#fdca26"
                          ],
                          [
                            1,
                            "#f0f921"
                          ]
                        ],
                        "type": "heatmap"
                      }
                    ],
                    "heatmapgl": [
                      {
                        "colorbar": {
                          "outlinewidth": 0,
                          "ticks": ""
                        },
                        "colorscale": [
                          [
                            0,
                            "#0d0887"
                          ],
                          [
                            0.1111111111111111,
                            "#46039f"
                          ],
                          [
                            0.2222222222222222,
                            "#7201a8"
                          ],
                          [
                            0.3333333333333333,
                            "#9c179e"
                          ],
                          [
                            0.4444444444444444,
                            "#bd3786"
                          ],
                          [
                            0.5555555555555556,
                            "#d8576b"
                          ],
                          [
                            0.6666666666666666,
                            "#ed7953"
                          ],
                          [
                            0.7777777777777778,
                            "#fb9f3a"
                          ],
                          [
                            0.8888888888888888,
                            "#fdca26"
                          ],
                          [
                            1,
                            "#f0f921"
                          ]
                        ],
                        "type": "heatmapgl"
                      }
                    ],
                    "histogram": [
                      {
                        "marker": {
                          "pattern": {
                            "fillmode": "overlay",
                            "size": 10,
                            "solidity": 0.2
                          }
                        },
                        "type": "histogram"
                      }
                    ],
                    "histogram2d": [
                      {
                        "colorbar": {
                          "outlinewidth": 0,
                          "ticks": ""
                        },
                        "colorscale": [
                          [
                            0,
                            "#0d0887"
                          ],
                          [
                            0.1111111111111111,
                            "#46039f"
                          ],
                          [
                            0.2222222222222222,
                            "#7201a8"
                          ],
                          [
                            0.3333333333333333,
                            "#9c179e"
                          ],
                          [
                            0.4444444444444444,
                            "#bd3786"
                          ],
                          [
                            0.5555555555555556,
                            "#d8576b"
                          ],
                          [
                            0.6666666666666666,
                            "#ed7953"
                          ],
                          [
                            0.7777777777777778,
                            "#fb9f3a"
                          ],
                          [
                            0.8888888888888888,
                            "#fdca26"
                          ],
                          [
                            1,
                            "#f0f921"
                          ]
                        ],
                        "type": "histogram2d"
                      }
                    ],
                    "histogram2dcontour": [
                      {
                        "colorbar": {
                          "outlinewidth": 0,
                          "ticks": ""
                        },
                        "colorscale": [
                          [
                            0,
                            "#0d0887"
                          ],
                          [
                            0.1111111111111111,
                            "#46039f"
                          ],
                          [
                            0.2222222222222222,
                            "#7201a8"
                          ],
                          [
                            0.3333333333333333,
                            "#9c179e"
                          ],
                          [
                            0.4444444444444444,
                            "#bd3786"
                          ],
                          [
                            0.5555555555555556,
                            "#d8576b"
                          ],
                          [
                            0.6666666666666666,
                            "#ed7953"
                          ],
                          [
                            0.7777777777777778,
                            "#fb9f3a"
                          ],
                          [
                            0.8888888888888888,
                            "#fdca26"
                          ],
                          [
                            1,
                            "#f0f921"
                          ]
                        ],
                        "type": "histogram2dcontour"
                      }
                    ],
                    "mesh3d": [
                      {
                        "colorbar": {
                          "outlinewidth": 0,
                          "ticks": ""
                        },
                        "type": "mesh3d"
                      }
                    ],
                    "parcoords": [
                      {
                        "line": {
                          "colorbar": {
                            "outlinewidth": 0,
                            "ticks": ""
                          }
                        },
                        "type": "parcoords"
                      }
                    ],
                    "pie": [
                      {
                        "automargin": true,
                        "type": "pie"
                      }
                    ],
                    "scatter": [
                      {
                        "fillpattern": {
                          "fillmode": "overlay",
                          "size": 10,
                          "solidity": 0.2
                        },
                        "type": "scatter"
                      }
                    ],
                    "scatter3d": [
                      {
                        "line": {
                          "colorbar": {
                            "outlinewidth": 0,
                            "ticks": ""
                          }
                        },
                        "marker": {
                          "colorbar": {
                            "outlinewidth": 0,
                            "ticks": ""
                          }
                        },
                        "type": "scatter3d"
                      }
                    ],
                    "scattercarpet": [
                      {
                        "marker": {
                          "colorbar": {
                            "outlinewidth": 0,
                            "ticks": ""
                          }
                        },
                        "type": "scattercarpet"
                      }
                    ],
                    "scattergeo": [
                      {
                        "marker": {
                          "colorbar": {
                            "outlinewidth": 0,
                            "ticks": ""
                          }
                        },
                        "type": "scattergeo"
                      }
                    ],
                    "scattergl": [
                      {
                        "marker": {
                          "colorbar": {
                            "outlinewidth": 0,
                            "ticks": ""
                          }
                        },
                        "type": "scattergl"
                      }
                    ],
                    "scattermapbox": [
                      {
                        "marker": {
                          "colorbar": {
                            "outlinewidth": 0,
                            "ticks": ""
                          }
                        },
                        "type": "scattermapbox"
                      }
                    ],
                    "scatterpolar": [
                      {
                        "marker": {
                          "colorbar": {
                            "outlinewidth": 0,
                            "ticks": ""
                          }
                        },
                        "type": "scatterpolar"
                      }
                    ],
                    "scatterpolargl": [
                      {
                        "marker": {
                          "colorbar": {
                            "outlinewidth": 0,
                            "ticks": ""
                          }
                        },
                        "type": "scatterpolargl"
                      }
                    ],
                    "scatterternary": [
                      {
                        "marker": {
                          "colorbar": {
                            "outlinewidth": 0,
                            "ticks": ""
                          }
                        },
                        "type": "scatterternary"
                      }
                    ],
                    "surface": [
                      {
                        "colorbar": {
                          "outlinewidth": 0,
                          "ticks": ""
                        },
                        "colorscale": [
                          [
                            0,
                            "#0d0887"
                          ],
                          [
                            0.1111111111111111,
                            "#46039f"
                          ],
                          [
                            0.2222222222222222,
                            "#7201a8"
                          ],
                          [
                            0.3333333333333333,
                            "#9c179e"
                          ],
                          [
                            0.4444444444444444,
                            "#bd3786"
                          ],
                          [
                            0.5555555555555556,
                            "#d8576b"
                          ],
                          [
                            0.6666666666666666,
                            "#ed7953"
                          ],
                          [
                            0.7777777777777778,
                            "#fb9f3a"
                          ],
                          [
                            0.8888888888888888,
                            "#fdca26"
                          ],
                          [
                            1,
                            "#f0f921"
                          ]
                        ],
                        "type": "surface"
                      }
                    ],
                    "table": [
                      {
                        "cells": {
                          "fill": {
                            "color": "#EBF0F8"
                          },
                          "line": {
                            "color": "white"
                          }
                        },
                        "header": {
                          "fill": {
                            "color": "#C8D4E3"
                          },
                          "line": {
                            "color": "white"
                          }
                        },
                        "type": "table"
                      }
                    ]
                  },
                  "layout": {
                    "annotationdefaults": {
                      "arrowcolor": "#2a3f5f",
                      "arrowhead": 0,
                      "arrowwidth": 1
                    },
                    "autotypenumbers": "strict",
                    "coloraxis": {
                      "colorbar": {
                        "outlinewidth": 0,
                        "ticks": ""
                      }
                    },
                    "colorscale": {
                      "diverging": [
                        [
                          0,
                          "#8e0152"
                        ],
                        [
                          0.1,
                          "#c51b7d"
                        ],
                        [
                          0.2,
                          "#de77ae"
                        ],
                        [
                          0.3,
                          "#f1b6da"
                        ],
                        [
                          0.4,
                          "#fde0ef"
                        ],
                        [
                          0.5,
                          "#f7f7f7"
                        ],
                        [
                          0.6,
                          "#e6f5d0"
                        ],
                        [
                          0.7,
                          "#b8e186"
                        ],
                        [
                          0.8,
                          "#7fbc41"
                        ],
                        [
                          0.9,
                          "#4d9221"
                        ],
                        [
                          1,
                          "#276419"
                        ]
                      ],
                      "sequential": [
                        [
                          0,
                          "#0d0887"
                        ],
                        [
                          0.1111111111111111,
                          "#46039f"
                        ],
                        [
                          0.2222222222222222,
                          "#7201a8"
                        ],
                        [
                          0.3333333333333333,
                          "#9c179e"
                        ],
                        [
                          0.4444444444444444,
                          "#bd3786"
                        ],
                        [
                          0.5555555555555556,
                          "#d8576b"
                        ],
                        [
                          0.6666666666666666,
                          "#ed7953"
                        ],
                        [
                          0.7777777777777778,
                          "#fb9f3a"
                        ],
                        [
                          0.8888888888888888,
                          "#fdca26"
                        ],
                        [
                          1,
                          "#f0f921"
                        ]
                      ],
                      "sequentialminus": [
                        [
                          0,
                          "#0d0887"
                        ],
                        [
                          0.1111111111111111,
                          "#46039f"
                        ],
                        [
                          0.2222222222222222,
                          "#7201a8"
                        ],
                        [
                          0.3333333333333333,
                          "#9c179e"
                        ],
                        [
                          0.4444444444444444,
                          "#bd3786"
                        ],
                        [
                          0.5555555555555556,
                          "#d8576b"
                        ],
                        [
                          0.6666666666666666,
                          "#ed7953"
                        ],
                        [
                          0.7777777777777778,
                          "#fb9f3a"
                        ],
                        [
                          0.8888888888888888,
                          "#fdca26"
                        ],
                        [
                          1,
                          "#f0f921"
                        ]
                      ]
                    },
                    "colorway": [
                      "#636efa",
                      "#EF553B",
                      "#00cc96",
                      "#ab63fa",
                      "#FFA15A",
                      "#19d3f3",
                      "#FF6692",
                      "#B6E880",
                      "#FF97FF",
                      "#FECB52"
                    ],
                    "font": {
                      "color": "#2a3f5f"
                    },
                    "geo": {
                      "bgcolor": "white",
                      "lakecolor": "white",
                      "landcolor": "#E5ECF6",
                      "showlakes": true,
                      "showland": true,
                      "subunitcolor": "white"
                    },
                    "hoverlabel": {
                      "align": "left"
                    },
                    "hovermode": "closest",
                    "mapbox": {
                      "style": "light"
                    },
                    "paper_bgcolor": "white",
                    "plot_bgcolor": "#E5ECF6",
                    "polar": {
                      "angularaxis": {
                        "gridcolor": "white",
                        "linecolor": "white",
                        "ticks": ""
                      },
                      "bgcolor": "#E5ECF6",
                      "radialaxis": {
                        "gridcolor": "white",
                        "linecolor": "white",
                        "ticks": ""
                      }
                    },
                    "scene": {
                      "xaxis": {
                        "backgroundcolor": "#E5ECF6",
                        "gridcolor": "white",
                        "gridwidth": 2,
                        "linecolor": "white",
                        "showbackground": true,
                        "ticks": "",
                        "zerolinecolor": "white"
                      },
                      "yaxis": {
                        "backgroundcolor": "#E5ECF6",
                        "gridcolor": "white",
                        "gridwidth": 2,
                        "linecolor": "white",
                        "showbackground": true,
                        "ticks": "",
                        "zerolinecolor": "white"
                      },
                      "zaxis": {
                        "backgroundcolor": "#E5ECF6",
                        "gridcolor": "white",
                        "gridwidth": 2,
                        "linecolor": "white",
                        "showbackground": true,
                        "ticks": "",
                        "zerolinecolor": "white"
                      }
                    },
                    "shapedefaults": {
                      "line": {
                        "color": "#2a3f5f"
                      }
                    },
                    "ternary": {
                      "aaxis": {
                        "gridcolor": "white",
                        "linecolor": "white",
                        "ticks": ""
                      },
                      "baxis": {
                        "gridcolor": "white",
                        "linecolor": "white",
                        "ticks": ""
                      },
                      "bgcolor": "#E5ECF6",
                      "caxis": {
                        "gridcolor": "white",
                        "linecolor": "white",
                        "ticks": ""
                      }
                    },
                    "title": {
                      "x": 0.05
                    },
                    "xaxis": {
                      "automargin": true,
                      "gridcolor": "white",
                      "linecolor": "white",
                      "ticks": "",
                      "title": {
                        "standoff": 15
                      },
                      "zerolinecolor": "white",
                      "zerolinewidth": 2
                    },
                    "yaxis": {
                      "automargin": true,
                      "gridcolor": "white",
                      "linecolor": "white",
                      "ticks": "",
                      "title": {
                        "standoff": 15
                      },
                      "zerolinecolor": "white",
                      "zerolinewidth": 2
                    }
                  }
                },
                "title": {
                  "font": {
                    "color": "black",
                    "size": 24
                  },
                  "text": "Distribuição dos domicílios pelos arranjos familiares<br><sup size=1 style=\"color:#555655\">Segundo o PSE 2020</sup>"
                },
                "width": 700,
                "xaxis": {
                  "anchor": "y",
                  "domain": [
                    0,
                    1
                  ],
                  "range": [
                    0,
                    550
                  ],
                  "tickfont": {
                    "size": 14
                  },
                  "title": {
                    "text": ""
                  }
                },
                "yaxis": {
                  "anchor": "x",
                  "categoryarray": [
                    "União ou casamento mesmo sexo",
                    "Consanguíneo",
                    "Monoparental",
                    "União ou casamento sexo diferente"
                  ],
                  "categoryorder": "array",
                  "domain": [
                    0,
                    1
                  ],
                  "tickfont": {
                    "size": 14
                  },
                  "tickmode": "array",
                  "ticktext": [
                    "União ou casamento<br>(indivíduos de sexo<br>diferente)",
                    "Monoparental",
                    "Consanguíneo",
                    "União ou casamento<br>(indivíduos do<br>mesmo sexo)"
                  ],
                  "tickvals": [
                    0,
                    1,
                    2,
                    3
                  ],
                  "title": {
                    "text": ""
                  }
                }
              }
            }
          },
          "metadata": {},
          "output_type": "display_data"
        }
      ],
      "source": [
        "domicilio_arranjo_familiar = dados.D1606D.value_counts().to_frame().reset_index()\n",
        "domicilio_arranjo_familiar.columns = [\"arranjo\", \"qtd\"]\n",
        "\n",
        "fig = px.bar(domicilio_arranjo_familiar, x=\"qtd\", y=\"arranjo\", color = \"arranjo\", text_auto=True,\n",
        "             color_discrete_sequence=[\"#fec52b\",\"#00b050\", \"#ed3237\", \"#0367b0\"])\n",
        "\n",
        "# Ajustando o layout do gráfico\n",
        "fig.update_layout(width=700, height=500, font_family = 'Open Sans', font_size=15, font_color= \"black\", \n",
        "                  title_font_color= \"black\", title_font_size=24, title_text='Distribuição dos domicílios pelos arranjos familiares' + \n",
        "                  '<br><sup size=1 style=\"color:#555655\">Segundo o PSE 2020</sup>', xaxis_title='', yaxis_title='',\n",
        "                  xaxis_tickfont_size=14, yaxis_tickfont_size=14, xaxis_range = [0,550], \n",
        "                  plot_bgcolor= \"#f8f9fa\", showlegend=False)\n",
        "\n",
        "fig.update_yaxes(tickmode='array', tickvals=np.arange(0,4), ticktext = [\"União ou casamento<br>(indivíduos de sexo<br>diferente)\",\n",
        "                                                                   \"Monoparental\",\n",
        "                                                                   \"Consanguíneo\",\n",
        "                                                                   \"União ou casamento<br>(indivíduos do<br>mesmo sexo)\"])\n",
        "\n",
        "fig.update_traces(textfont_size=15, textposition=\"outside\", texttemplate='<b>%{x}</b>', cliponaxis=False)\n",
        "\n",
        "fig.show()"
      ]
    },
    {
      "cell_type": "markdown",
      "metadata": {},
      "source": [
        "#### Dados estudantes"
      ]
    },
    {
      "cell_type": "markdown",
      "metadata": {},
      "source": [
        "**Dicionário dos dados**\n",
        "\n",
        "- V010:\tCódigo do domicilio\n",
        "- V104_max:\tTotal de moradores\n",
        "- V102_first: Código do Núcleo PM\n",
        "- D201_sum:\tTotal de alunos Passos Mágicos\n",
        "- D202_sum:\tTotal de bolsistas\n",
        "- D202A_sum:\tTotal bolsistas Decisão\n",
        "- D202B_sum:\tTotal bolsistas João Paulo II\n",
        "- D202C_sum:\tTotal bolsistas Einstein\n",
        "- D202D_sum:\tTotal bosistas FIAP\n",
        "- D202E_sum:\tTotal bolsistas UNISA\n",
        "- D202F_sum: Total bolsistas Estácio\n",
        "- D202G_sum:\tTotal bolsistas Outros\n",
        "- D204_sum:\tTotal de inativos Passos Mágicos\n"
      ]
    },
    {
      "cell_type": "code",
      "execution_count": 18,
      "metadata": {},
      "outputs": [
        {
          "data": {
            "text/html": [
              "<div>\n",
              "<style scoped>\n",
              "    .dataframe tbody tr th:only-of-type {\n",
              "        vertical-align: middle;\n",
              "    }\n",
              "\n",
              "    .dataframe tbody tr th {\n",
              "        vertical-align: top;\n",
              "    }\n",
              "\n",
              "    .dataframe thead th {\n",
              "        text-align: right;\n",
              "    }\n",
              "</style>\n",
              "<table border=\"1\" class=\"dataframe\">\n",
              "  <thead>\n",
              "    <tr style=\"text-align: right;\">\n",
              "      <th></th>\n",
              "      <th>V010</th>\n",
              "      <th>V102_first</th>\n",
              "      <th>D201_sum</th>\n",
              "      <th>D202_sum</th>\n",
              "      <th>D202A_sum</th>\n",
              "      <th>D202B_sum</th>\n",
              "      <th>D202C_sum</th>\n",
              "      <th>D202D_sum</th>\n",
              "      <th>D202E_sum</th>\n",
              "      <th>D202F_sum</th>\n",
              "      <th>D202G_sum</th>\n",
              "      <th>D204_sum</th>\n",
              "    </tr>\n",
              "  </thead>\n",
              "  <tbody>\n",
              "    <tr>\n",
              "      <th>0</th>\n",
              "      <td>2020A1000</td>\n",
              "      <td>Centro</td>\n",
              "      <td>1</td>\n",
              "      <td>0</td>\n",
              "      <td>0</td>\n",
              "      <td>0</td>\n",
              "      <td>0</td>\n",
              "      <td>0</td>\n",
              "      <td>0</td>\n",
              "      <td>0</td>\n",
              "      <td>0</td>\n",
              "      <td>0</td>\n",
              "    </tr>\n",
              "    <tr>\n",
              "      <th>1</th>\n",
              "      <td>2020A1001</td>\n",
              "      <td>Centro</td>\n",
              "      <td>1</td>\n",
              "      <td>0</td>\n",
              "      <td>0</td>\n",
              "      <td>0</td>\n",
              "      <td>0</td>\n",
              "      <td>0</td>\n",
              "      <td>0</td>\n",
              "      <td>0</td>\n",
              "      <td>0</td>\n",
              "      <td>0</td>\n",
              "    </tr>\n",
              "    <tr>\n",
              "      <th>2</th>\n",
              "      <td>2020A1002</td>\n",
              "      <td>Centro</td>\n",
              "      <td>2</td>\n",
              "      <td>1</td>\n",
              "      <td>1</td>\n",
              "      <td>0</td>\n",
              "      <td>0</td>\n",
              "      <td>0</td>\n",
              "      <td>0</td>\n",
              "      <td>0</td>\n",
              "      <td>0</td>\n",
              "      <td>0</td>\n",
              "    </tr>\n",
              "  </tbody>\n",
              "</table>\n",
              "</div>"
            ],
            "text/plain": [
              "        V010 V102_first  D201_sum  D202_sum  D202A_sum  D202B_sum  D202C_sum  \\\n",
              "0  2020A1000     Centro         1         0          0          0          0   \n",
              "1  2020A1001     Centro         1         0          0          0          0   \n",
              "2  2020A1002     Centro         2         1          1          0          0   \n",
              "\n",
              "   D202D_sum  D202E_sum  D202F_sum  D202G_sum  D204_sum  \n",
              "0          0          0          0          0         0  \n",
              "1          0          0          0          0         0  \n",
              "2          0          0          0          0         0  "
            ]
          },
          "execution_count": 18,
          "metadata": {},
          "output_type": "execute_result"
        }
      ],
      "source": [
        "cols_estudantes = [\"V010\", \"V102_first\", \"D201_sum\", \"D202_sum\", \"D202A_sum\", \"D202B_sum\", \n",
        "                   \"D202C_sum\", \"D202D_sum\", \"D202E_sum\", \"D202F_sum\", \"D202G_sum\", \"D204_sum\"]\n",
        "df_pm_estudantes = dados[cols_estudantes]\n",
        "df_pm_estudantes.head(3)"
      ]
    },
    {
      "cell_type": "markdown",
      "metadata": {},
      "source": [
        "##### Passos Mágicos - Proporção dos Alunos Passos Mágicos na população"
      ]
    },
    {
      "cell_type": "code",
      "execution_count": 142,
      "metadata": {},
      "outputs": [],
      "source": [
        "total_individuos = dados.V104_max.sum()\n",
        "total_alunos_ativos = dados.D201_sum.sum() - 1  # Um aluno inativo na lista\n",
        "total_demais_indivíduos = total_individuos - total_alunos_ativos"
      ]
    },
    {
      "cell_type": "code",
      "execution_count": 253,
      "metadata": {},
      "outputs": [
        {
          "data": {
            "application/vnd.plotly.v1+json": {
              "config": {
                "plotlyServerURL": "https://plot.ly"
              },
              "data": [
                {
                  "labels": [
                    "Alunos Passos Mágicos",
                    "Demais Indivíduos"
                  ],
                  "marker": {
                    "colors": [
                      "#0367b0",
                      "#68a4d0"
                    ]
                  },
                  "rotation": 90,
                  "textfont": {
                    "size": 12
                  },
                  "textinfo": "label+percent",
                  "texttemplate": "<b>%{label}<br>%{value} (%{percent})<br></b>",
                  "type": "pie",
                  "values": [
                    783,
                    1890
                  ]
                }
              ],
              "layout": {
                "font": {
                  "color": "white",
                  "family": "Open Sans"
                },
                "height": 500,
                "showlegend": false,
                "template": {
                  "data": {
                    "bar": [
                      {
                        "error_x": {
                          "color": "#2a3f5f"
                        },
                        "error_y": {
                          "color": "#2a3f5f"
                        },
                        "marker": {
                          "line": {
                            "color": "#E5ECF6",
                            "width": 0.5
                          },
                          "pattern": {
                            "fillmode": "overlay",
                            "size": 10,
                            "solidity": 0.2
                          }
                        },
                        "type": "bar"
                      }
                    ],
                    "barpolar": [
                      {
                        "marker": {
                          "line": {
                            "color": "#E5ECF6",
                            "width": 0.5
                          },
                          "pattern": {
                            "fillmode": "overlay",
                            "size": 10,
                            "solidity": 0.2
                          }
                        },
                        "type": "barpolar"
                      }
                    ],
                    "carpet": [
                      {
                        "aaxis": {
                          "endlinecolor": "#2a3f5f",
                          "gridcolor": "white",
                          "linecolor": "white",
                          "minorgridcolor": "white",
                          "startlinecolor": "#2a3f5f"
                        },
                        "baxis": {
                          "endlinecolor": "#2a3f5f",
                          "gridcolor": "white",
                          "linecolor": "white",
                          "minorgridcolor": "white",
                          "startlinecolor": "#2a3f5f"
                        },
                        "type": "carpet"
                      }
                    ],
                    "choropleth": [
                      {
                        "colorbar": {
                          "outlinewidth": 0,
                          "ticks": ""
                        },
                        "type": "choropleth"
                      }
                    ],
                    "contour": [
                      {
                        "colorbar": {
                          "outlinewidth": 0,
                          "ticks": ""
                        },
                        "colorscale": [
                          [
                            0,
                            "#0d0887"
                          ],
                          [
                            0.1111111111111111,
                            "#46039f"
                          ],
                          [
                            0.2222222222222222,
                            "#7201a8"
                          ],
                          [
                            0.3333333333333333,
                            "#9c179e"
                          ],
                          [
                            0.4444444444444444,
                            "#bd3786"
                          ],
                          [
                            0.5555555555555556,
                            "#d8576b"
                          ],
                          [
                            0.6666666666666666,
                            "#ed7953"
                          ],
                          [
                            0.7777777777777778,
                            "#fb9f3a"
                          ],
                          [
                            0.8888888888888888,
                            "#fdca26"
                          ],
                          [
                            1,
                            "#f0f921"
                          ]
                        ],
                        "type": "contour"
                      }
                    ],
                    "contourcarpet": [
                      {
                        "colorbar": {
                          "outlinewidth": 0,
                          "ticks": ""
                        },
                        "type": "contourcarpet"
                      }
                    ],
                    "heatmap": [
                      {
                        "colorbar": {
                          "outlinewidth": 0,
                          "ticks": ""
                        },
                        "colorscale": [
                          [
                            0,
                            "#0d0887"
                          ],
                          [
                            0.1111111111111111,
                            "#46039f"
                          ],
                          [
                            0.2222222222222222,
                            "#7201a8"
                          ],
                          [
                            0.3333333333333333,
                            "#9c179e"
                          ],
                          [
                            0.4444444444444444,
                            "#bd3786"
                          ],
                          [
                            0.5555555555555556,
                            "#d8576b"
                          ],
                          [
                            0.6666666666666666,
                            "#ed7953"
                          ],
                          [
                            0.7777777777777778,
                            "#fb9f3a"
                          ],
                          [
                            0.8888888888888888,
                            "#fdca26"
                          ],
                          [
                            1,
                            "#f0f921"
                          ]
                        ],
                        "type": "heatmap"
                      }
                    ],
                    "heatmapgl": [
                      {
                        "colorbar": {
                          "outlinewidth": 0,
                          "ticks": ""
                        },
                        "colorscale": [
                          [
                            0,
                            "#0d0887"
                          ],
                          [
                            0.1111111111111111,
                            "#46039f"
                          ],
                          [
                            0.2222222222222222,
                            "#7201a8"
                          ],
                          [
                            0.3333333333333333,
                            "#9c179e"
                          ],
                          [
                            0.4444444444444444,
                            "#bd3786"
                          ],
                          [
                            0.5555555555555556,
                            "#d8576b"
                          ],
                          [
                            0.6666666666666666,
                            "#ed7953"
                          ],
                          [
                            0.7777777777777778,
                            "#fb9f3a"
                          ],
                          [
                            0.8888888888888888,
                            "#fdca26"
                          ],
                          [
                            1,
                            "#f0f921"
                          ]
                        ],
                        "type": "heatmapgl"
                      }
                    ],
                    "histogram": [
                      {
                        "marker": {
                          "pattern": {
                            "fillmode": "overlay",
                            "size": 10,
                            "solidity": 0.2
                          }
                        },
                        "type": "histogram"
                      }
                    ],
                    "histogram2d": [
                      {
                        "colorbar": {
                          "outlinewidth": 0,
                          "ticks": ""
                        },
                        "colorscale": [
                          [
                            0,
                            "#0d0887"
                          ],
                          [
                            0.1111111111111111,
                            "#46039f"
                          ],
                          [
                            0.2222222222222222,
                            "#7201a8"
                          ],
                          [
                            0.3333333333333333,
                            "#9c179e"
                          ],
                          [
                            0.4444444444444444,
                            "#bd3786"
                          ],
                          [
                            0.5555555555555556,
                            "#d8576b"
                          ],
                          [
                            0.6666666666666666,
                            "#ed7953"
                          ],
                          [
                            0.7777777777777778,
                            "#fb9f3a"
                          ],
                          [
                            0.8888888888888888,
                            "#fdca26"
                          ],
                          [
                            1,
                            "#f0f921"
                          ]
                        ],
                        "type": "histogram2d"
                      }
                    ],
                    "histogram2dcontour": [
                      {
                        "colorbar": {
                          "outlinewidth": 0,
                          "ticks": ""
                        },
                        "colorscale": [
                          [
                            0,
                            "#0d0887"
                          ],
                          [
                            0.1111111111111111,
                            "#46039f"
                          ],
                          [
                            0.2222222222222222,
                            "#7201a8"
                          ],
                          [
                            0.3333333333333333,
                            "#9c179e"
                          ],
                          [
                            0.4444444444444444,
                            "#bd3786"
                          ],
                          [
                            0.5555555555555556,
                            "#d8576b"
                          ],
                          [
                            0.6666666666666666,
                            "#ed7953"
                          ],
                          [
                            0.7777777777777778,
                            "#fb9f3a"
                          ],
                          [
                            0.8888888888888888,
                            "#fdca26"
                          ],
                          [
                            1,
                            "#f0f921"
                          ]
                        ],
                        "type": "histogram2dcontour"
                      }
                    ],
                    "mesh3d": [
                      {
                        "colorbar": {
                          "outlinewidth": 0,
                          "ticks": ""
                        },
                        "type": "mesh3d"
                      }
                    ],
                    "parcoords": [
                      {
                        "line": {
                          "colorbar": {
                            "outlinewidth": 0,
                            "ticks": ""
                          }
                        },
                        "type": "parcoords"
                      }
                    ],
                    "pie": [
                      {
                        "automargin": true,
                        "type": "pie"
                      }
                    ],
                    "scatter": [
                      {
                        "fillpattern": {
                          "fillmode": "overlay",
                          "size": 10,
                          "solidity": 0.2
                        },
                        "type": "scatter"
                      }
                    ],
                    "scatter3d": [
                      {
                        "line": {
                          "colorbar": {
                            "outlinewidth": 0,
                            "ticks": ""
                          }
                        },
                        "marker": {
                          "colorbar": {
                            "outlinewidth": 0,
                            "ticks": ""
                          }
                        },
                        "type": "scatter3d"
                      }
                    ],
                    "scattercarpet": [
                      {
                        "marker": {
                          "colorbar": {
                            "outlinewidth": 0,
                            "ticks": ""
                          }
                        },
                        "type": "scattercarpet"
                      }
                    ],
                    "scattergeo": [
                      {
                        "marker": {
                          "colorbar": {
                            "outlinewidth": 0,
                            "ticks": ""
                          }
                        },
                        "type": "scattergeo"
                      }
                    ],
                    "scattergl": [
                      {
                        "marker": {
                          "colorbar": {
                            "outlinewidth": 0,
                            "ticks": ""
                          }
                        },
                        "type": "scattergl"
                      }
                    ],
                    "scattermapbox": [
                      {
                        "marker": {
                          "colorbar": {
                            "outlinewidth": 0,
                            "ticks": ""
                          }
                        },
                        "type": "scattermapbox"
                      }
                    ],
                    "scatterpolar": [
                      {
                        "marker": {
                          "colorbar": {
                            "outlinewidth": 0,
                            "ticks": ""
                          }
                        },
                        "type": "scatterpolar"
                      }
                    ],
                    "scatterpolargl": [
                      {
                        "marker": {
                          "colorbar": {
                            "outlinewidth": 0,
                            "ticks": ""
                          }
                        },
                        "type": "scatterpolargl"
                      }
                    ],
                    "scatterternary": [
                      {
                        "marker": {
                          "colorbar": {
                            "outlinewidth": 0,
                            "ticks": ""
                          }
                        },
                        "type": "scatterternary"
                      }
                    ],
                    "surface": [
                      {
                        "colorbar": {
                          "outlinewidth": 0,
                          "ticks": ""
                        },
                        "colorscale": [
                          [
                            0,
                            "#0d0887"
                          ],
                          [
                            0.1111111111111111,
                            "#46039f"
                          ],
                          [
                            0.2222222222222222,
                            "#7201a8"
                          ],
                          [
                            0.3333333333333333,
                            "#9c179e"
                          ],
                          [
                            0.4444444444444444,
                            "#bd3786"
                          ],
                          [
                            0.5555555555555556,
                            "#d8576b"
                          ],
                          [
                            0.6666666666666666,
                            "#ed7953"
                          ],
                          [
                            0.7777777777777778,
                            "#fb9f3a"
                          ],
                          [
                            0.8888888888888888,
                            "#fdca26"
                          ],
                          [
                            1,
                            "#f0f921"
                          ]
                        ],
                        "type": "surface"
                      }
                    ],
                    "table": [
                      {
                        "cells": {
                          "fill": {
                            "color": "#EBF0F8"
                          },
                          "line": {
                            "color": "white"
                          }
                        },
                        "header": {
                          "fill": {
                            "color": "#C8D4E3"
                          },
                          "line": {
                            "color": "white"
                          }
                        },
                        "type": "table"
                      }
                    ]
                  },
                  "layout": {
                    "annotationdefaults": {
                      "arrowcolor": "#2a3f5f",
                      "arrowhead": 0,
                      "arrowwidth": 1
                    },
                    "autotypenumbers": "strict",
                    "coloraxis": {
                      "colorbar": {
                        "outlinewidth": 0,
                        "ticks": ""
                      }
                    },
                    "colorscale": {
                      "diverging": [
                        [
                          0,
                          "#8e0152"
                        ],
                        [
                          0.1,
                          "#c51b7d"
                        ],
                        [
                          0.2,
                          "#de77ae"
                        ],
                        [
                          0.3,
                          "#f1b6da"
                        ],
                        [
                          0.4,
                          "#fde0ef"
                        ],
                        [
                          0.5,
                          "#f7f7f7"
                        ],
                        [
                          0.6,
                          "#e6f5d0"
                        ],
                        [
                          0.7,
                          "#b8e186"
                        ],
                        [
                          0.8,
                          "#7fbc41"
                        ],
                        [
                          0.9,
                          "#4d9221"
                        ],
                        [
                          1,
                          "#276419"
                        ]
                      ],
                      "sequential": [
                        [
                          0,
                          "#0d0887"
                        ],
                        [
                          0.1111111111111111,
                          "#46039f"
                        ],
                        [
                          0.2222222222222222,
                          "#7201a8"
                        ],
                        [
                          0.3333333333333333,
                          "#9c179e"
                        ],
                        [
                          0.4444444444444444,
                          "#bd3786"
                        ],
                        [
                          0.5555555555555556,
                          "#d8576b"
                        ],
                        [
                          0.6666666666666666,
                          "#ed7953"
                        ],
                        [
                          0.7777777777777778,
                          "#fb9f3a"
                        ],
                        [
                          0.8888888888888888,
                          "#fdca26"
                        ],
                        [
                          1,
                          "#f0f921"
                        ]
                      ],
                      "sequentialminus": [
                        [
                          0,
                          "#0d0887"
                        ],
                        [
                          0.1111111111111111,
                          "#46039f"
                        ],
                        [
                          0.2222222222222222,
                          "#7201a8"
                        ],
                        [
                          0.3333333333333333,
                          "#9c179e"
                        ],
                        [
                          0.4444444444444444,
                          "#bd3786"
                        ],
                        [
                          0.5555555555555556,
                          "#d8576b"
                        ],
                        [
                          0.6666666666666666,
                          "#ed7953"
                        ],
                        [
                          0.7777777777777778,
                          "#fb9f3a"
                        ],
                        [
                          0.8888888888888888,
                          "#fdca26"
                        ],
                        [
                          1,
                          "#f0f921"
                        ]
                      ]
                    },
                    "colorway": [
                      "#636efa",
                      "#EF553B",
                      "#00cc96",
                      "#ab63fa",
                      "#FFA15A",
                      "#19d3f3",
                      "#FF6692",
                      "#B6E880",
                      "#FF97FF",
                      "#FECB52"
                    ],
                    "font": {
                      "color": "#2a3f5f"
                    },
                    "geo": {
                      "bgcolor": "white",
                      "lakecolor": "white",
                      "landcolor": "#E5ECF6",
                      "showlakes": true,
                      "showland": true,
                      "subunitcolor": "white"
                    },
                    "hoverlabel": {
                      "align": "left"
                    },
                    "hovermode": "closest",
                    "mapbox": {
                      "style": "light"
                    },
                    "paper_bgcolor": "white",
                    "plot_bgcolor": "#E5ECF6",
                    "polar": {
                      "angularaxis": {
                        "gridcolor": "white",
                        "linecolor": "white",
                        "ticks": ""
                      },
                      "bgcolor": "#E5ECF6",
                      "radialaxis": {
                        "gridcolor": "white",
                        "linecolor": "white",
                        "ticks": ""
                      }
                    },
                    "scene": {
                      "xaxis": {
                        "backgroundcolor": "#E5ECF6",
                        "gridcolor": "white",
                        "gridwidth": 2,
                        "linecolor": "white",
                        "showbackground": true,
                        "ticks": "",
                        "zerolinecolor": "white"
                      },
                      "yaxis": {
                        "backgroundcolor": "#E5ECF6",
                        "gridcolor": "white",
                        "gridwidth": 2,
                        "linecolor": "white",
                        "showbackground": true,
                        "ticks": "",
                        "zerolinecolor": "white"
                      },
                      "zaxis": {
                        "backgroundcolor": "#E5ECF6",
                        "gridcolor": "white",
                        "gridwidth": 2,
                        "linecolor": "white",
                        "showbackground": true,
                        "ticks": "",
                        "zerolinecolor": "white"
                      }
                    },
                    "shapedefaults": {
                      "line": {
                        "color": "#2a3f5f"
                      }
                    },
                    "ternary": {
                      "aaxis": {
                        "gridcolor": "white",
                        "linecolor": "white",
                        "ticks": ""
                      },
                      "baxis": {
                        "gridcolor": "white",
                        "linecolor": "white",
                        "ticks": ""
                      },
                      "bgcolor": "#E5ECF6",
                      "caxis": {
                        "gridcolor": "white",
                        "linecolor": "white",
                        "ticks": ""
                      }
                    },
                    "title": {
                      "x": 0.05
                    },
                    "xaxis": {
                      "automargin": true,
                      "gridcolor": "white",
                      "linecolor": "white",
                      "ticks": "",
                      "title": {
                        "standoff": 15
                      },
                      "zerolinecolor": "white",
                      "zerolinewidth": 2
                    },
                    "yaxis": {
                      "automargin": true,
                      "gridcolor": "white",
                      "linecolor": "white",
                      "ticks": "",
                      "title": {
                        "standoff": 15
                      },
                      "zerolinecolor": "white",
                      "zerolinewidth": 2
                    }
                  }
                },
                "title": {
                  "font": {
                    "color": "black",
                    "size": 24
                  },
                  "text": "Proporção dos Alunos Passos Mágicos<br>Ativos na amostra da pesquisa<br><sup size=1 style=\"color:#555655\">Segundo o PSE 2020</sup>"
                },
                "width": 500
              }
            }
          },
          "metadata": {},
          "output_type": "display_data"
        }
      ],
      "source": [
        "total_individuos = dados.V104_max.sum()\n",
        "total_alunos_ativos = dados.D201_sum.sum() - 1  # Um aluno inativo na lista\n",
        "total_demais_indivíduos = total_individuos - total_alunos_ativos\n",
        "\n",
        "labels = [\"Alunos Passos Mágicos\", \"Demais Indivíduos\"]\n",
        "values = [total_alunos_ativos, total_demais_indivíduos]\n",
        "\n",
        "fig = go.Figure(\n",
        "    data=[\n",
        "        go.Pie(labels = labels, values = values, textinfo='label+percent',\n",
        "               marker_colors=[\"#0367b0\",\"#68a4d0\"], rotation = 90 )\n",
        "        ]\n",
        "    )\n",
        "\n",
        "# Ajustando o layout do gráfico\n",
        "fig.update_layout(width=500, height=500, font_family = 'Open Sans', font_color= \"white\", title_font_color= \"black\", \n",
        "                  title_font_size=24, title_text='Proporção dos Alunos Passos Mágicos<br>Ativos na amostra da pesquisa' + \n",
        "                  '<br><sup size=1 style=\"color:#555655\">Segundo o PSE 2020</sup>', showlegend=False)\n",
        "\n",
        "fig.update_traces(textfont_size=12, texttemplate='<b>%{label}<br>%{value} (%{percent})<br></b>')\n",
        "\n",
        "fig.show()"
      ]
    },
    {
      "cell_type": "markdown",
      "metadata": {},
      "source": [
        "##### Passos Mágicos - Total de Alunos Passos Mágicos por sexo"
      ]
    },
    {
      "cell_type": "code",
      "execution_count": 122,
      "metadata": {},
      "outputs": [
        {
          "data": {
            "image/png": "[encoded data removed]",
            "text/plain": [
              "<Waffle size 640x480 with 1 Axes>"
            ]
          },
          "metadata": {},
          "output_type": "display_data"
        }
      ],
      "source": [
        "pct_meninas = (100 * 442/783)\n",
        "pct_meninos = (100 * 341/783)\n",
        "data = {'Meninas': pct_meninas, 'Meninos': pct_meninos}\n",
        "data\n",
        "fig = plt.figure(FigureClass=Waffle, rows=5, values=data, colors=[\"#f58334\", \"#0367b0\"],\n",
        "                title={'label': 'Total de Alunos Passos Mágicos por sexo', 'loc': 'left', 'size':10},\n",
        "                labels=[f\"{k} ({v:.1f}%)\" for k, v in data.items()],\n",
        "                legend={'loc': 'lower left', 'bbox_to_anchor': (0, -0.4), 'ncol': len(data), 'framealpha': 0},\n",
        "                starting_location='NW', block_arranging_style='snake')"
      ]
    },
    {
      "cell_type": "markdown",
      "metadata": {},
      "source": [
        "##### Passos Mágicos - Alunos Passos Mágicos por cor ou raça"
      ]
    },
    {
      "cell_type": "code",
      "execution_count": 125,
      "metadata": {},
      "outputs": [
        {
          "data": {
            "application/vnd.plotly.v1+json": {
              "config": {
                "plotlyServerURL": "https://plot.ly"
              },
              "data": [
                {
                  "alignmentgroup": "True",
                  "cliponaxis": false,
                  "hovertemplate": "cor_raca=%{y}<br>qtd=%{x}<extra></extra>",
                  "legendgroup": "Branca",
                  "marker": {
                    "color": "#f58334",
                    "pattern": {
                      "shape": ""
                    }
                  },
                  "name": "Branca",
                  "offsetgroup": "Branca",
                  "orientation": "h",
                  "showlegend": true,
                  "textfont": {
                    "size": 15
                  },
                  "textposition": "outside",
                  "texttemplate": "<b>%{x}</b>",
                  "type": "bar",
                  "x": [
                    368
                  ],
                  "xaxis": "x",
                  "y": [
                    "Branca"
                  ],
                  "yaxis": "y"
                },
                {
                  "alignmentgroup": "True",
                  "cliponaxis": false,
                  "hovertemplate": "cor_raca=%{y}<br>qtd=%{x}<extra></extra>",
                  "legendgroup": "Parda",
                  "marker": {
                    "color": "#fec52b",
                    "pattern": {
                      "shape": ""
                    }
                  },
                  "name": "Parda",
                  "offsetgroup": "Parda",
                  "orientation": "h",
                  "showlegend": true,
                  "textfont": {
                    "size": 15
                  },
                  "textposition": "outside",
                  "texttemplate": "<b>%{x}</b>",
                  "type": "bar",
                  "x": [
                    358
                  ],
                  "xaxis": "x",
                  "y": [
                    "Parda"
                  ],
                  "yaxis": "y"
                },
                {
                  "alignmentgroup": "True",
                  "cliponaxis": false,
                  "hovertemplate": "cor_raca=%{y}<br>qtd=%{x}<extra></extra>",
                  "legendgroup": "Preta",
                  "marker": {
                    "color": "#00b050",
                    "pattern": {
                      "shape": ""
                    }
                  },
                  "name": "Preta",
                  "offsetgroup": "Preta",
                  "orientation": "h",
                  "showlegend": true,
                  "textfont": {
                    "size": 15
                  },
                  "textposition": "outside",
                  "texttemplate": "<b>%{x}</b>",
                  "type": "bar",
                  "x": [
                    51
                  ],
                  "xaxis": "x",
                  "y": [
                    "Preta"
                  ],
                  "yaxis": "y"
                },
                {
                  "alignmentgroup": "True",
                  "cliponaxis": false,
                  "hovertemplate": "cor_raca=%{y}<br>qtd=%{x}<extra></extra>",
                  "legendgroup": "Amarela",
                  "marker": {
                    "color": "#ed3237",
                    "pattern": {
                      "shape": ""
                    }
                  },
                  "name": "Amarela",
                  "offsetgroup": "Amarela",
                  "orientation": "h",
                  "showlegend": true,
                  "textfont": {
                    "size": 15
                  },
                  "textposition": "outside",
                  "texttemplate": "<b>%{x}</b>",
                  "type": "bar",
                  "x": [
                    4
                  ],
                  "xaxis": "x",
                  "y": [
                    "Amarela"
                  ],
                  "yaxis": "y"
                },
                {
                  "alignmentgroup": "True",
                  "cliponaxis": false,
                  "hovertemplate": "cor_raca=%{y}<br>qtd=%{x}<extra></extra>",
                  "legendgroup": "Indígena",
                  "marker": {
                    "color": "#0367b0",
                    "pattern": {
                      "shape": ""
                    }
                  },
                  "name": "Indígena",
                  "offsetgroup": "Indígena",
                  "orientation": "h",
                  "showlegend": true,
                  "textfont": {
                    "size": 15
                  },
                  "textposition": "outside",
                  "texttemplate": "<b>%{x}</b>",
                  "type": "bar",
                  "x": [
                    1
                  ],
                  "xaxis": "x",
                  "y": [
                    "Indígena"
                  ],
                  "yaxis": "y"
                },
                {
                  "alignmentgroup": "True",
                  "cliponaxis": false,
                  "hovertemplate": "cor_raca=%{y}<br>qtd=%{x}<extra></extra>",
                  "legendgroup": "Ignorada",
                  "marker": {
                    "color": "#cccccc",
                    "pattern": {
                      "shape": ""
                    }
                  },
                  "name": "Ignorada",
                  "offsetgroup": "Ignorada",
                  "orientation": "h",
                  "showlegend": true,
                  "textfont": {
                    "size": 15
                  },
                  "textposition": "outside",
                  "texttemplate": "<b>%{x}</b>",
                  "type": "bar",
                  "x": [
                    1
                  ],
                  "xaxis": "x",
                  "y": [
                    "Ignorada"
                  ],
                  "yaxis": "y"
                }
              ],
              "layout": {
                "barmode": "relative",
                "font": {
                  "color": "black",
                  "family": "Open Sans",
                  "size": 15
                },
                "height": 300,
                "legend": {
                  "title": {
                    "text": "cor_raca"
                  },
                  "tracegroupgap": 0
                },
                "margin": {
                  "t": 60
                },
                "plot_bgcolor": "#f8f9fa",
                "showlegend": false,
                "template": {
                  "data": {
                    "bar": [
                      {
                        "error_x": {
                          "color": "#2a3f5f"
                        },
                        "error_y": {
                          "color": "#2a3f5f"
                        },
                        "marker": {
                          "line": {
                            "color": "#E5ECF6",
                            "width": 0.5
                          },
                          "pattern": {
                            "fillmode": "overlay",
                            "size": 10,
                            "solidity": 0.2
                          }
                        },
                        "type": "bar"
                      }
                    ],
                    "barpolar": [
                      {
                        "marker": {
                          "line": {
                            "color": "#E5ECF6",
                            "width": 0.5
                          },
                          "pattern": {
                            "fillmode": "overlay",
                            "size": 10,
                            "solidity": 0.2
                          }
                        },
                        "type": "barpolar"
                      }
                    ],
                    "carpet": [
                      {
                        "aaxis": {
                          "endlinecolor": "#2a3f5f",
                          "gridcolor": "white",
                          "linecolor": "white",
                          "minorgridcolor": "white",
                          "startlinecolor": "#2a3f5f"
                        },
                        "baxis": {
                          "endlinecolor": "#2a3f5f",
                          "gridcolor": "white",
                          "linecolor": "white",
                          "minorgridcolor": "white",
                          "startlinecolor": "#2a3f5f"
                        },
                        "type": "carpet"
                      }
                    ],
                    "choropleth": [
                      {
                        "colorbar": {
                          "outlinewidth": 0,
                          "ticks": ""
                        },
                        "type": "choropleth"
                      }
                    ],
                    "contour": [
                      {
                        "colorbar": {
                          "outlinewidth": 0,
                          "ticks": ""
                        },
                        "colorscale": [
                          [
                            0,
                            "#0d0887"
                          ],
                          [
                            0.1111111111111111,
                            "#46039f"
                          ],
                          [
                            0.2222222222222222,
                            "#7201a8"
                          ],
                          [
                            0.3333333333333333,
                            "#9c179e"
                          ],
                          [
                            0.4444444444444444,
                            "#bd3786"
                          ],
                          [
                            0.5555555555555556,
                            "#d8576b"
                          ],
                          [
                            0.6666666666666666,
                            "#ed7953"
                          ],
                          [
                            0.7777777777777778,
                            "#fb9f3a"
                          ],
                          [
                            0.8888888888888888,
                            "#fdca26"
                          ],
                          [
                            1,
                            "#f0f921"
                          ]
                        ],
                        "type": "contour"
                      }
                    ],
                    "contourcarpet": [
                      {
                        "colorbar": {
                          "outlinewidth": 0,
                          "ticks": ""
                        },
                        "type": "contourcarpet"
                      }
                    ],
                    "heatmap": [
                      {
                        "colorbar": {
                          "outlinewidth": 0,
                          "ticks": ""
                        },
                        "colorscale": [
                          [
                            0,
                            "#0d0887"
                          ],
                          [
                            0.1111111111111111,
                            "#46039f"
                          ],
                          [
                            0.2222222222222222,
                            "#7201a8"
                          ],
                          [
                            0.3333333333333333,
                            "#9c179e"
                          ],
                          [
                            0.4444444444444444,
                            "#bd3786"
                          ],
                          [
                            0.5555555555555556,
                            "#d8576b"
                          ],
                          [
                            0.6666666666666666,
                            "#ed7953"
                          ],
                          [
                            0.7777777777777778,
                            "#fb9f3a"
                          ],
                          [
                            0.8888888888888888,
                            "#fdca26"
                          ],
                          [
                            1,
                            "#f0f921"
                          ]
                        ],
                        "type": "heatmap"
                      }
                    ],
                    "heatmapgl": [
                      {
                        "colorbar": {
                          "outlinewidth": 0,
                          "ticks": ""
                        },
                        "colorscale": [
                          [
                            0,
                            "#0d0887"
                          ],
                          [
                            0.1111111111111111,
                            "#46039f"
                          ],
                          [
                            0.2222222222222222,
                            "#7201a8"
                          ],
                          [
                            0.3333333333333333,
                            "#9c179e"
                          ],
                          [
                            0.4444444444444444,
                            "#bd3786"
                          ],
                          [
                            0.5555555555555556,
                            "#d8576b"
                          ],
                          [
                            0.6666666666666666,
                            "#ed7953"
                          ],
                          [
                            0.7777777777777778,
                            "#fb9f3a"
                          ],
                          [
                            0.8888888888888888,
                            "#fdca26"
                          ],
                          [
                            1,
                            "#f0f921"
                          ]
                        ],
                        "type": "heatmapgl"
                      }
                    ],
                    "histogram": [
                      {
                        "marker": {
                          "pattern": {
                            "fillmode": "overlay",
                            "size": 10,
                            "solidity": 0.2
                          }
                        },
                        "type": "histogram"
                      }
                    ],
                    "histogram2d": [
                      {
                        "colorbar": {
                          "outlinewidth": 0,
                          "ticks": ""
                        },
                        "colorscale": [
                          [
                            0,
                            "#0d0887"
                          ],
                          [
                            0.1111111111111111,
                            "#46039f"
                          ],
                          [
                            0.2222222222222222,
                            "#7201a8"
                          ],
                          [
                            0.3333333333333333,
                            "#9c179e"
                          ],
                          [
                            0.4444444444444444,
                            "#bd3786"
                          ],
                          [
                            0.5555555555555556,
                            "#d8576b"
                          ],
                          [
                            0.6666666666666666,
                            "#ed7953"
                          ],
                          [
                            0.7777777777777778,
                            "#fb9f3a"
                          ],
                          [
                            0.8888888888888888,
                            "#fdca26"
                          ],
                          [
                            1,
                            "#f0f921"
                          ]
                        ],
                        "type": "histogram2d"
                      }
                    ],
                    "histogram2dcontour": [
                      {
                        "colorbar": {
                          "outlinewidth": 0,
                          "ticks": ""
                        },
                        "colorscale": [
                          [
                            0,
                            "#0d0887"
                          ],
                          [
                            0.1111111111111111,
                            "#46039f"
                          ],
                          [
                            0.2222222222222222,
                            "#7201a8"
                          ],
                          [
                            0.3333333333333333,
                            "#9c179e"
                          ],
                          [
                            0.4444444444444444,
                            "#bd3786"
                          ],
                          [
                            0.5555555555555556,
                            "#d8576b"
                          ],
                          [
                            0.6666666666666666,
                            "#ed7953"
                          ],
                          [
                            0.7777777777777778,
                            "#fb9f3a"
                          ],
                          [
                            0.8888888888888888,
                            "#fdca26"
                          ],
                          [
                            1,
                            "#f0f921"
                          ]
                        ],
                        "type": "histogram2dcontour"
                      }
                    ],
                    "mesh3d": [
                      {
                        "colorbar": {
                          "outlinewidth": 0,
                          "ticks": ""
                        },
                        "type": "mesh3d"
                      }
                    ],
                    "parcoords": [
                      {
                        "line": {
                          "colorbar": {
                            "outlinewidth": 0,
                            "ticks": ""
                          }
                        },
                        "type": "parcoords"
                      }
                    ],
                    "pie": [
                      {
                        "automargin": true,
                        "type": "pie"
                      }
                    ],
                    "scatter": [
                      {
                        "fillpattern": {
                          "fillmode": "overlay",
                          "size": 10,
                          "solidity": 0.2
                        },
                        "type": "scatter"
                      }
                    ],
                    "scatter3d": [
                      {
                        "line": {
                          "colorbar": {
                            "outlinewidth": 0,
                            "ticks": ""
                          }
                        },
                        "marker": {
                          "colorbar": {
                            "outlinewidth": 0,
                            "ticks": ""
                          }
                        },
                        "type": "scatter3d"
                      }
                    ],
                    "scattercarpet": [
                      {
                        "marker": {
                          "colorbar": {
                            "outlinewidth": 0,
                            "ticks": ""
                          }
                        },
                        "type": "scattercarpet"
                      }
                    ],
                    "scattergeo": [
                      {
                        "marker": {
                          "colorbar": {
                            "outlinewidth": 0,
                            "ticks": ""
                          }
                        },
                        "type": "scattergeo"
                      }
                    ],
                    "scattergl": [
                      {
                        "marker": {
                          "colorbar": {
                            "outlinewidth": 0,
                            "ticks": ""
                          }
                        },
                        "type": "scattergl"
                      }
                    ],
                    "scattermapbox": [
                      {
                        "marker": {
                          "colorbar": {
                            "outlinewidth": 0,
                            "ticks": ""
                          }
                        },
                        "type": "scattermapbox"
                      }
                    ],
                    "scatterpolar": [
                      {
                        "marker": {
                          "colorbar": {
                            "outlinewidth": 0,
                            "ticks": ""
                          }
                        },
                        "type": "scatterpolar"
                      }
                    ],
                    "scatterpolargl": [
                      {
                        "marker": {
                          "colorbar": {
                            "outlinewidth": 0,
                            "ticks": ""
                          }
                        },
                        "type": "scatterpolargl"
                      }
                    ],
                    "scatterternary": [
                      {
                        "marker": {
                          "colorbar": {
                            "outlinewidth": 0,
                            "ticks": ""
                          }
                        },
                        "type": "scatterternary"
                      }
                    ],
                    "surface": [
                      {
                        "colorbar": {
                          "outlinewidth": 0,
                          "ticks": ""
                        },
                        "colorscale": [
                          [
                            0,
                            "#0d0887"
                          ],
                          [
                            0.1111111111111111,
                            "#46039f"
                          ],
                          [
                            0.2222222222222222,
                            "#7201a8"
                          ],
                          [
                            0.3333333333333333,
                            "#9c179e"
                          ],
                          [
                            0.4444444444444444,
                            "#bd3786"
                          ],
                          [
                            0.5555555555555556,
                            "#d8576b"
                          ],
                          [
                            0.6666666666666666,
                            "#ed7953"
                          ],
                          [
                            0.7777777777777778,
                            "#fb9f3a"
                          ],
                          [
                            0.8888888888888888,
                            "#fdca26"
                          ],
                          [
                            1,
                            "#f0f921"
                          ]
                        ],
                        "type": "surface"
                      }
                    ],
                    "table": [
                      {
                        "cells": {
                          "fill": {
                            "color": "#EBF0F8"
                          },
                          "line": {
                            "color": "white"
                          }
                        },
                        "header": {
                          "fill": {
                            "color": "#C8D4E3"
                          },
                          "line": {
                            "color": "white"
                          }
                        },
                        "type": "table"
                      }
                    ]
                  },
                  "layout": {
                    "annotationdefaults": {
                      "arrowcolor": "#2a3f5f",
                      "arrowhead": 0,
                      "arrowwidth": 1
                    },
                    "autotypenumbers": "strict",
                    "coloraxis": {
                      "colorbar": {
                        "outlinewidth": 0,
                        "ticks": ""
                      }
                    },
                    "colorscale": {
                      "diverging": [
                        [
                          0,
                          "#8e0152"
                        ],
                        [
                          0.1,
                          "#c51b7d"
                        ],
                        [
                          0.2,
                          "#de77ae"
                        ],
                        [
                          0.3,
                          "#f1b6da"
                        ],
                        [
                          0.4,
                          "#fde0ef"
                        ],
                        [
                          0.5,
                          "#f7f7f7"
                        ],
                        [
                          0.6,
                          "#e6f5d0"
                        ],
                        [
                          0.7,
                          "#b8e186"
                        ],
                        [
                          0.8,
                          "#7fbc41"
                        ],
                        [
                          0.9,
                          "#4d9221"
                        ],
                        [
                          1,
                          "#276419"
                        ]
                      ],
                      "sequential": [
                        [
                          0,
                          "#0d0887"
                        ],
                        [
                          0.1111111111111111,
                          "#46039f"
                        ],
                        [
                          0.2222222222222222,
                          "#7201a8"
                        ],
                        [
                          0.3333333333333333,
                          "#9c179e"
                        ],
                        [
                          0.4444444444444444,
                          "#bd3786"
                        ],
                        [
                          0.5555555555555556,
                          "#d8576b"
                        ],
                        [
                          0.6666666666666666,
                          "#ed7953"
                        ],
                        [
                          0.7777777777777778,
                          "#fb9f3a"
                        ],
                        [
                          0.8888888888888888,
                          "#fdca26"
                        ],
                        [
                          1,
                          "#f0f921"
                        ]
                      ],
                      "sequentialminus": [
                        [
                          0,
                          "#0d0887"
                        ],
                        [
                          0.1111111111111111,
                          "#46039f"
                        ],
                        [
                          0.2222222222222222,
                          "#7201a8"
                        ],
                        [
                          0.3333333333333333,
                          "#9c179e"
                        ],
                        [
                          0.4444444444444444,
                          "#bd3786"
                        ],
                        [
                          0.5555555555555556,
                          "#d8576b"
                        ],
                        [
                          0.6666666666666666,
                          "#ed7953"
                        ],
                        [
                          0.7777777777777778,
                          "#fb9f3a"
                        ],
                        [
                          0.8888888888888888,
                          "#fdca26"
                        ],
                        [
                          1,
                          "#f0f921"
                        ]
                      ]
                    },
                    "colorway": [
                      "#636efa",
                      "#EF553B",
                      "#00cc96",
                      "#ab63fa",
                      "#FFA15A",
                      "#19d3f3",
                      "#FF6692",
                      "#B6E880",
                      "#FF97FF",
                      "#FECB52"
                    ],
                    "font": {
                      "color": "#2a3f5f"
                    },
                    "geo": {
                      "bgcolor": "white",
                      "lakecolor": "white",
                      "landcolor": "#E5ECF6",
                      "showlakes": true,
                      "showland": true,
                      "subunitcolor": "white"
                    },
                    "hoverlabel": {
                      "align": "left"
                    },
                    "hovermode": "closest",
                    "mapbox": {
                      "style": "light"
                    },
                    "paper_bgcolor": "white",
                    "plot_bgcolor": "#E5ECF6",
                    "polar": {
                      "angularaxis": {
                        "gridcolor": "white",
                        "linecolor": "white",
                        "ticks": ""
                      },
                      "bgcolor": "#E5ECF6",
                      "radialaxis": {
                        "gridcolor": "white",
                        "linecolor": "white",
                        "ticks": ""
                      }
                    },
                    "scene": {
                      "xaxis": {
                        "backgroundcolor": "#E5ECF6",
                        "gridcolor": "white",
                        "gridwidth": 2,
                        "linecolor": "white",
                        "showbackground": true,
                        "ticks": "",
                        "zerolinecolor": "white"
                      },
                      "yaxis": {
                        "backgroundcolor": "#E5ECF6",
                        "gridcolor": "white",
                        "gridwidth": 2,
                        "linecolor": "white",
                        "showbackground": true,
                        "ticks": "",
                        "zerolinecolor": "white"
                      },
                      "zaxis": {
                        "backgroundcolor": "#E5ECF6",
                        "gridcolor": "white",
                        "gridwidth": 2,
                        "linecolor": "white",
                        "showbackground": true,
                        "ticks": "",
                        "zerolinecolor": "white"
                      }
                    },
                    "shapedefaults": {
                      "line": {
                        "color": "#2a3f5f"
                      }
                    },
                    "ternary": {
                      "aaxis": {
                        "gridcolor": "white",
                        "linecolor": "white",
                        "ticks": ""
                      },
                      "baxis": {
                        "gridcolor": "white",
                        "linecolor": "white",
                        "ticks": ""
                      },
                      "bgcolor": "#E5ECF6",
                      "caxis": {
                        "gridcolor": "white",
                        "linecolor": "white",
                        "ticks": ""
                      }
                    },
                    "title": {
                      "x": 0.05
                    },
                    "xaxis": {
                      "automargin": true,
                      "gridcolor": "white",
                      "linecolor": "white",
                      "ticks": "",
                      "title": {
                        "standoff": 15
                      },
                      "zerolinecolor": "white",
                      "zerolinewidth": 2
                    },
                    "yaxis": {
                      "automargin": true,
                      "gridcolor": "white",
                      "linecolor": "white",
                      "ticks": "",
                      "title": {
                        "standoff": 15
                      },
                      "zerolinecolor": "white",
                      "zerolinewidth": 2
                    }
                  }
                },
                "title": {
                  "font": {
                    "color": "black",
                    "size": 24
                  },
                  "text": "População por Cor ou Raça<br><sup size=1 style=\"color:#555655\">Segundo o PSE 2020</sup>"
                },
                "width": 700,
                "xaxis": {
                  "anchor": "y",
                  "domain": [
                    0,
                    1
                  ],
                  "range": [
                    0,
                    400
                  ],
                  "tickfont": {
                    "size": 14
                  },
                  "title": {
                    "text": ""
                  }
                },
                "yaxis": {
                  "anchor": "x",
                  "categoryarray": [
                    "Ignorada",
                    "Indígena",
                    "Amarela",
                    "Preta",
                    "Parda",
                    "Branca"
                  ],
                  "categoryorder": "array",
                  "domain": [
                    0,
                    1
                  ],
                  "tickfont": {
                    "size": 14
                  },
                  "title": {
                    "text": ""
                  }
                }
              }
            }
          },
          "metadata": {},
          "output_type": "display_data"
        }
      ],
      "source": [
        "aluno_cor_raca = pd.DataFrame({\n",
        "    \"cor_raca\": [\"Branca\", \"Parda\", \"Preta\", \"Amarela\", \"Indígena\",\"Ignorada\"],\n",
        "    \"qtd\": [368, 358, 51, 4, 1, 1]\n",
        "})\n",
        "\n",
        "fig = px.bar(aluno_cor_raca, x=\"qtd\", y=\"cor_raca\", color = \"cor_raca\", text_auto=True,\n",
        "             color_discrete_sequence=[\"#f58334\", \"#fec52b\",\"#00b050\", \"#ed3237\", \"#0367b0\", \"#cccccc\"],\n",
        "             category_orders={'cor_raca':[\"Branca\", \"Parda\", \"Preta\", \"Amarela\",\"Indígena\", \"Ignorada\"]})\n",
        "\n",
        "# Ajustando o layout do gráfico\n",
        "fig.update_layout(width=700, height=300, font_family = 'Open Sans', font_size=15, font_color= \"black\", \n",
        "                  title_font_color= \"black\", title_font_size=24, title_text='População por Cor ou Raça' + \n",
        "                  '<br><sup size=1 style=\"color:#555655\">Segundo o PSE 2020</sup>', xaxis_title='', yaxis_title='',\n",
        "                  xaxis_tickfont_size=14, yaxis_tickfont_size=14, xaxis_range = [0,400], \n",
        "                  plot_bgcolor= \"#f8f9fa\", showlegend=False)\n",
        "\n",
        "fig.update_traces(textfont_size=15, textposition=\"outside\", texttemplate='<b>%{x}</b>', cliponaxis=False)\n",
        "\n",
        "fig.show()"
      ]
    },
    {
      "cell_type": "markdown",
      "metadata": {},
      "source": [
        "##### Passos Mágicos - Alunos pela condição do domicílios"
      ]
    },
    {
      "cell_type": "code",
      "execution_count": 160,
      "metadata": {},
      "outputs": [
        {
          "data": {
            "application/vnd.plotly.v1+json": {
              "config": {
                "plotlyServerURL": "https://plot.ly"
              },
              "data": [
                {
                  "alignmentgroup": "True",
                  "cliponaxis": false,
                  "hovertemplate": "condicao=%{y}<br>qtd=%{x}<extra></extra>",
                  "legendgroup": "Filho(a) do responsável e/ou do cônjuge",
                  "marker": {
                    "color": "#fec52b",
                    "pattern": {
                      "shape": ""
                    }
                  },
                  "name": "Filho(a) do responsável e/ou do cônjuge",
                  "offsetgroup": "Filho(a) do responsável e/ou do cônjuge",
                  "orientation": "h",
                  "showlegend": true,
                  "textfont": {
                    "size": 15
                  },
                  "textposition": "outside",
                  "texttemplate": "<b>%{x}</b>",
                  "type": "bar",
                  "x": [
                    736
                  ],
                  "xaxis": "x",
                  "y": [
                    "Filho(a) do responsável e/ou do cônjuge"
                  ],
                  "yaxis": "y"
                },
                {
                  "alignmentgroup": "True",
                  "cliponaxis": false,
                  "hovertemplate": "condicao=%{y}<br>qtd=%{x}<extra></extra>",
                  "legendgroup": "Outra relação com o responsável",
                  "marker": {
                    "color": "#00b050",
                    "pattern": {
                      "shape": ""
                    }
                  },
                  "name": "Outra relação com o responsável",
                  "offsetgroup": "Outra relação com o responsável",
                  "orientation": "h",
                  "showlegend": true,
                  "textfont": {
                    "size": 15
                  },
                  "textposition": "outside",
                  "texttemplate": "<b>%{x}</b>",
                  "type": "bar",
                  "x": [
                    22
                  ],
                  "xaxis": "x",
                  "y": [
                    "Outra relação com o responsável"
                  ],
                  "yaxis": "y"
                },
                {
                  "alignmentgroup": "True",
                  "cliponaxis": false,
                  "hovertemplate": "condicao=%{y}<br>qtd=%{x}<extra></extra>",
                  "legendgroup": "Neto(a) do responsável",
                  "marker": {
                    "color": "#ed3237",
                    "pattern": {
                      "shape": ""
                    }
                  },
                  "name": "Neto(a) do responsável",
                  "offsetgroup": "Neto(a) do responsável",
                  "orientation": "h",
                  "showlegend": true,
                  "textfont": {
                    "size": 15
                  },
                  "textposition": "outside",
                  "texttemplate": "<b>%{x}</b>",
                  "type": "bar",
                  "x": [
                    19
                  ],
                  "xaxis": "x",
                  "y": [
                    "Neto(a) do responsável"
                  ],
                  "yaxis": "y"
                },
                {
                  "alignmentgroup": "True",
                  "cliponaxis": false,
                  "hovertemplate": "condicao=%{y}<br>qtd=%{x}<extra></extra>",
                  "legendgroup": "Sem relação com o responsável",
                  "marker": {
                    "color": "#0367b0",
                    "pattern": {
                      "shape": ""
                    }
                  },
                  "name": "Sem relação com o responsável",
                  "offsetgroup": "Sem relação com o responsável",
                  "orientation": "h",
                  "showlegend": true,
                  "textfont": {
                    "size": 15
                  },
                  "textposition": "outside",
                  "texttemplate": "<b>%{x}</b>",
                  "type": "bar",
                  "x": [
                    6
                  ],
                  "xaxis": "x",
                  "y": [
                    "Sem relação com o responsável"
                  ],
                  "yaxis": "y"
                }
              ],
              "layout": {
                "barmode": "relative",
                "font": {
                  "color": "black",
                  "family": "Open Sans",
                  "size": 15
                },
                "height": 500,
                "legend": {
                  "title": {
                    "text": "condicao"
                  },
                  "tracegroupgap": 0
                },
                "margin": {
                  "t": 60
                },
                "plot_bgcolor": "#f8f9fa",
                "showlegend": false,
                "template": {
                  "data": {
                    "bar": [
                      {
                        "error_x": {
                          "color": "#2a3f5f"
                        },
                        "error_y": {
                          "color": "#2a3f5f"
                        },
                        "marker": {
                          "line": {
                            "color": "#E5ECF6",
                            "width": 0.5
                          },
                          "pattern": {
                            "fillmode": "overlay",
                            "size": 10,
                            "solidity": 0.2
                          }
                        },
                        "type": "bar"
                      }
                    ],
                    "barpolar": [
                      {
                        "marker": {
                          "line": {
                            "color": "#E5ECF6",
                            "width": 0.5
                          },
                          "pattern": {
                            "fillmode": "overlay",
                            "size": 10,
                            "solidity": 0.2
                          }
                        },
                        "type": "barpolar"
                      }
                    ],
                    "carpet": [
                      {
                        "aaxis": {
                          "endlinecolor": "#2a3f5f",
                          "gridcolor": "white",
                          "linecolor": "white",
                          "minorgridcolor": "white",
                          "startlinecolor": "#2a3f5f"
                        },
                        "baxis": {
                          "endlinecolor": "#2a3f5f",
                          "gridcolor": "white",
                          "linecolor": "white",
                          "minorgridcolor": "white",
                          "startlinecolor": "#2a3f5f"
                        },
                        "type": "carpet"
                      }
                    ],
                    "choropleth": [
                      {
                        "colorbar": {
                          "outlinewidth": 0,
                          "ticks": ""
                        },
                        "type": "choropleth"
                      }
                    ],
                    "contour": [
                      {
                        "colorbar": {
                          "outlinewidth": 0,
                          "ticks": ""
                        },
                        "colorscale": [
                          [
                            0,
                            "#0d0887"
                          ],
                          [
                            0.1111111111111111,
                            "#46039f"
                          ],
                          [
                            0.2222222222222222,
                            "#7201a8"
                          ],
                          [
                            0.3333333333333333,
                            "#9c179e"
                          ],
                          [
                            0.4444444444444444,
                            "#bd3786"
                          ],
                          [
                            0.5555555555555556,
                            "#d8576b"
                          ],
                          [
                            0.6666666666666666,
                            "#ed7953"
                          ],
                          [
                            0.7777777777777778,
                            "#fb9f3a"
                          ],
                          [
                            0.8888888888888888,
                            "#fdca26"
                          ],
                          [
                            1,
                            "#f0f921"
                          ]
                        ],
                        "type": "contour"
                      }
                    ],
                    "contourcarpet": [
                      {
                        "colorbar": {
                          "outlinewidth": 0,
                          "ticks": ""
                        },
                        "type": "contourcarpet"
                      }
                    ],
                    "heatmap": [
                      {
                        "colorbar": {
                          "outlinewidth": 0,
                          "ticks": ""
                        },
                        "colorscale": [
                          [
                            0,
                            "#0d0887"
                          ],
                          [
                            0.1111111111111111,
                            "#46039f"
                          ],
                          [
                            0.2222222222222222,
                            "#7201a8"
                          ],
                          [
                            0.3333333333333333,
                            "#9c179e"
                          ],
                          [
                            0.4444444444444444,
                            "#bd3786"
                          ],
                          [
                            0.5555555555555556,
                            "#d8576b"
                          ],
                          [
                            0.6666666666666666,
                            "#ed7953"
                          ],
                          [
                            0.7777777777777778,
                            "#fb9f3a"
                          ],
                          [
                            0.8888888888888888,
                            "#fdca26"
                          ],
                          [
                            1,
                            "#f0f921"
                          ]
                        ],
                        "type": "heatmap"
                      }
                    ],
                    "heatmapgl": [
                      {
                        "colorbar": {
                          "outlinewidth": 0,
                          "ticks": ""
                        },
                        "colorscale": [
                          [
                            0,
                            "#0d0887"
                          ],
                          [
                            0.1111111111111111,
                            "#46039f"
                          ],
                          [
                            0.2222222222222222,
                            "#7201a8"
                          ],
                          [
                            0.3333333333333333,
                            "#9c179e"
                          ],
                          [
                            0.4444444444444444,
                            "#bd3786"
                          ],
                          [
                            0.5555555555555556,
                            "#d8576b"
                          ],
                          [
                            0.6666666666666666,
                            "#ed7953"
                          ],
                          [
                            0.7777777777777778,
                            "#fb9f3a"
                          ],
                          [
                            0.8888888888888888,
                            "#fdca26"
                          ],
                          [
                            1,
                            "#f0f921"
                          ]
                        ],
                        "type": "heatmapgl"
                      }
                    ],
                    "histogram": [
                      {
                        "marker": {
                          "pattern": {
                            "fillmode": "overlay",
                            "size": 10,
                            "solidity": 0.2
                          }
                        },
                        "type": "histogram"
                      }
                    ],
                    "histogram2d": [
                      {
                        "colorbar": {
                          "outlinewidth": 0,
                          "ticks": ""
                        },
                        "colorscale": [
                          [
                            0,
                            "#0d0887"
                          ],
                          [
                            0.1111111111111111,
                            "#46039f"
                          ],
                          [
                            0.2222222222222222,
                            "#7201a8"
                          ],
                          [
                            0.3333333333333333,
                            "#9c179e"
                          ],
                          [
                            0.4444444444444444,
                            "#bd3786"
                          ],
                          [
                            0.5555555555555556,
                            "#d8576b"
                          ],
                          [
                            0.6666666666666666,
                            "#ed7953"
                          ],
                          [
                            0.7777777777777778,
                            "#fb9f3a"
                          ],
                          [
                            0.8888888888888888,
                            "#fdca26"
                          ],
                          [
                            1,
                            "#f0f921"
                          ]
                        ],
                        "type": "histogram2d"
                      }
                    ],
                    "histogram2dcontour": [
                      {
                        "colorbar": {
                          "outlinewidth": 0,
                          "ticks": ""
                        },
                        "colorscale": [
                          [
                            0,
                            "#0d0887"
                          ],
                          [
                            0.1111111111111111,
                            "#46039f"
                          ],
                          [
                            0.2222222222222222,
                            "#7201a8"
                          ],
                          [
                            0.3333333333333333,
                            "#9c179e"
                          ],
                          [
                            0.4444444444444444,
                            "#bd3786"
                          ],
                          [
                            0.5555555555555556,
                            "#d8576b"
                          ],
                          [
                            0.6666666666666666,
                            "#ed7953"
                          ],
                          [
                            0.7777777777777778,
                            "#fb9f3a"
                          ],
                          [
                            0.8888888888888888,
                            "#fdca26"
                          ],
                          [
                            1,
                            "#f0f921"
                          ]
                        ],
                        "type": "histogram2dcontour"
                      }
                    ],
                    "mesh3d": [
                      {
                        "colorbar": {
                          "outlinewidth": 0,
                          "ticks": ""
                        },
                        "type": "mesh3d"
                      }
                    ],
                    "parcoords": [
                      {
                        "line": {
                          "colorbar": {
                            "outlinewidth": 0,
                            "ticks": ""
                          }
                        },
                        "type": "parcoords"
                      }
                    ],
                    "pie": [
                      {
                        "automargin": true,
                        "type": "pie"
                      }
                    ],
                    "scatter": [
                      {
                        "fillpattern": {
                          "fillmode": "overlay",
                          "size": 10,
                          "solidity": 0.2
                        },
                        "type": "scatter"
                      }
                    ],
                    "scatter3d": [
                      {
                        "line": {
                          "colorbar": {
                            "outlinewidth": 0,
                            "ticks": ""
                          }
                        },
                        "marker": {
                          "colorbar": {
                            "outlinewidth": 0,
                            "ticks": ""
                          }
                        },
                        "type": "scatter3d"
                      }
                    ],
                    "scattercarpet": [
                      {
                        "marker": {
                          "colorbar": {
                            "outlinewidth": 0,
                            "ticks": ""
                          }
                        },
                        "type": "scattercarpet"
                      }
                    ],
                    "scattergeo": [
                      {
                        "marker": {
                          "colorbar": {
                            "outlinewidth": 0,
                            "ticks": ""
                          }
                        },
                        "type": "scattergeo"
                      }
                    ],
                    "scattergl": [
                      {
                        "marker": {
                          "colorbar": {
                            "outlinewidth": 0,
                            "ticks": ""
                          }
                        },
                        "type": "scattergl"
                      }
                    ],
                    "scattermapbox": [
                      {
                        "marker": {
                          "colorbar": {
                            "outlinewidth": 0,
                            "ticks": ""
                          }
                        },
                        "type": "scattermapbox"
                      }
                    ],
                    "scatterpolar": [
                      {
                        "marker": {
                          "colorbar": {
                            "outlinewidth": 0,
                            "ticks": ""
                          }
                        },
                        "type": "scatterpolar"
                      }
                    ],
                    "scatterpolargl": [
                      {
                        "marker": {
                          "colorbar": {
                            "outlinewidth": 0,
                            "ticks": ""
                          }
                        },
                        "type": "scatterpolargl"
                      }
                    ],
                    "scatterternary": [
                      {
                        "marker": {
                          "colorbar": {
                            "outlinewidth": 0,
                            "ticks": ""
                          }
                        },
                        "type": "scatterternary"
                      }
                    ],
                    "surface": [
                      {
                        "colorbar": {
                          "outlinewidth": 0,
                          "ticks": ""
                        },
                        "colorscale": [
                          [
                            0,
                            "#0d0887"
                          ],
                          [
                            0.1111111111111111,
                            "#46039f"
                          ],
                          [
                            0.2222222222222222,
                            "#7201a8"
                          ],
                          [
                            0.3333333333333333,
                            "#9c179e"
                          ],
                          [
                            0.4444444444444444,
                            "#bd3786"
                          ],
                          [
                            0.5555555555555556,
                            "#d8576b"
                          ],
                          [
                            0.6666666666666666,
                            "#ed7953"
                          ],
                          [
                            0.7777777777777778,
                            "#fb9f3a"
                          ],
                          [
                            0.8888888888888888,
                            "#fdca26"
                          ],
                          [
                            1,
                            "#f0f921"
                          ]
                        ],
                        "type": "surface"
                      }
                    ],
                    "table": [
                      {
                        "cells": {
                          "fill": {
                            "color": "#EBF0F8"
                          },
                          "line": {
                            "color": "white"
                          }
                        },
                        "header": {
                          "fill": {
                            "color": "#C8D4E3"
                          },
                          "line": {
                            "color": "white"
                          }
                        },
                        "type": "table"
                      }
                    ]
                  },
                  "layout": {
                    "annotationdefaults": {
                      "arrowcolor": "#2a3f5f",
                      "arrowhead": 0,
                      "arrowwidth": 1
                    },
                    "autotypenumbers": "strict",
                    "coloraxis": {
                      "colorbar": {
                        "outlinewidth": 0,
                        "ticks": ""
                      }
                    },
                    "colorscale": {
                      "diverging": [
                        [
                          0,
                          "#8e0152"
                        ],
                        [
                          0.1,
                          "#c51b7d"
                        ],
                        [
                          0.2,
                          "#de77ae"
                        ],
                        [
                          0.3,
                          "#f1b6da"
                        ],
                        [
                          0.4,
                          "#fde0ef"
                        ],
                        [
                          0.5,
                          "#f7f7f7"
                        ],
                        [
                          0.6,
                          "#e6f5d0"
                        ],
                        [
                          0.7,
                          "#b8e186"
                        ],
                        [
                          0.8,
                          "#7fbc41"
                        ],
                        [
                          0.9,
                          "#4d9221"
                        ],
                        [
                          1,
                          "#276419"
                        ]
                      ],
                      "sequential": [
                        [
                          0,
                          "#0d0887"
                        ],
                        [
                          0.1111111111111111,
                          "#46039f"
                        ],
                        [
                          0.2222222222222222,
                          "#7201a8"
                        ],
                        [
                          0.3333333333333333,
                          "#9c179e"
                        ],
                        [
                          0.4444444444444444,
                          "#bd3786"
                        ],
                        [
                          0.5555555555555556,
                          "#d8576b"
                        ],
                        [
                          0.6666666666666666,
                          "#ed7953"
                        ],
                        [
                          0.7777777777777778,
                          "#fb9f3a"
                        ],
                        [
                          0.8888888888888888,
                          "#fdca26"
                        ],
                        [
                          1,
                          "#f0f921"
                        ]
                      ],
                      "sequentialminus": [
                        [
                          0,
                          "#0d0887"
                        ],
                        [
                          0.1111111111111111,
                          "#46039f"
                        ],
                        [
                          0.2222222222222222,
                          "#7201a8"
                        ],
                        [
                          0.3333333333333333,
                          "#9c179e"
                        ],
                        [
                          0.4444444444444444,
                          "#bd3786"
                        ],
                        [
                          0.5555555555555556,
                          "#d8576b"
                        ],
                        [
                          0.6666666666666666,
                          "#ed7953"
                        ],
                        [
                          0.7777777777777778,
                          "#fb9f3a"
                        ],
                        [
                          0.8888888888888888,
                          "#fdca26"
                        ],
                        [
                          1,
                          "#f0f921"
                        ]
                      ]
                    },
                    "colorway": [
                      "#636efa",
                      "#EF553B",
                      "#00cc96",
                      "#ab63fa",
                      "#FFA15A",
                      "#19d3f3",
                      "#FF6692",
                      "#B6E880",
                      "#FF97FF",
                      "#FECB52"
                    ],
                    "font": {
                      "color": "#2a3f5f"
                    },
                    "geo": {
                      "bgcolor": "white",
                      "lakecolor": "white",
                      "landcolor": "#E5ECF6",
                      "showlakes": true,
                      "showland": true,
                      "subunitcolor": "white"
                    },
                    "hoverlabel": {
                      "align": "left"
                    },
                    "hovermode": "closest",
                    "mapbox": {
                      "style": "light"
                    },
                    "paper_bgcolor": "white",
                    "plot_bgcolor": "#E5ECF6",
                    "polar": {
                      "angularaxis": {
                        "gridcolor": "white",
                        "linecolor": "white",
                        "ticks": ""
                      },
                      "bgcolor": "#E5ECF6",
                      "radialaxis": {
                        "gridcolor": "white",
                        "linecolor": "white",
                        "ticks": ""
                      }
                    },
                    "scene": {
                      "xaxis": {
                        "backgroundcolor": "#E5ECF6",
                        "gridcolor": "white",
                        "gridwidth": 2,
                        "linecolor": "white",
                        "showbackground": true,
                        "ticks": "",
                        "zerolinecolor": "white"
                      },
                      "yaxis": {
                        "backgroundcolor": "#E5ECF6",
                        "gridcolor": "white",
                        "gridwidth": 2,
                        "linecolor": "white",
                        "showbackground": true,
                        "ticks": "",
                        "zerolinecolor": "white"
                      },
                      "zaxis": {
                        "backgroundcolor": "#E5ECF6",
                        "gridcolor": "white",
                        "gridwidth": 2,
                        "linecolor": "white",
                        "showbackground": true,
                        "ticks": "",
                        "zerolinecolor": "white"
                      }
                    },
                    "shapedefaults": {
                      "line": {
                        "color": "#2a3f5f"
                      }
                    },
                    "ternary": {
                      "aaxis": {
                        "gridcolor": "white",
                        "linecolor": "white",
                        "ticks": ""
                      },
                      "baxis": {
                        "gridcolor": "white",
                        "linecolor": "white",
                        "ticks": ""
                      },
                      "bgcolor": "#E5ECF6",
                      "caxis": {
                        "gridcolor": "white",
                        "linecolor": "white",
                        "ticks": ""
                      }
                    },
                    "title": {
                      "x": 0.05
                    },
                    "xaxis": {
                      "automargin": true,
                      "gridcolor": "white",
                      "linecolor": "white",
                      "ticks": "",
                      "title": {
                        "standoff": 15
                      },
                      "zerolinecolor": "white",
                      "zerolinewidth": 2
                    },
                    "yaxis": {
                      "automargin": true,
                      "gridcolor": "white",
                      "linecolor": "white",
                      "ticks": "",
                      "title": {
                        "standoff": 15
                      },
                      "zerolinecolor": "white",
                      "zerolinewidth": 2
                    }
                  }
                },
                "title": {
                  "font": {
                    "color": "black",
                    "size": 24
                  },
                  "text": "Distribuição dos alunos por sua condição no domicílio<br><sup size=1 style=\"color:#555655\">Segundo o PSE 2020</sup>"
                },
                "width": 700,
                "xaxis": {
                  "anchor": "y",
                  "domain": [
                    0,
                    1
                  ],
                  "range": [
                    0,
                    850
                  ],
                  "tickfont": {
                    "size": 14
                  },
                  "title": {
                    "text": ""
                  }
                },
                "yaxis": {
                  "anchor": "x",
                  "categoryarray": [
                    "Sem relação com o responsável",
                    "Neto(a) do responsável",
                    "Outra relação com o responsável",
                    "Filho(a) do responsável e/ou do cônjuge"
                  ],
                  "categoryorder": "total descending",
                  "domain": [
                    0,
                    1
                  ],
                  "tickfont": {
                    "size": 14
                  },
                  "tickmode": "array",
                  "ticktext": [
                    "Filho(a) do responsável<br>e/ou do cônjuge",
                    "Outra relação com<br>o responsável",
                    "Neto(a) do<br>responsável",
                    "Sem relação com<br>o responsável"
                  ],
                  "tickvals": [
                    0,
                    1,
                    2,
                    3
                  ],
                  "title": {
                    "text": ""
                  }
                }
              }
            }
          },
          "metadata": {},
          "output_type": "display_data"
        }
      ],
      "source": [
        "condicao_domicilio = dados.loc[dados.index.repeat(dados.D201_sum)].V201_first.value_counts()\n",
        "condicao_domicilio = condicao_domicilio.to_frame().reset_index()\n",
        "condicao_domicilio.columns = [\"condicao\", \"qtd\"]\n",
        "condicao_domicilio = condicao_domicilio.head(4) # retirando o aluno desistente\n",
        "\n",
        "condicao = {'Pai ou mãe de aluno(a) ativo (atualmente cursando)': \"Filho(a) do responsável e/ou do cônjuge\",\n",
        "            'Responsável por aluno(a) ativo (atualmente cursando)': \"Outra relação com o responsável\",\n",
        "            'Avô(ó) de aluno(a) ativo (atualmente cursando)': \"Neto(a) do responsável\",\n",
        "            'Sem relação': \"Sem relação com o responsável\"}\n",
        "\n",
        "condicao_domicilio.condicao = condicao_domicilio.condicao.map(condicao)\n",
        "\n",
        "fig = px.bar(condicao_domicilio, x=\"qtd\", y=\"condicao\", color = \"condicao\", text_auto=True,\n",
        "             color_discrete_sequence=[\"#fec52b\",\"#00b050\", \"#ed3237\", \"#0367b0\"])\n",
        "\n",
        "# Ajustando o layout do gráfico\n",
        "fig.update_layout(width=700, height=500, font_family = 'Open Sans', font_size=15, font_color= \"black\", \n",
        "                  title_font_color= \"black\", title_font_size=24, title_text='Distribuição dos alunos por sua condição no domicílio' + \n",
        "                  '<br><sup size=1 style=\"color:#555655\">Segundo o PSE 2020</sup>', xaxis_title='', yaxis_title='',\n",
        "                  xaxis_tickfont_size=14, yaxis_tickfont_size=14, xaxis_range = [0,850], \n",
        "                  plot_bgcolor= \"#f8f9fa\", showlegend=False, yaxis_categoryorder='total descending')\n",
        "\n",
        "fig.update_yaxes(tickmode='array', tickvals=np.arange(0,4), ticktext = [\"Filho(a) do responsável<br>e/ou do cônjuge\",\n",
        "                                                                   \"Outra relação com<br>o responsável\",\n",
        "                                                                   \"Neto(a) do<br>responsável\",\n",
        "                                                                   \"Sem relação com<br>o responsável\"])\n",
        "\n",
        "fig.update_traces(textfont_size=15, textposition=\"outside\", texttemplate='<b>%{x}</b>', cliponaxis=False)\n",
        "\n",
        "fig.show()"
      ]
    },
    {
      "cell_type": "markdown",
      "metadata": {},
      "source": [
        "##### Passos Mágicos - Distribuição dos alunos pela idade"
      ]
    },
    {
      "cell_type": "code",
      "execution_count": 209,
      "metadata": {},
      "outputs": [
        {
          "data": {
            "application/vnd.plotly.v1+json": {
              "config": {
                "plotlyServerURL": "https://plot.ly"
              },
              "data": [
                {
                  "alignmentgroup": "True",
                  "bingroup": "x",
                  "cliponaxis": false,
                  "histfunc": "sum",
                  "hovertemplate": "Idade=%{x}<br>sum of Nº de Alunos=%{y}<extra></extra>",
                  "legendgroup": "",
                  "marker": {
                    "color": "#68a4d0",
                    "pattern": {
                      "shape": ""
                    }
                  },
                  "name": "",
                  "nbinsx": 8,
                  "offsetgroup": "",
                  "orientation": "v",
                  "showlegend": false,
                  "textfont": {
                    "size": 15
                  },
                  "textposition": "outside",
                  "texttemplate": "<b>%{y}</b>",
                  "type": "histogram",
                  "x": [
                    7,
                    8,
                    9,
                    10,
                    11,
                    12,
                    13,
                    14,
                    15,
                    16,
                    17,
                    18,
                    19,
                    20,
                    21
                  ],
                  "xaxis": "x",
                  "y": [
                    11,
                    45,
                    62,
                    107,
                    107,
                    84,
                    84,
                    84,
                    52,
                    62,
                    57,
                    20,
                    6,
                    1,
                    1
                  ],
                  "yaxis": "y"
                }
              ],
              "layout": {
                "bargap": 0.1,
                "barmode": "relative",
                "font": {
                  "color": "black",
                  "family": "Open Sans"
                },
                "height": 500,
                "legend": {
                  "tracegroupgap": 0
                },
                "margin": {
                  "t": 60
                },
                "plot_bgcolor": "#f8f9fa",
                "showlegend": false,
                "template": {
                  "data": {
                    "bar": [
                      {
                        "error_x": {
                          "color": "#2a3f5f"
                        },
                        "error_y": {
                          "color": "#2a3f5f"
                        },
                        "marker": {
                          "line": {
                            "color": "#E5ECF6",
                            "width": 0.5
                          },
                          "pattern": {
                            "fillmode": "overlay",
                            "size": 10,
                            "solidity": 0.2
                          }
                        },
                        "type": "bar"
                      }
                    ],
                    "barpolar": [
                      {
                        "marker": {
                          "line": {
                            "color": "#E5ECF6",
                            "width": 0.5
                          },
                          "pattern": {
                            "fillmode": "overlay",
                            "size": 10,
                            "solidity": 0.2
                          }
                        },
                        "type": "barpolar"
                      }
                    ],
                    "carpet": [
                      {
                        "aaxis": {
                          "endlinecolor": "#2a3f5f",
                          "gridcolor": "white",
                          "linecolor": "white",
                          "minorgridcolor": "white",
                          "startlinecolor": "#2a3f5f"
                        },
                        "baxis": {
                          "endlinecolor": "#2a3f5f",
                          "gridcolor": "white",
                          "linecolor": "white",
                          "minorgridcolor": "white",
                          "startlinecolor": "#2a3f5f"
                        },
                        "type": "carpet"
                      }
                    ],
                    "choropleth": [
                      {
                        "colorbar": {
                          "outlinewidth": 0,
                          "ticks": ""
                        },
                        "type": "choropleth"
                      }
                    ],
                    "contour": [
                      {
                        "colorbar": {
                          "outlinewidth": 0,
                          "ticks": ""
                        },
                        "colorscale": [
                          [
                            0,
                            "#0d0887"
                          ],
                          [
                            0.1111111111111111,
                            "#46039f"
                          ],
                          [
                            0.2222222222222222,
                            "#7201a8"
                          ],
                          [
                            0.3333333333333333,
                            "#9c179e"
                          ],
                          [
                            0.4444444444444444,
                            "#bd3786"
                          ],
                          [
                            0.5555555555555556,
                            "#d8576b"
                          ],
                          [
                            0.6666666666666666,
                            "#ed7953"
                          ],
                          [
                            0.7777777777777778,
                            "#fb9f3a"
                          ],
                          [
                            0.8888888888888888,
                            "#fdca26"
                          ],
                          [
                            1,
                            "#f0f921"
                          ]
                        ],
                        "type": "contour"
                      }
                    ],
                    "contourcarpet": [
                      {
                        "colorbar": {
                          "outlinewidth": 0,
                          "ticks": ""
                        },
                        "type": "contourcarpet"
                      }
                    ],
                    "heatmap": [
                      {
                        "colorbar": {
                          "outlinewidth": 0,
                          "ticks": ""
                        },
                        "colorscale": [
                          [
                            0,
                            "#0d0887"
                          ],
                          [
                            0.1111111111111111,
                            "#46039f"
                          ],
                          [
                            0.2222222222222222,
                            "#7201a8"
                          ],
                          [
                            0.3333333333333333,
                            "#9c179e"
                          ],
                          [
                            0.4444444444444444,
                            "#bd3786"
                          ],
                          [
                            0.5555555555555556,
                            "#d8576b"
                          ],
                          [
                            0.6666666666666666,
                            "#ed7953"
                          ],
                          [
                            0.7777777777777778,
                            "#fb9f3a"
                          ],
                          [
                            0.8888888888888888,
                            "#fdca26"
                          ],
                          [
                            1,
                            "#f0f921"
                          ]
                        ],
                        "type": "heatmap"
                      }
                    ],
                    "heatmapgl": [
                      {
                        "colorbar": {
                          "outlinewidth": 0,
                          "ticks": ""
                        },
                        "colorscale": [
                          [
                            0,
                            "#0d0887"
                          ],
                          [
                            0.1111111111111111,
                            "#46039f"
                          ],
                          [
                            0.2222222222222222,
                            "#7201a8"
                          ],
                          [
                            0.3333333333333333,
                            "#9c179e"
                          ],
                          [
                            0.4444444444444444,
                            "#bd3786"
                          ],
                          [
                            0.5555555555555556,
                            "#d8576b"
                          ],
                          [
                            0.6666666666666666,
                            "#ed7953"
                          ],
                          [
                            0.7777777777777778,
                            "#fb9f3a"
                          ],
                          [
                            0.8888888888888888,
                            "#fdca26"
                          ],
                          [
                            1,
                            "#f0f921"
                          ]
                        ],
                        "type": "heatmapgl"
                      }
                    ],
                    "histogram": [
                      {
                        "marker": {
                          "pattern": {
                            "fillmode": "overlay",
                            "size": 10,
                            "solidity": 0.2
                          }
                        },
                        "type": "histogram"
                      }
                    ],
                    "histogram2d": [
                      {
                        "colorbar": {
                          "outlinewidth": 0,
                          "ticks": ""
                        },
                        "colorscale": [
                          [
                            0,
                            "#0d0887"
                          ],
                          [
                            0.1111111111111111,
                            "#46039f"
                          ],
                          [
                            0.2222222222222222,
                            "#7201a8"
                          ],
                          [
                            0.3333333333333333,
                            "#9c179e"
                          ],
                          [
                            0.4444444444444444,
                            "#bd3786"
                          ],
                          [
                            0.5555555555555556,
                            "#d8576b"
                          ],
                          [
                            0.6666666666666666,
                            "#ed7953"
                          ],
                          [
                            0.7777777777777778,
                            "#fb9f3a"
                          ],
                          [
                            0.8888888888888888,
                            "#fdca26"
                          ],
                          [
                            1,
                            "#f0f921"
                          ]
                        ],
                        "type": "histogram2d"
                      }
                    ],
                    "histogram2dcontour": [
                      {
                        "colorbar": {
                          "outlinewidth": 0,
                          "ticks": ""
                        },
                        "colorscale": [
                          [
                            0,
                            "#0d0887"
                          ],
                          [
                            0.1111111111111111,
                            "#46039f"
                          ],
                          [
                            0.2222222222222222,
                            "#7201a8"
                          ],
                          [
                            0.3333333333333333,
                            "#9c179e"
                          ],
                          [
                            0.4444444444444444,
                            "#bd3786"
                          ],
                          [
                            0.5555555555555556,
                            "#d8576b"
                          ],
                          [
                            0.6666666666666666,
                            "#ed7953"
                          ],
                          [
                            0.7777777777777778,
                            "#fb9f3a"
                          ],
                          [
                            0.8888888888888888,
                            "#fdca26"
                          ],
                          [
                            1,
                            "#f0f921"
                          ]
                        ],
                        "type": "histogram2dcontour"
                      }
                    ],
                    "mesh3d": [
                      {
                        "colorbar": {
                          "outlinewidth": 0,
                          "ticks": ""
                        },
                        "type": "mesh3d"
                      }
                    ],
                    "parcoords": [
                      {
                        "line": {
                          "colorbar": {
                            "outlinewidth": 0,
                            "ticks": ""
                          }
                        },
                        "type": "parcoords"
                      }
                    ],
                    "pie": [
                      {
                        "automargin": true,
                        "type": "pie"
                      }
                    ],
                    "scatter": [
                      {
                        "fillpattern": {
                          "fillmode": "overlay",
                          "size": 10,
                          "solidity": 0.2
                        },
                        "type": "scatter"
                      }
                    ],
                    "scatter3d": [
                      {
                        "line": {
                          "colorbar": {
                            "outlinewidth": 0,
                            "ticks": ""
                          }
                        },
                        "marker": {
                          "colorbar": {
                            "outlinewidth": 0,
                            "ticks": ""
                          }
                        },
                        "type": "scatter3d"
                      }
                    ],
                    "scattercarpet": [
                      {
                        "marker": {
                          "colorbar": {
                            "outlinewidth": 0,
                            "ticks": ""
                          }
                        },
                        "type": "scattercarpet"
                      }
                    ],
                    "scattergeo": [
                      {
                        "marker": {
                          "colorbar": {
                            "outlinewidth": 0,
                            "ticks": ""
                          }
                        },
                        "type": "scattergeo"
                      }
                    ],
                    "scattergl": [
                      {
                        "marker": {
                          "colorbar": {
                            "outlinewidth": 0,
                            "ticks": ""
                          }
                        },
                        "type": "scattergl"
                      }
                    ],
                    "scattermapbox": [
                      {
                        "marker": {
                          "colorbar": {
                            "outlinewidth": 0,
                            "ticks": ""
                          }
                        },
                        "type": "scattermapbox"
                      }
                    ],
                    "scatterpolar": [
                      {
                        "marker": {
                          "colorbar": {
                            "outlinewidth": 0,
                            "ticks": ""
                          }
                        },
                        "type": "scatterpolar"
                      }
                    ],
                    "scatterpolargl": [
                      {
                        "marker": {
                          "colorbar": {
                            "outlinewidth": 0,
                            "ticks": ""
                          }
                        },
                        "type": "scatterpolargl"
                      }
                    ],
                    "scatterternary": [
                      {
                        "marker": {
                          "colorbar": {
                            "outlinewidth": 0,
                            "ticks": ""
                          }
                        },
                        "type": "scatterternary"
                      }
                    ],
                    "surface": [
                      {
                        "colorbar": {
                          "outlinewidth": 0,
                          "ticks": ""
                        },
                        "colorscale": [
                          [
                            0,
                            "#0d0887"
                          ],
                          [
                            0.1111111111111111,
                            "#46039f"
                          ],
                          [
                            0.2222222222222222,
                            "#7201a8"
                          ],
                          [
                            0.3333333333333333,
                            "#9c179e"
                          ],
                          [
                            0.4444444444444444,
                            "#bd3786"
                          ],
                          [
                            0.5555555555555556,
                            "#d8576b"
                          ],
                          [
                            0.6666666666666666,
                            "#ed7953"
                          ],
                          [
                            0.7777777777777778,
                            "#fb9f3a"
                          ],
                          [
                            0.8888888888888888,
                            "#fdca26"
                          ],
                          [
                            1,
                            "#f0f921"
                          ]
                        ],
                        "type": "surface"
                      }
                    ],
                    "table": [
                      {
                        "cells": {
                          "fill": {
                            "color": "#EBF0F8"
                          },
                          "line": {
                            "color": "white"
                          }
                        },
                        "header": {
                          "fill": {
                            "color": "#C8D4E3"
                          },
                          "line": {
                            "color": "white"
                          }
                        },
                        "type": "table"
                      }
                    ]
                  },
                  "layout": {
                    "annotationdefaults": {
                      "arrowcolor": "#2a3f5f",
                      "arrowhead": 0,
                      "arrowwidth": 1
                    },
                    "autotypenumbers": "strict",
                    "coloraxis": {
                      "colorbar": {
                        "outlinewidth": 0,
                        "ticks": ""
                      }
                    },
                    "colorscale": {
                      "diverging": [
                        [
                          0,
                          "#8e0152"
                        ],
                        [
                          0.1,
                          "#c51b7d"
                        ],
                        [
                          0.2,
                          "#de77ae"
                        ],
                        [
                          0.3,
                          "#f1b6da"
                        ],
                        [
                          0.4,
                          "#fde0ef"
                        ],
                        [
                          0.5,
                          "#f7f7f7"
                        ],
                        [
                          0.6,
                          "#e6f5d0"
                        ],
                        [
                          0.7,
                          "#b8e186"
                        ],
                        [
                          0.8,
                          "#7fbc41"
                        ],
                        [
                          0.9,
                          "#4d9221"
                        ],
                        [
                          1,
                          "#276419"
                        ]
                      ],
                      "sequential": [
                        [
                          0,
                          "#0d0887"
                        ],
                        [
                          0.1111111111111111,
                          "#46039f"
                        ],
                        [
                          0.2222222222222222,
                          "#7201a8"
                        ],
                        [
                          0.3333333333333333,
                          "#9c179e"
                        ],
                        [
                          0.4444444444444444,
                          "#bd3786"
                        ],
                        [
                          0.5555555555555556,
                          "#d8576b"
                        ],
                        [
                          0.6666666666666666,
                          "#ed7953"
                        ],
                        [
                          0.7777777777777778,
                          "#fb9f3a"
                        ],
                        [
                          0.8888888888888888,
                          "#fdca26"
                        ],
                        [
                          1,
                          "#f0f921"
                        ]
                      ],
                      "sequentialminus": [
                        [
                          0,
                          "#0d0887"
                        ],
                        [
                          0.1111111111111111,
                          "#46039f"
                        ],
                        [
                          0.2222222222222222,
                          "#7201a8"
                        ],
                        [
                          0.3333333333333333,
                          "#9c179e"
                        ],
                        [
                          0.4444444444444444,
                          "#bd3786"
                        ],
                        [
                          0.5555555555555556,
                          "#d8576b"
                        ],
                        [
                          0.6666666666666666,
                          "#ed7953"
                        ],
                        [
                          0.7777777777777778,
                          "#fb9f3a"
                        ],
                        [
                          0.8888888888888888,
                          "#fdca26"
                        ],
                        [
                          1,
                          "#f0f921"
                        ]
                      ]
                    },
                    "colorway": [
                      "#636efa",
                      "#EF553B",
                      "#00cc96",
                      "#ab63fa",
                      "#FFA15A",
                      "#19d3f3",
                      "#FF6692",
                      "#B6E880",
                      "#FF97FF",
                      "#FECB52"
                    ],
                    "font": {
                      "color": "#2a3f5f"
                    },
                    "geo": {
                      "bgcolor": "white",
                      "lakecolor": "white",
                      "landcolor": "#E5ECF6",
                      "showlakes": true,
                      "showland": true,
                      "subunitcolor": "white"
                    },
                    "hoverlabel": {
                      "align": "left"
                    },
                    "hovermode": "closest",
                    "mapbox": {
                      "style": "light"
                    },
                    "paper_bgcolor": "white",
                    "plot_bgcolor": "#E5ECF6",
                    "polar": {
                      "angularaxis": {
                        "gridcolor": "white",
                        "linecolor": "white",
                        "ticks": ""
                      },
                      "bgcolor": "#E5ECF6",
                      "radialaxis": {
                        "gridcolor": "white",
                        "linecolor": "white",
                        "ticks": ""
                      }
                    },
                    "scene": {
                      "xaxis": {
                        "backgroundcolor": "#E5ECF6",
                        "gridcolor": "white",
                        "gridwidth": 2,
                        "linecolor": "white",
                        "showbackground": true,
                        "ticks": "",
                        "zerolinecolor": "white"
                      },
                      "yaxis": {
                        "backgroundcolor": "#E5ECF6",
                        "gridcolor": "white",
                        "gridwidth": 2,
                        "linecolor": "white",
                        "showbackground": true,
                        "ticks": "",
                        "zerolinecolor": "white"
                      },
                      "zaxis": {
                        "backgroundcolor": "#E5ECF6",
                        "gridcolor": "white",
                        "gridwidth": 2,
                        "linecolor": "white",
                        "showbackground": true,
                        "ticks": "",
                        "zerolinecolor": "white"
                      }
                    },
                    "shapedefaults": {
                      "line": {
                        "color": "#2a3f5f"
                      }
                    },
                    "ternary": {
                      "aaxis": {
                        "gridcolor": "white",
                        "linecolor": "white",
                        "ticks": ""
                      },
                      "baxis": {
                        "gridcolor": "white",
                        "linecolor": "white",
                        "ticks": ""
                      },
                      "bgcolor": "#E5ECF6",
                      "caxis": {
                        "gridcolor": "white",
                        "linecolor": "white",
                        "ticks": ""
                      }
                    },
                    "title": {
                      "x": 0.05
                    },
                    "xaxis": {
                      "automargin": true,
                      "gridcolor": "white",
                      "linecolor": "white",
                      "ticks": "",
                      "title": {
                        "standoff": 15
                      },
                      "zerolinecolor": "white",
                      "zerolinewidth": 2
                    },
                    "yaxis": {
                      "automargin": true,
                      "gridcolor": "white",
                      "linecolor": "white",
                      "ticks": "",
                      "title": {
                        "standoff": 15
                      },
                      "zerolinecolor": "white",
                      "zerolinewidth": 2
                    }
                  }
                },
                "title": {
                  "font": {
                    "color": "black",
                    "size": 24
                  },
                  "text": "Distribuição dos alunos por idade<br><sup size=1 style=\"color:#555655\">Segundo o PSE 2020</sup>"
                },
                "width": 700,
                "xaxis": {
                  "anchor": "y",
                  "domain": [
                    0,
                    1
                  ],
                  "tickfont": {
                    "size": 14
                  },
                  "tickmode": "array",
                  "ticktext": [
                    "6 - 7",
                    "8 - 9",
                    "10 - 11",
                    "12 - 13",
                    "14 - 15",
                    "16 - 17",
                    "18 - 19",
                    "20 - 21"
                  ],
                  "tickvals": [
                    6.5,
                    8.5,
                    10.5,
                    12.5,
                    14.5,
                    16.5,
                    18.5,
                    20.5
                  ],
                  "title": {
                    "text": "Idade"
                  }
                },
                "yaxis": {
                  "anchor": "x",
                  "domain": [
                    0,
                    1
                  ],
                  "range": [
                    0,
                    240
                  ],
                  "tickfont": {
                    "size": 14
                  },
                  "title": {
                    "text": "Nº de Alunos"
                  }
                }
              }
            }
          },
          "metadata": {},
          "output_type": "display_data"
        }
      ],
      "source": [
        "aluno_idade = pd.DataFrame({\n",
        "    \"Idade\": [7, 8, 9, 10, 11, 12, 13, 14, 15, 16, 17, 18, 19, 20, 21],\n",
        "    \"Nº de Alunos\": [11, 45, 62, 107, 107, 84, 84, 84, 52, 62, 57, 20, 6, 1, 1]\n",
        "})\n",
        "\n",
        "fig = px.histogram(aluno_idade, x=\"Idade\", y=\"Nº de Alunos\", text_auto=True, color_discrete_sequence=[\"#68a4d0\"], nbins= 8)\n",
        "\n",
        "# Ajustando o layout do gráfico\n",
        "fig.update_layout(width=700, height=500, font_family = 'Open Sans', font_color= \"black\", \n",
        "                  title_font_color= \"black\", title_font_size=24, title_text='Distribuição dos alunos por idade' + \n",
        "                  '<br><sup size=1 style=\"color:#555655\">Segundo o PSE 2020</sup>', \n",
        "                  xaxis_title='Idade', yaxis_title='Nº de Alunos',\n",
        "                  xaxis_tickfont_size=14, yaxis_tickfont_size=14, yaxis_range = [0,240], \n",
        "                  plot_bgcolor= \"#f8f9fa\", showlegend=False, bargap=0.1)\n",
        "\n",
        "fig.update_xaxes(tickmode='array', tickvals=np.arange(6.5,22.5,2), ticktext = [\"6 - 7\", \"8 - 9\", \"10 - 11\", \"12 - 13\", \n",
        "                                                                               \"14 - 15\", \"16 - 17\", \"18 - 19\", \"20 - 21\"])\n",
        "fig.update_traces(textfont_size=15, textposition=\"outside\", texttemplate='<b>%{y}</b>', cliponaxis=False)\n",
        "\n",
        "fig.show()"
      ]
    },
    {
      "cell_type": "markdown",
      "metadata": {},
      "source": [
        "##### Passos Mágicos - Nº de Alunos por domicílio"
      ]
    },
    {
      "cell_type": "code",
      "execution_count": 174,
      "metadata": {},
      "outputs": [
        {
          "data": {
            "application/vnd.plotly.v1+json": {
              "config": {
                "plotlyServerURL": "https://plot.ly"
              },
              "data": [
                {
                  "alignmentgroup": "True",
                  "bingroup": "x",
                  "cliponaxis": false,
                  "histfunc": "sum",
                  "hovertemplate": "Nº de Alunos Passos Mágicos=%{x}<br>sum of Nº de Domicílios=%{y}<extra></extra>",
                  "legendgroup": "",
                  "marker": {
                    "color": "#68a4d0",
                    "pattern": {
                      "shape": ""
                    }
                  },
                  "name": "",
                  "nbinsx": 5,
                  "offsetgroup": "",
                  "orientation": "v",
                  "showlegend": false,
                  "textfont": {
                    "size": 15
                  },
                  "textposition": "outside",
                  "texttemplate": "<b>%{y}</b>",
                  "type": "histogram",
                  "x": [
                    1,
                    2,
                    3,
                    0,
                    4
                  ],
                  "xaxis": "x",
                  "y": [
                    531,
                    103,
                    13,
                    5,
                    2
                  ],
                  "yaxis": "y"
                }
              ],
              "layout": {
                "bargap": 0.1,
                "barmode": "relative",
                "font": {
                  "color": "black",
                  "family": "Open Sans"
                },
                "height": 500,
                "legend": {
                  "tracegroupgap": 0
                },
                "margin": {
                  "t": 60
                },
                "plot_bgcolor": "#f8f9fa",
                "showlegend": false,
                "template": {
                  "data": {
                    "bar": [
                      {
                        "error_x": {
                          "color": "#2a3f5f"
                        },
                        "error_y": {
                          "color": "#2a3f5f"
                        },
                        "marker": {
                          "line": {
                            "color": "#E5ECF6",
                            "width": 0.5
                          },
                          "pattern": {
                            "fillmode": "overlay",
                            "size": 10,
                            "solidity": 0.2
                          }
                        },
                        "type": "bar"
                      }
                    ],
                    "barpolar": [
                      {
                        "marker": {
                          "line": {
                            "color": "#E5ECF6",
                            "width": 0.5
                          },
                          "pattern": {
                            "fillmode": "overlay",
                            "size": 10,
                            "solidity": 0.2
                          }
                        },
                        "type": "barpolar"
                      }
                    ],
                    "carpet": [
                      {
                        "aaxis": {
                          "endlinecolor": "#2a3f5f",
                          "gridcolor": "white",
                          "linecolor": "white",
                          "minorgridcolor": "white",
                          "startlinecolor": "#2a3f5f"
                        },
                        "baxis": {
                          "endlinecolor": "#2a3f5f",
                          "gridcolor": "white",
                          "linecolor": "white",
                          "minorgridcolor": "white",
                          "startlinecolor": "#2a3f5f"
                        },
                        "type": "carpet"
                      }
                    ],
                    "choropleth": [
                      {
                        "colorbar": {
                          "outlinewidth": 0,
                          "ticks": ""
                        },
                        "type": "choropleth"
                      }
                    ],
                    "contour": [
                      {
                        "colorbar": {
                          "outlinewidth": 0,
                          "ticks": ""
                        },
                        "colorscale": [
                          [
                            0,
                            "#0d0887"
                          ],
                          [
                            0.1111111111111111,
                            "#46039f"
                          ],
                          [
                            0.2222222222222222,
                            "#7201a8"
                          ],
                          [
                            0.3333333333333333,
                            "#9c179e"
                          ],
                          [
                            0.4444444444444444,
                            "#bd3786"
                          ],
                          [
                            0.5555555555555556,
                            "#d8576b"
                          ],
                          [
                            0.6666666666666666,
                            "#ed7953"
                          ],
                          [
                            0.7777777777777778,
                            "#fb9f3a"
                          ],
                          [
                            0.8888888888888888,
                            "#fdca26"
                          ],
                          [
                            1,
                            "#f0f921"
                          ]
                        ],
                        "type": "contour"
                      }
                    ],
                    "contourcarpet": [
                      {
                        "colorbar": {
                          "outlinewidth": 0,
                          "ticks": ""
                        },
                        "type": "contourcarpet"
                      }
                    ],
                    "heatmap": [
                      {
                        "colorbar": {
                          "outlinewidth": 0,
                          "ticks": ""
                        },
                        "colorscale": [
                          [
                            0,
                            "#0d0887"
                          ],
                          [
                            0.1111111111111111,
                            "#46039f"
                          ],
                          [
                            0.2222222222222222,
                            "#7201a8"
                          ],
                          [
                            0.3333333333333333,
                            "#9c179e"
                          ],
                          [
                            0.4444444444444444,
                            "#bd3786"
                          ],
                          [
                            0.5555555555555556,
                            "#d8576b"
                          ],
                          [
                            0.6666666666666666,
                            "#ed7953"
                          ],
                          [
                            0.7777777777777778,
                            "#fb9f3a"
                          ],
                          [
                            0.8888888888888888,
                            "#fdca26"
                          ],
                          [
                            1,
                            "#f0f921"
                          ]
                        ],
                        "type": "heatmap"
                      }
                    ],
                    "heatmapgl": [
                      {
                        "colorbar": {
                          "outlinewidth": 0,
                          "ticks": ""
                        },
                        "colorscale": [
                          [
                            0,
                            "#0d0887"
                          ],
                          [
                            0.1111111111111111,
                            "#46039f"
                          ],
                          [
                            0.2222222222222222,
                            "#7201a8"
                          ],
                          [
                            0.3333333333333333,
                            "#9c179e"
                          ],
                          [
                            0.4444444444444444,
                            "#bd3786"
                          ],
                          [
                            0.5555555555555556,
                            "#d8576b"
                          ],
                          [
                            0.6666666666666666,
                            "#ed7953"
                          ],
                          [
                            0.7777777777777778,
                            "#fb9f3a"
                          ],
                          [
                            0.8888888888888888,
                            "#fdca26"
                          ],
                          [
                            1,
                            "#f0f921"
                          ]
                        ],
                        "type": "heatmapgl"
                      }
                    ],
                    "histogram": [
                      {
                        "marker": {
                          "pattern": {
                            "fillmode": "overlay",
                            "size": 10,
                            "solidity": 0.2
                          }
                        },
                        "type": "histogram"
                      }
                    ],
                    "histogram2d": [
                      {
                        "colorbar": {
                          "outlinewidth": 0,
                          "ticks": ""
                        },
                        "colorscale": [
                          [
                            0,
                            "#0d0887"
                          ],
                          [
                            0.1111111111111111,
                            "#46039f"
                          ],
                          [
                            0.2222222222222222,
                            "#7201a8"
                          ],
                          [
                            0.3333333333333333,
                            "#9c179e"
                          ],
                          [
                            0.4444444444444444,
                            "#bd3786"
                          ],
                          [
                            0.5555555555555556,
                            "#d8576b"
                          ],
                          [
                            0.6666666666666666,
                            "#ed7953"
                          ],
                          [
                            0.7777777777777778,
                            "#fb9f3a"
                          ],
                          [
                            0.8888888888888888,
                            "#fdca26"
                          ],
                          [
                            1,
                            "#f0f921"
                          ]
                        ],
                        "type": "histogram2d"
                      }
                    ],
                    "histogram2dcontour": [
                      {
                        "colorbar": {
                          "outlinewidth": 0,
                          "ticks": ""
                        },
                        "colorscale": [
                          [
                            0,
                            "#0d0887"
                          ],
                          [
                            0.1111111111111111,
                            "#46039f"
                          ],
                          [
                            0.2222222222222222,
                            "#7201a8"
                          ],
                          [
                            0.3333333333333333,
                            "#9c179e"
                          ],
                          [
                            0.4444444444444444,
                            "#bd3786"
                          ],
                          [
                            0.5555555555555556,
                            "#d8576b"
                          ],
                          [
                            0.6666666666666666,
                            "#ed7953"
                          ],
                          [
                            0.7777777777777778,
                            "#fb9f3a"
                          ],
                          [
                            0.8888888888888888,
                            "#fdca26"
                          ],
                          [
                            1,
                            "#f0f921"
                          ]
                        ],
                        "type": "histogram2dcontour"
                      }
                    ],
                    "mesh3d": [
                      {
                        "colorbar": {
                          "outlinewidth": 0,
                          "ticks": ""
                        },
                        "type": "mesh3d"
                      }
                    ],
                    "parcoords": [
                      {
                        "line": {
                          "colorbar": {
                            "outlinewidth": 0,
                            "ticks": ""
                          }
                        },
                        "type": "parcoords"
                      }
                    ],
                    "pie": [
                      {
                        "automargin": true,
                        "type": "pie"
                      }
                    ],
                    "scatter": [
                      {
                        "fillpattern": {
                          "fillmode": "overlay",
                          "size": 10,
                          "solidity": 0.2
                        },
                        "type": "scatter"
                      }
                    ],
                    "scatter3d": [
                      {
                        "line": {
                          "colorbar": {
                            "outlinewidth": 0,
                            "ticks": ""
                          }
                        },
                        "marker": {
                          "colorbar": {
                            "outlinewidth": 0,
                            "ticks": ""
                          }
                        },
                        "type": "scatter3d"
                      }
                    ],
                    "scattercarpet": [
                      {
                        "marker": {
                          "colorbar": {
                            "outlinewidth": 0,
                            "ticks": ""
                          }
                        },
                        "type": "scattercarpet"
                      }
                    ],
                    "scattergeo": [
                      {
                        "marker": {
                          "colorbar": {
                            "outlinewidth": 0,
                            "ticks": ""
                          }
                        },
                        "type": "scattergeo"
                      }
                    ],
                    "scattergl": [
                      {
                        "marker": {
                          "colorbar": {
                            "outlinewidth": 0,
                            "ticks": ""
                          }
                        },
                        "type": "scattergl"
                      }
                    ],
                    "scattermapbox": [
                      {
                        "marker": {
                          "colorbar": {
                            "outlinewidth": 0,
                            "ticks": ""
                          }
                        },
                        "type": "scattermapbox"
                      }
                    ],
                    "scatterpolar": [
                      {
                        "marker": {
                          "colorbar": {
                            "outlinewidth": 0,
                            "ticks": ""
                          }
                        },
                        "type": "scatterpolar"
                      }
                    ],
                    "scatterpolargl": [
                      {
                        "marker": {
                          "colorbar": {
                            "outlinewidth": 0,
                            "ticks": ""
                          }
                        },
                        "type": "scatterpolargl"
                      }
                    ],
                    "scatterternary": [
                      {
                        "marker": {
                          "colorbar": {
                            "outlinewidth": 0,
                            "ticks": ""
                          }
                        },
                        "type": "scatterternary"
                      }
                    ],
                    "surface": [
                      {
                        "colorbar": {
                          "outlinewidth": 0,
                          "ticks": ""
                        },
                        "colorscale": [
                          [
                            0,
                            "#0d0887"
                          ],
                          [
                            0.1111111111111111,
                            "#46039f"
                          ],
                          [
                            0.2222222222222222,
                            "#7201a8"
                          ],
                          [
                            0.3333333333333333,
                            "#9c179e"
                          ],
                          [
                            0.4444444444444444,
                            "#bd3786"
                          ],
                          [
                            0.5555555555555556,
                            "#d8576b"
                          ],
                          [
                            0.6666666666666666,
                            "#ed7953"
                          ],
                          [
                            0.7777777777777778,
                            "#fb9f3a"
                          ],
                          [
                            0.8888888888888888,
                            "#fdca26"
                          ],
                          [
                            1,
                            "#f0f921"
                          ]
                        ],
                        "type": "surface"
                      }
                    ],
                    "table": [
                      {
                        "cells": {
                          "fill": {
                            "color": "#EBF0F8"
                          },
                          "line": {
                            "color": "white"
                          }
                        },
                        "header": {
                          "fill": {
                            "color": "#C8D4E3"
                          },
                          "line": {
                            "color": "white"
                          }
                        },
                        "type": "table"
                      }
                    ]
                  },
                  "layout": {
                    "annotationdefaults": {
                      "arrowcolor": "#2a3f5f",
                      "arrowhead": 0,
                      "arrowwidth": 1
                    },
                    "autotypenumbers": "strict",
                    "coloraxis": {
                      "colorbar": {
                        "outlinewidth": 0,
                        "ticks": ""
                      }
                    },
                    "colorscale": {
                      "diverging": [
                        [
                          0,
                          "#8e0152"
                        ],
                        [
                          0.1,
                          "#c51b7d"
                        ],
                        [
                          0.2,
                          "#de77ae"
                        ],
                        [
                          0.3,
                          "#f1b6da"
                        ],
                        [
                          0.4,
                          "#fde0ef"
                        ],
                        [
                          0.5,
                          "#f7f7f7"
                        ],
                        [
                          0.6,
                          "#e6f5d0"
                        ],
                        [
                          0.7,
                          "#b8e186"
                        ],
                        [
                          0.8,
                          "#7fbc41"
                        ],
                        [
                          0.9,
                          "#4d9221"
                        ],
                        [
                          1,
                          "#276419"
                        ]
                      ],
                      "sequential": [
                        [
                          0,
                          "#0d0887"
                        ],
                        [
                          0.1111111111111111,
                          "#46039f"
                        ],
                        [
                          0.2222222222222222,
                          "#7201a8"
                        ],
                        [
                          0.3333333333333333,
                          "#9c179e"
                        ],
                        [
                          0.4444444444444444,
                          "#bd3786"
                        ],
                        [
                          0.5555555555555556,
                          "#d8576b"
                        ],
                        [
                          0.6666666666666666,
                          "#ed7953"
                        ],
                        [
                          0.7777777777777778,
                          "#fb9f3a"
                        ],
                        [
                          0.8888888888888888,
                          "#fdca26"
                        ],
                        [
                          1,
                          "#f0f921"
                        ]
                      ],
                      "sequentialminus": [
                        [
                          0,
                          "#0d0887"
                        ],
                        [
                          0.1111111111111111,
                          "#46039f"
                        ],
                        [
                          0.2222222222222222,
                          "#7201a8"
                        ],
                        [
                          0.3333333333333333,
                          "#9c179e"
                        ],
                        [
                          0.4444444444444444,
                          "#bd3786"
                        ],
                        [
                          0.5555555555555556,
                          "#d8576b"
                        ],
                        [
                          0.6666666666666666,
                          "#ed7953"
                        ],
                        [
                          0.7777777777777778,
                          "#fb9f3a"
                        ],
                        [
                          0.8888888888888888,
                          "#fdca26"
                        ],
                        [
                          1,
                          "#f0f921"
                        ]
                      ]
                    },
                    "colorway": [
                      "#636efa",
                      "#EF553B",
                      "#00cc96",
                      "#ab63fa",
                      "#FFA15A",
                      "#19d3f3",
                      "#FF6692",
                      "#B6E880",
                      "#FF97FF",
                      "#FECB52"
                    ],
                    "font": {
                      "color": "#2a3f5f"
                    },
                    "geo": {
                      "bgcolor": "white",
                      "lakecolor": "white",
                      "landcolor": "#E5ECF6",
                      "showlakes": true,
                      "showland": true,
                      "subunitcolor": "white"
                    },
                    "hoverlabel": {
                      "align": "left"
                    },
                    "hovermode": "closest",
                    "mapbox": {
                      "style": "light"
                    },
                    "paper_bgcolor": "white",
                    "plot_bgcolor": "#E5ECF6",
                    "polar": {
                      "angularaxis": {
                        "gridcolor": "white",
                        "linecolor": "white",
                        "ticks": ""
                      },
                      "bgcolor": "#E5ECF6",
                      "radialaxis": {
                        "gridcolor": "white",
                        "linecolor": "white",
                        "ticks": ""
                      }
                    },
                    "scene": {
                      "xaxis": {
                        "backgroundcolor": "#E5ECF6",
                        "gridcolor": "white",
                        "gridwidth": 2,
                        "linecolor": "white",
                        "showbackground": true,
                        "ticks": "",
                        "zerolinecolor": "white"
                      },
                      "yaxis": {
                        "backgroundcolor": "#E5ECF6",
                        "gridcolor": "white",
                        "gridwidth": 2,
                        "linecolor": "white",
                        "showbackground": true,
                        "ticks": "",
                        "zerolinecolor": "white"
                      },
                      "zaxis": {
                        "backgroundcolor": "#E5ECF6",
                        "gridcolor": "white",
                        "gridwidth": 2,
                        "linecolor": "white",
                        "showbackground": true,
                        "ticks": "",
                        "zerolinecolor": "white"
                      }
                    },
                    "shapedefaults": {
                      "line": {
                        "color": "#2a3f5f"
                      }
                    },
                    "ternary": {
                      "aaxis": {
                        "gridcolor": "white",
                        "linecolor": "white",
                        "ticks": ""
                      },
                      "baxis": {
                        "gridcolor": "white",
                        "linecolor": "white",
                        "ticks": ""
                      },
                      "bgcolor": "#E5ECF6",
                      "caxis": {
                        "gridcolor": "white",
                        "linecolor": "white",
                        "ticks": ""
                      }
                    },
                    "title": {
                      "x": 0.05
                    },
                    "xaxis": {
                      "automargin": true,
                      "gridcolor": "white",
                      "linecolor": "white",
                      "ticks": "",
                      "title": {
                        "standoff": 15
                      },
                      "zerolinecolor": "white",
                      "zerolinewidth": 2
                    },
                    "yaxis": {
                      "automargin": true,
                      "gridcolor": "white",
                      "linecolor": "white",
                      "ticks": "",
                      "title": {
                        "standoff": 15
                      },
                      "zerolinecolor": "white",
                      "zerolinewidth": 2
                    }
                  }
                },
                "title": {
                  "font": {
                    "color": "black",
                    "size": 24
                  },
                  "text": "Distribuição dos domicílios por nº de alunos<br><sup size=1 style=\"color:#555655\">Segundo o PSE 2020</sup>"
                },
                "width": 700,
                "xaxis": {
                  "anchor": "y",
                  "domain": [
                    0,
                    1
                  ],
                  "tickfont": {
                    "size": 14
                  },
                  "title": {
                    "text": "Nº de Alunos Passos Mágicos"
                  }
                },
                "yaxis": {
                  "anchor": "x",
                  "domain": [
                    0,
                    1
                  ],
                  "range": [
                    0,
                    580
                  ],
                  "tickfont": {
                    "size": 14
                  },
                  "title": {
                    "text": "Nº de Domicílios"
                  }
                }
              }
            }
          },
          "metadata": {},
          "output_type": "display_data"
        }
      ],
      "source": [
        "domicilio_n_alunos = dados.D201_sum.value_counts().to_frame().reset_index()\n",
        "domicilio_n_alunos.columns = [\"Nº de Alunos Passos Mágicos\", \"Nº de Domicílios\"]\n",
        "\n",
        "fig = px.histogram(domicilio_n_alunos, x=\"Nº de Alunos Passos Mágicos\", y=\"Nº de Domicílios\", \n",
        "                   text_auto=True, color_discrete_sequence=[\"#68a4d0\"], nbins= 5)\n",
        "\n",
        "# Ajustando o layout do gráfico\n",
        "fig.update_layout(width=700, height=500, font_family = 'Open Sans', font_color= \"black\", \n",
        "                  title_font_color= \"black\", title_font_size=24, title_text='Distribuição dos domicílios por nº de alunos' + \n",
        "                  '<br><sup size=1 style=\"color:#555655\">Segundo o PSE 2020</sup>', \n",
        "                  xaxis_title='Nº de Alunos Passos Mágicos', yaxis_title='Nº de Domicílios',\n",
        "                  xaxis_tickfont_size=14, yaxis_tickfont_size=14, yaxis_range = [0,580], \n",
        "                  plot_bgcolor= \"#f8f9fa\", showlegend=False, bargap=0.1)\n",
        "\n",
        "fig.update_traces(textfont_size=15, textposition=\"outside\", texttemplate='<b>%{y}</b>', cliponaxis=False)\n",
        "\n",
        "fig.show()"
      ]
    },
    {
      "cell_type": "markdown",
      "metadata": {},
      "source": [
        "##### Passos Mágicos - Distribuição dos alunos por núcleo"
      ]
    },
    {
      "cell_type": "code",
      "execution_count": 250,
      "metadata": {},
      "outputs": [
        {
          "data": {
            "image/png": "[encoded data removed]",
            "text/plain": [
              "<Waffle size 640x480 with 1 Axes>"
            ]
          },
          "metadata": {},
          "output_type": "display_data"
        }
      ],
      "source": [
        "alunos_nucleo = dados.loc[dados.index.repeat(dados.D201_sum)].V102_first.value_counts(normalize=True)\n",
        "data = (alunos_nucleo * 100)\n",
        "\n",
        "fig = plt.figure(FigureClass=Waffle, rows=5, values=data, colors=[\"#f58334\", \"#fec52b\", \"#ed3237\", \"#0367b0\"],\n",
        "                title={'label': 'Total de Alunos Passos Mágicos por núcleo', 'loc': 'left', 'size':10},\n",
        "                labels=[f\"{k} ({v:.0f}%)\" for k, v in data.items()],\n",
        "                legend={'loc': 'lower left', 'bbox_to_anchor': (0, -0.4), 'ncol': 2, 'framealpha': 0},\n",
        "                starting_location='NW', block_arranging_style='snake')"
      ]
    },
    {
      "cell_type": "markdown",
      "metadata": {},
      "source": [
        "#### Dados de ocupação"
      ]
    },
    {
      "cell_type": "markdown",
      "metadata": {},
      "source": [
        "**Dicionário dos dados**\n",
        "\n",
        "- ** :** aaaa"
      ]
    },
    {
      "cell_type": "code",
      "execution_count": 27,
      "metadata": {},
      "outputs": [
        {
          "data": {
            "text/html": [
              "<div>\n",
              "<style scoped>\n",
              "    .dataframe tbody tr th:only-of-type {\n",
              "        vertical-align: middle;\n",
              "    }\n",
              "\n",
              "    .dataframe tbody tr th {\n",
              "        vertical-align: top;\n",
              "    }\n",
              "\n",
              "    .dataframe thead th {\n",
              "        text-align: right;\n",
              "    }\n",
              "</style>\n",
              "<table border=\"1\" class=\"dataframe\">\n",
              "  <thead>\n",
              "    <tr style=\"text-align: right;\">\n",
              "      <th></th>\n",
              "      <th>V010</th>\n",
              "      <th>V102_first</th>\n",
              "      <th>D301_sum</th>\n",
              "      <th>D302_sum</th>\n",
              "      <th>D303_sum</th>\n",
              "      <th>D304_sum</th>\n",
              "      <th>D305_sum</th>\n",
              "      <th>D306_sum</th>\n",
              "      <th>D307_sum</th>\n",
              "      <th>D316A_sum</th>\n",
              "      <th>D316B_sum</th>\n",
              "      <th>D330</th>\n",
              "    </tr>\n",
              "  </thead>\n",
              "  <tbody>\n",
              "    <tr>\n",
              "      <th>0</th>\n",
              "      <td>2020A1000</td>\n",
              "      <td>Centro</td>\n",
              "      <td>3</td>\n",
              "      <td>1</td>\n",
              "      <td>0</td>\n",
              "      <td>0</td>\n",
              "      <td>2</td>\n",
              "      <td>1</td>\n",
              "      <td>0</td>\n",
              "      <td>0</td>\n",
              "      <td>2</td>\n",
              "      <td>privação de trabalho formal</td>\n",
              "    </tr>\n",
              "    <tr>\n",
              "      <th>1</th>\n",
              "      <td>2020A1001</td>\n",
              "      <td>Centro</td>\n",
              "      <td>4</td>\n",
              "      <td>2</td>\n",
              "      <td>0</td>\n",
              "      <td>0</td>\n",
              "      <td>2</td>\n",
              "      <td>2</td>\n",
              "      <td>0</td>\n",
              "      <td>1</td>\n",
              "      <td>1</td>\n",
              "      <td>não</td>\n",
              "    </tr>\n",
              "    <tr>\n",
              "      <th>2</th>\n",
              "      <td>2020A1002</td>\n",
              "      <td>Centro</td>\n",
              "      <td>2</td>\n",
              "      <td>1</td>\n",
              "      <td>0</td>\n",
              "      <td>0</td>\n",
              "      <td>1</td>\n",
              "      <td>1</td>\n",
              "      <td>0</td>\n",
              "      <td>0</td>\n",
              "      <td>1</td>\n",
              "      <td>privação de trabalho formal</td>\n",
              "    </tr>\n",
              "  </tbody>\n",
              "</table>\n",
              "</div>"
            ],
            "text/plain": [
              "        V010 V102_first  D301_sum  D302_sum  D303_sum  D304_sum  D305_sum  \\\n",
              "0  2020A1000     Centro         3         1         0         0         2   \n",
              "1  2020A1001     Centro         4         2         0         0         2   \n",
              "2  2020A1002     Centro         2         1         0         0         1   \n",
              "\n",
              "   D306_sum  D307_sum  D316A_sum  D316B_sum                         D330  \n",
              "0         1         0          0          2  privação de trabalho formal  \n",
              "1         2         0          1          1                          não  \n",
              "2         1         0          0          1  privação de trabalho formal  "
            ]
          },
          "execution_count": 27,
          "metadata": {},
          "output_type": "execute_result"
        }
      ],
      "source": [
        "cols_ocupacao = [\"V010\", \"V102_first\", \"D301_sum\", \"D302_sum\", \"D303_sum\", \"D304_sum\",\n",
        "                  \"D305_sum\", \"D306_sum\", \"D307_sum\", \"D316A_sum\", \"D316B_sum\", \"D330\" ]\n",
        "df_pm_ocupacao = dados[cols_ocupacao]\n",
        "df_pm_ocupacao.head(3)"
      ]
    },
    {
      "cell_type": "markdown",
      "metadata": {},
      "source": [
        "#### Dados de renda familiar"
      ]
    },
    {
      "cell_type": "markdown",
      "metadata": {},
      "source": [
        "**Dicionário dos dados**\n",
        "\n",
        "- ** :** aaaa"
      ]
    },
    {
      "cell_type": "code",
      "execution_count": 28,
      "metadata": {},
      "outputs": [
        {
          "data": {
            "text/html": [
              "<div>\n",
              "<style scoped>\n",
              "    .dataframe tbody tr th:only-of-type {\n",
              "        vertical-align: middle;\n",
              "    }\n",
              "\n",
              "    .dataframe tbody tr th {\n",
              "        vertical-align: top;\n",
              "    }\n",
              "\n",
              "    .dataframe thead th {\n",
              "        text-align: right;\n",
              "    }\n",
              "</style>\n",
              "<table border=\"1\" class=\"dataframe\">\n",
              "  <thead>\n",
              "    <tr style=\"text-align: right;\">\n",
              "      <th></th>\n",
              "      <th>V010</th>\n",
              "      <th>V102_first</th>\n",
              "      <th>D319_sum</th>\n",
              "      <th>D401_sum</th>\n",
              "      <th>V402_sum</th>\n",
              "      <th>D403_sum</th>\n",
              "      <th>V404_sum</th>\n",
              "      <th>D405_sum</th>\n",
              "      <th>V406_sum</th>\n",
              "      <th>D407_sum</th>\n",
              "      <th>...</th>\n",
              "      <th>D413_sum</th>\n",
              "      <th>V414_sum</th>\n",
              "      <th>D415_sum</th>\n",
              "      <th>D416_sum</th>\n",
              "      <th>D420_sum</th>\n",
              "      <th>D421</th>\n",
              "      <th>D422</th>\n",
              "      <th>D423</th>\n",
              "      <th>D425</th>\n",
              "      <th>D499</th>\n",
              "    </tr>\n",
              "  </thead>\n",
              "  <tbody>\n",
              "    <tr>\n",
              "      <th>0</th>\n",
              "      <td>2020A1000</td>\n",
              "      <td>Centro</td>\n",
              "      <td>2613</td>\n",
              "      <td>0</td>\n",
              "      <td>0</td>\n",
              "      <td>0</td>\n",
              "      <td>0</td>\n",
              "      <td>0</td>\n",
              "      <td>0</td>\n",
              "      <td>0</td>\n",
              "      <td>...</td>\n",
              "      <td>0</td>\n",
              "      <td>0</td>\n",
              "      <td>0</td>\n",
              "      <td>0</td>\n",
              "      <td>2613</td>\n",
              "      <td>renda do trabalho</td>\n",
              "      <td>653.250000</td>\n",
              "      <td>R$ 557,01 a R$ 836,00</td>\n",
              "      <td>R$ 2.091,00 a R$ 3.135,00 [3 SM]</td>\n",
              "      <td>PSE2020</td>\n",
              "    </tr>\n",
              "    <tr>\n",
              "      <th>1</th>\n",
              "      <td>2020A1001</td>\n",
              "      <td>Centro</td>\n",
              "      <td>2613</td>\n",
              "      <td>0</td>\n",
              "      <td>0</td>\n",
              "      <td>0</td>\n",
              "      <td>0</td>\n",
              "      <td>0</td>\n",
              "      <td>0</td>\n",
              "      <td>1</td>\n",
              "      <td>...</td>\n",
              "      <td>0</td>\n",
              "      <td>0</td>\n",
              "      <td>1400</td>\n",
              "      <td>0</td>\n",
              "      <td>4013</td>\n",
              "      <td>trabalho e programas sociais</td>\n",
              "      <td>1003.250000</td>\n",
              "      <td>R$ 836,01 a R$ 1.115,00</td>\n",
              "      <td>R$ 3.136,00 a R$ 4.180,00 [4 SM]</td>\n",
              "      <td>EG</td>\n",
              "    </tr>\n",
              "    <tr>\n",
              "      <th>2</th>\n",
              "      <td>2020A1002</td>\n",
              "      <td>Centro</td>\n",
              "      <td>1568</td>\n",
              "      <td>0</td>\n",
              "      <td>0</td>\n",
              "      <td>0</td>\n",
              "      <td>0</td>\n",
              "      <td>0</td>\n",
              "      <td>0</td>\n",
              "      <td>0</td>\n",
              "      <td>...</td>\n",
              "      <td>0</td>\n",
              "      <td>0</td>\n",
              "      <td>0</td>\n",
              "      <td>0</td>\n",
              "      <td>1568</td>\n",
              "      <td>renda do trabalho</td>\n",
              "      <td>522.666667</td>\n",
              "      <td>R$ 278,01 a R$ 557,00</td>\n",
              "      <td>R$ 1.046,00 a R$ 1.568,00 [1,5 SM]</td>\n",
              "      <td>PSE2020</td>\n",
              "    </tr>\n",
              "  </tbody>\n",
              "</table>\n",
              "<p>3 rows × 25 columns</p>\n",
              "</div>"
            ],
            "text/plain": [
              "        V010 V102_first  D319_sum  D401_sum  V402_sum  D403_sum  V404_sum  \\\n",
              "0  2020A1000     Centro      2613         0         0         0         0   \n",
              "1  2020A1001     Centro      2613         0         0         0         0   \n",
              "2  2020A1002     Centro      1568         0         0         0         0   \n",
              "\n",
              "   D405_sum  V406_sum  D407_sum  ...  D413_sum  V414_sum  D415_sum  D416_sum  \\\n",
              "0         0         0         0  ...         0         0         0         0   \n",
              "1         0         0         1  ...         0         0      1400         0   \n",
              "2         0         0         0  ...         0         0         0         0   \n",
              "\n",
              "   D420_sum                          D421         D422  \\\n",
              "0      2613             renda do trabalho   653.250000   \n",
              "1      4013  trabalho e programas sociais  1003.250000   \n",
              "2      1568             renda do trabalho   522.666667   \n",
              "\n",
              "                      D423                                D425     D499  \n",
              "0    R$ 557,01 a R$ 836,00    R$ 2.091,00 a R$ 3.135,00 [3 SM]  PSE2020  \n",
              "1  R$ 836,01 a R$ 1.115,00    R$ 3.136,00 a R$ 4.180,00 [4 SM]       EG  \n",
              "2    R$ 278,01 a R$ 557,00  R$ 1.046,00 a R$ 1.568,00 [1,5 SM]  PSE2020  \n",
              "\n",
              "[3 rows x 25 columns]"
            ]
          },
          "execution_count": 28,
          "metadata": {},
          "output_type": "execute_result"
        }
      ],
      "source": [
        "cols_renda = [\"V010\", \"V102_first\", \"D319_sum\", \"D401_sum\", \"V402_sum\", \"D403_sum\", \"V404_sum\", \"D405_sum\", \"V406_sum\", \"D407_sum\", \n",
        "              \"V408_sum\", \"D409_sum\", \"V410_sum\", \"D411_sum\", \"V412_sum\", \"D413_sum\", \"V414_sum\", \"D415_sum\", \"D416_sum\", \"D420_sum\", \n",
        "              \"D421\", \"D422\", \"D423\", \"D425\", \"D499\"]\n",
        "df_pm_renda = dados[cols_renda]\n",
        "df_pm_renda.head(3)"
      ]
    },
    {
      "cell_type": "code",
      "execution_count": 29,
      "metadata": {},
      "outputs": [],
      "source": [
        "valores = [\n",
        "    \"V010\", \"V100_first\", \"V104_max\", \"V101_first\", \"V102_first\", \"V106_first\", \"D1601_sum\", \"D1602_sum\", \"D1603_sum\", \"D1604D\",\n",
        "    \"D1605D\", \"D1606D\", \"V107_first\", \"D1701_sum\", \"D1702_sum\", \"D108_first\", \"V109_first\", \"V201_first\", \"D201_sum\", \"D202_sum\",\n",
        "    \"D202A_sum\", \"D202B_sum\", \"D202C_sum\", \"D202D_sum\", \"D202E_sum\", \"D202F_sum\", \"D202G_sum\", \"D204_sum\", \"D301_sum\", \"D302_sum\",\n",
        "    \"D303_sum\", \"D304_sum\", \"D305_sum\", \"D306_sum\", \"D307_sum\", \"D316A_sum\", \"D316B_sum\", \"D330\", \"D319_sum\", \"D401_sum\", \"V402_sum\",\n",
        "    \"D403_sum\", \"V404_sum\", \"D405_sum\", \"V406_sum\", \"D407_sum\", \"V408_sum\", \"D409_sum\", \"V410_sum\", \"D411_sum\", \"V412_sum\", \"D413_sum\",\n",
        "    \"V414_sum\", \"D415_sum\", \"D416_sum\", \"D420_sum\", \"D421\", \"D422\", \"D423\", \"D425\", \"D499\", \"V501_first\", \"V502_first\", \"V503_first\",\n",
        "    \"V504_first\", \"V505_first\", \"V506_first\", \"V507_first\", \"V508_first\", \"V509_first\", \"V510_first\", \"V511_first\", \"V512_first\", \"V513_first\",\n",
        "    \"V514_first\", \"V515_first\", \"V516_first\", \"V517_first\", \"V518_first\", \"V519_first\"\n",
        "]"
      ]
    },
    {
      "cell_type": "markdown",
      "metadata": {},
      "source": [
        "#### Dados de moradia"
      ]
    },
    {
      "cell_type": "markdown",
      "metadata": {},
      "source": [
        "**Dicionário dos dados**\n",
        "\n",
        "- ** :** aaaa"
      ]
    },
    {
      "cell_type": "code",
      "execution_count": 30,
      "metadata": {},
      "outputs": [
        {
          "data": {
            "text/html": [
              "<div>\n",
              "<style scoped>\n",
              "    .dataframe tbody tr th:only-of-type {\n",
              "        vertical-align: middle;\n",
              "    }\n",
              "\n",
              "    .dataframe tbody tr th {\n",
              "        vertical-align: top;\n",
              "    }\n",
              "\n",
              "    .dataframe thead th {\n",
              "        text-align: right;\n",
              "    }\n",
              "</style>\n",
              "<table border=\"1\" class=\"dataframe\">\n",
              "  <thead>\n",
              "    <tr style=\"text-align: right;\">\n",
              "      <th></th>\n",
              "      <th>V010</th>\n",
              "      <th>V102_first</th>\n",
              "      <th>V501_first</th>\n",
              "      <th>V502_first</th>\n",
              "      <th>V503_first</th>\n",
              "      <th>V504_first</th>\n",
              "      <th>V505_first</th>\n",
              "      <th>V506_first</th>\n",
              "      <th>V507_first</th>\n",
              "      <th>V508_first</th>\n",
              "      <th>...</th>\n",
              "      <th>V510_first</th>\n",
              "      <th>V511_first</th>\n",
              "      <th>V512_first</th>\n",
              "      <th>V513_first</th>\n",
              "      <th>V514_first</th>\n",
              "      <th>V515_first</th>\n",
              "      <th>V516_first</th>\n",
              "      <th>V517_first</th>\n",
              "      <th>V518_first</th>\n",
              "      <th>V519_first</th>\n",
              "    </tr>\n",
              "  </thead>\n",
              "  <tbody>\n",
              "    <tr>\n",
              "      <th>0</th>\n",
              "      <td>2020A1000</td>\n",
              "      <td>Centro</td>\n",
              "      <td>Casa</td>\n",
              "      <td>Cerâmica, lajota ou pedra</td>\n",
              "      <td>4</td>\n",
              "      <td>2</td>\n",
              "      <td>Canalizada em pelo menos um cômodo</td>\n",
              "      <td>1</td>\n",
              "      <td>0</td>\n",
              "      <td>Fossa não ligada à rede</td>\n",
              "      <td>...</td>\n",
              "      <td>Gás de botijão</td>\n",
              "      <td>Alugado</td>\n",
              "      <td>3</td>\n",
              "      <td>Não</td>\n",
              "      <td>Sim</td>\n",
              "      <td>Sim, somente de tela fina (LED, LCD ou plasma)</td>\n",
              "      <td>Não</td>\n",
              "      <td>Sim</td>\n",
              "      <td>Sim</td>\n",
              "      <td>Sim</td>\n",
              "    </tr>\n",
              "    <tr>\n",
              "      <th>1</th>\n",
              "      <td>2020A1001</td>\n",
              "      <td>Centro</td>\n",
              "      <td>Casa</td>\n",
              "      <td>Cerâmica, lajota ou pedra</td>\n",
              "      <td>3</td>\n",
              "      <td>2</td>\n",
              "      <td>Canalizada em pelo menos um cômodo</td>\n",
              "      <td>1</td>\n",
              "      <td>0</td>\n",
              "      <td>Rede geral, rede pluvial ou fossa ligada à rede</td>\n",
              "      <td>...</td>\n",
              "      <td>Gás de botijão</td>\n",
              "      <td>Próprio de algum morador - já pago</td>\n",
              "      <td>4</td>\n",
              "      <td>Não</td>\n",
              "      <td>Sim</td>\n",
              "      <td>Sim, somente de tela fina (LED, LCD ou plasma)</td>\n",
              "      <td>Sim</td>\n",
              "      <td>Sim</td>\n",
              "      <td>Sim</td>\n",
              "      <td>Não</td>\n",
              "    </tr>\n",
              "    <tr>\n",
              "      <th>2</th>\n",
              "      <td>2020A1002</td>\n",
              "      <td>Centro</td>\n",
              "      <td>Casa</td>\n",
              "      <td>Cerâmica, lajota ou pedra</td>\n",
              "      <td>4</td>\n",
              "      <td>3</td>\n",
              "      <td>Canalizada em pelo menos um cômodo</td>\n",
              "      <td>1</td>\n",
              "      <td>0</td>\n",
              "      <td>Rede geral, rede pluvial ou fossa ligada à rede</td>\n",
              "      <td>...</td>\n",
              "      <td>Gás de botijão</td>\n",
              "      <td>Próprio de algum morador - já pago</td>\n",
              "      <td>2</td>\n",
              "      <td>Sim</td>\n",
              "      <td>Sim</td>\n",
              "      <td>Sim, somente de tela fina (LED, LCD ou plasma)</td>\n",
              "      <td>Sim</td>\n",
              "      <td>Sim</td>\n",
              "      <td>Sim</td>\n",
              "      <td>Sim</td>\n",
              "    </tr>\n",
              "  </tbody>\n",
              "</table>\n",
              "<p>3 rows × 21 columns</p>\n",
              "</div>"
            ],
            "text/plain": [
              "        V010 V102_first V501_first                 V502_first  V503_first  \\\n",
              "0  2020A1000     Centro       Casa  Cerâmica, lajota ou pedra           4   \n",
              "1  2020A1001     Centro       Casa  Cerâmica, lajota ou pedra           3   \n",
              "2  2020A1002     Centro       Casa  Cerâmica, lajota ou pedra           4   \n",
              "\n",
              "   V504_first                          V505_first  V506_first  V507_first  \\\n",
              "0           2  Canalizada em pelo menos um cômodo           1           0   \n",
              "1           2  Canalizada em pelo menos um cômodo           1           0   \n",
              "2           3  Canalizada em pelo menos um cômodo           1           0   \n",
              "\n",
              "                                        V508_first  ...      V510_first  \\\n",
              "0                          Fossa não ligada à rede  ...  Gás de botijão   \n",
              "1  Rede geral, rede pluvial ou fossa ligada à rede  ...  Gás de botijão   \n",
              "2  Rede geral, rede pluvial ou fossa ligada à rede  ...  Gás de botijão   \n",
              "\n",
              "                           V511_first V512_first  V513_first V514_first  \\\n",
              "0                             Alugado          3         Não        Sim   \n",
              "1  Próprio de algum morador - já pago          4         Não        Sim   \n",
              "2  Próprio de algum morador - já pago          2         Sim        Sim   \n",
              "\n",
              "                                       V515_first V516_first V517_first  \\\n",
              "0  Sim, somente de tela fina (LED, LCD ou plasma)        Não        Sim   \n",
              "1  Sim, somente de tela fina (LED, LCD ou plasma)        Sim        Sim   \n",
              "2  Sim, somente de tela fina (LED, LCD ou plasma)        Sim        Sim   \n",
              "\n",
              "  V518_first V519_first  \n",
              "0        Sim        Sim  \n",
              "1        Sim        Não  \n",
              "2        Sim        Sim  \n",
              "\n",
              "[3 rows x 21 columns]"
            ]
          },
          "execution_count": 30,
          "metadata": {},
          "output_type": "execute_result"
        }
      ],
      "source": [
        "cols_moradia= [\"V010\", \"V102_first\", \"V501_first\", \"V502_first\", \"V503_first\", \"V504_first\", \"V505_first\", \"V506_first\", \"V507_first\", \n",
        "              \"V508_first\", \"V509_first\", \"V510_first\", \"V511_first\", \"V512_first\", \"V513_first\", \"V514_first\", \"V515_first\", \n",
        "              \"V516_first\", \"V517_first\", \"V518_first\", \"V519_first\"]\n",
        "df_pm_moradia = dados[cols_moradia]\n",
        "df_pm_moradia.head(3)"
      ]
    }
  ],
  "metadata": {
    "colab": {
      "provenance": []
    },
    "kernelspec": {
      "display_name": "Python 3",
      "name": "python3"
    },
    "language_info": {
      "codemirror_mode": {
        "name": "ipython",
        "version": 3
      },
      "file_extension": ".py",
      "mimetype": "text/x-python",
      "name": "python",
      "nbconvert_exporter": "python",
      "pygments_lexer": "ipython3",
      "version": "3.10.5"
    }
  },
  "nbformat": 4,
  "nbformat_minor": 0
}
